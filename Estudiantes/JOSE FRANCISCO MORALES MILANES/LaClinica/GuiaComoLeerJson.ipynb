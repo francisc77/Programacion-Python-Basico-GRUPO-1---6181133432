{
 "cells": [
  {
   "cell_type": "markdown",
   "metadata": {},
   "source": [
    "Paso 1: Importar la Librería JSON\n",
    "Para manejar JSON en , necesitas importar la librería estándar json:\n",
    "Paso 2: Leer un Archivo JSON Local\n",
    "Si tienes un archivo JSON en tu computadora, puedes leerlo con la función open() y luego usar json.load() para convertir el contenido en un objeto de ."
   ]
  },
  {
   "cell_type": "code",
   "execution_count": 8,
   "metadata": {},
   "outputs": [
    {
     "name": "stdout",
     "output_type": "stream",
     "text": [
      "{'personas': [{'nombre': 'Juan', 'edad': 30, 'ciudad': 'San José', 'hobbies': ['leer', 'jugar fútbol', 'cocinar']}, {'nombre': 'Ana', 'edad': 25, 'ciudad': 'Cartago', 'hobbies': ['escribir', 'viajar']}]}\n",
      "Provincia San José 01\n",
      "Provincia Alajuela 02\n",
      "Provincia Cartago 03\n",
      "Provincia Heredia 04\n",
      "Provincia Guanacaste 05\n",
      "Provincia Puntarenas 06\n",
      "Provincia Limón 07\n"
     ]
    }
   ],
   "source": [
    "import json\n",
    "\n",
    "with open('datos.json', encoding='utf-8') as archivo: datos = json.load(archivo)\n",
    "print(datos)\n",
    "#pais= Paises.objects.create(name='Costa Rica', descripcion= 'Costa Rica', codigo= '001')\n",
    "   \n",
    "#with open(f'{settings.BASE_DIR}/Estudiantes/JOSE FRANCISCO MORALES MILANES/LaClinica/provincias.json', encoding='utf8') as json_file:\n",
    "with open('provincias.json', encoding='utf8') as json_file:\n",
    "    for item in json.load(json_file):\n",
    "        #provincia = Provincias()        \n",
    "        NombreProvincia = item['provincia']           \n",
    "        CodigoProvincia = item['codigo']                  \n",
    "        print(f'Provincia {NombreProvincia} {CodigoProvincia}')"
   ]
  },
  {
   "cell_type": "markdown",
   "metadata": {},
   "source": [
    "Paso 5: Acceder a los Datos del JSON\n",
    "Una vez que tienes el archivo cargado en datos, puedes acceder a sus elementos usando índices y claves, dependiendo de la estructura del JSON.\n",
    "Ejemplo de acceso paso a paso: # Accedemos al primer nivel: clave \"personas\""
   ]
  },
  {
   "cell_type": "code",
   "execution_count": 9,
   "metadata": {},
   "outputs": [],
   "source": [
    "# Accedemos al primer nivel: clave \"personas\"\n",
    "personas = datos[\"personas\"]\n",
    "# Accedemos al primer elemento de la lista \"personas\" \n",
    "primera_persona = personas[0]\n",
    "\n",
    "# Accedemos a los atributos de la primera persona\n",
    "nombre = primera_persona[\"nombre\"]\n",
    "edad = primera_persona[\"edad\"]\n",
    "ciudad = primera_persona[\"ciudad\"]\n",
    "hobbies = primera_persona[\"hobbies\"]"
   ]
  },
  {
   "cell_type": "markdown",
   "metadata": {},
   "source": [
    "Paso 6: Trabajar con Listas dentro del JSON\n",
    "En este caso, datos[\"personas\"] es una lista de personas. Puedes recorrerla usando un bucle para obtener información sobre cada persona."
   ]
  },
  {
   "cell_type": "code",
   "execution_count": 10,
   "metadata": {},
   "outputs": [
    {
     "name": "stdout",
     "output_type": "stream",
     "text": [
      "Nombre: Juan\n",
      "Edad: 30\n",
      "Ciudad: San José\n",
      "Hobbies: leer, jugar fútbol, cocinar\n",
      "-----\n",
      "Nombre: Ana\n",
      "Edad: 25\n",
      "Ciudad: Cartago\n",
      "Hobbies: escribir, viajar\n",
      "-----\n"
     ]
    }
   ],
   "source": [
    "for persona in datos[\"personas\"]: \n",
    "    print(f\"Nombre: {persona['nombre']}\") \n",
    "    print(f\"Edad: {persona['edad']}\") \n",
    "    print(f\"Ciudad: {persona['ciudad']}\") \n",
    "    print(\"Hobbies:\", \", \".join(persona[\"hobbies\"])) \n",
    "    print(\"-----\")"
   ]
  },
  {
   "cell_type": "markdown",
   "metadata": {},
   "source": [
    "Paso 7: Acceder a Variables Anidadas\n",
    "A veces, el JSON tiene estructuras más profundas, como diccionarios dentro de listas o listas dentro de diccionarios. Puedes acceder a estos datos con una combinación de índices y claves.\n",
    "# Supongamos que queremos acceder al segundo hobby de la primera persona"
   ]
  },
  {
   "cell_type": "code",
   "execution_count": null,
   "metadata": {},
   "outputs": [],
   "source": [
    "# Supongamos que queremos acceder al segundo hobby de la primera persona \n",
    "segundo_hobby = datos[\"personas\"][0][\"hobbies\"][1] \n",
    "print(f\"El segundo hobby de {datos['personas'][0]['nombre']} es: {segundo_hobby}\")"
   ]
  },
  {
   "cell_type": "markdown",
   "metadata": {},
   "source": [
    "Paso 8: Modificar Datos en el JSON\n",
    "Una vez que el JSON está cargado como un objeto de , puedes modificar sus valores igual que harías con cualquier lista o diccionario. \n"
   ]
  },
  {
   "cell_type": "code",
   "execution_count": 11,
   "metadata": {},
   "outputs": [
    {
     "name": "stdout",
     "output_type": "stream",
     "text": [
      "{'personas': [{'nombre': 'Juan', 'edad': 31, 'ciudad': 'San José', 'hobbies': ['leer', 'jugar fútbol', 'cocinar']}, {'nombre': 'Ana', 'edad': 25, 'ciudad': 'Cartago', 'hobbies': ['escribir', 'viajar', 'fotografía']}]}\n"
     ]
    }
   ],
   "source": [
    "# Cambiamos la edad de la primera persona\n",
    "datos[\"personas\"][0][\"edad\"] = 31\n",
    "# Agregamos un nuevo hobby a la segunda persona \n",
    "datos[\"personas\"][1][\"hobbies\"].append(\"fotografía\")\n",
    "\n",
    "print(datos)"
   ]
  },
  {
   "cell_type": "markdown",
   "metadata": {},
   "source": [
    "# Paso 9: Agregar Nuevos Elementos\n",
    "Puedes agregar nuevos elementos al JSON como lo harías con cualquier lista o diccionario en ."
   ]
  },
  {
   "cell_type": "code",
   "execution_count": 12,
   "metadata": {},
   "outputs": [
    {
     "name": "stdout",
     "output_type": "stream",
     "text": [
      "{'personas': [{'nombre': 'Juan', 'edad': 31, 'ciudad': 'San José', 'hobbies': ['leer', 'jugar fútbol', 'cocinar']}, {'nombre': 'Ana', 'edad': 25, 'ciudad': 'Cartago', 'hobbies': ['escribir', 'viajar', 'fotografía']}, {'nombre': 'Carlos', 'edad': 40, 'ciudad': 'Heredia', 'hobbies': ['correr', 'ajedrez']}]}\n"
     ]
    }
   ],
   "source": [
    "# Agregar una nueva persona \n",
    "nueva_persona = { \"nombre\": \"Carlos\", \"edad\": 40, \"ciudad\": \"Heredia\", \"hobbies\": [\"correr\", \"ajedrez\"] }\n",
    "datos[\"personas\"].append(nueva_persona)\n",
    "print(datos)"
   ]
  },
  {
   "cell_type": "markdown",
   "metadata": {},
   "source": [
    "Paso 10: Guardar los Cambios en un Archivo JSON\n",
    "Si has realizado cambios en los datos y quieres guardarlos, usa json.dump() para escribir los datos de vuelta a un archivo JSON.\n",
    "Descripción:\n",
    "\n",
    "'w': Abre el archivo en modo escritura.\n",
    "\n",
    "ensure_ascii=False: Asegura que los caracteres especiales se mantengan en UTF-8 (importante para tildes y ñ).\n",
    "\n",
    "indent=4: Añade una indentación de 4 espacios para que el archivo sea más fácil de leer."
   ]
  },
  {
   "cell_type": "code",
   "execution_count": 13,
   "metadata": {},
   "outputs": [],
   "source": [
    "with open('datos_actualizados.json', 'w', encoding='utf-8') as archivo:\n",
    "    json.dump(datos, archivo, ensure_ascii=False, indent=4)\n",
    "    "
   ]
  },
  {
   "cell_type": "markdown",
   "metadata": {},
   "source": [
    "# Paso 3: Leer un JSON desde una URL\n",
    "Si tu archivo JSON está en línea, puedes usar las librerías requests y json para obtener y leer el archivo.\n",
    "\n",
    "import requests\n",
    "\n",
    "url = 'https://api.ejemplo.com/datos.json'\n",
    "\n",
    "respuesta = requests.get(url) \n",
    "\n",
    "datos = respuesta.json() # Convierte el JSON en un objeto\n",
    "\n",
    "requests.get(url): Hace una solicitud HTTP para obtener el contenido del archivo JSON.\n",
    "o\n",
    "respuesta.json(): Convierte la respuesta en un objeto de Python"
   ]
  },
  {
   "cell_type": "code",
   "execution_count": null,
   "metadata": {},
   "outputs": [],
   "source": [
    "\n",
    "print(datos)"
   ]
  }
 ],
 "metadata": {
  "kernelspec": {
   "display_name": "Python 3",
   "language": "python",
   "name": "python3"
  },
  "language_info": {
   "codemirror_mode": {
    "name": "ipython",
    "version": 3
   },
   "file_extension": ".py",
   "mimetype": "text/x-python",
   "name": "python",
   "nbconvert_exporter": "python",
   "pygments_lexer": "ipython3",
   "version": "3.10.5"
  }
 },
 "nbformat": 4,
 "nbformat_minor": 2
}
