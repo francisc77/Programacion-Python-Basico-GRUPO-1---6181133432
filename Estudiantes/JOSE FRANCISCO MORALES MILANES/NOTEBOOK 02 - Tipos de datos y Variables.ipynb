{
 "cells": [
  {
   "cell_type": "markdown",
   "metadata": {},
   "source": [
    "# NOTEBOOK 02 - Tipos de datos y estructuras de datos\n",
    "## Fundamentos de Programación: Tipos de Datos, Variables y Operaciones Básicas\n",
    "### NOMBRE DEL ESTUDIANTE JOSE FRANCISCO MORALES: \n",
    "\n",
    "---\n",
    "\n",
    "## 1. Tipos de Datos en Python\n",
    "\n",
    "### Teoría\n",
    "Los tipos de datos en Python determinan el tipo de valor que se puede almacenar y manipular. Los más comunes son:\n",
    "\n",
    "- **Enteros (`int`)**: Números sin parte decimal.\n",
    "- **Flotantes (`float`)**: Números con parte decimal.\n",
    "- **Cadenas de texto (`str`)**: Secuencias de caracteres.\n",
    "- **Booleanos (`bool`)**: Valores lógicos que pueden ser `True` o `False`.\n",
    "\n",
    "#### Comparaciones:\n",
    "- Los enteros representan números sin decimales, mientras que los flotantes incluyen decimales.\n",
    "- Las cadenas de texto permiten almacenar y manipular texto.\n",
    "- Los booleanos permiten realizar comparaciones lógicas en el código.\n",
    "\n",
    "### Ejemplos\n",
    "```python\n",
    "# Ejemplos de tipos de datos\n",
    "numero_entero = 10  # Tipo entero\n",
    "numero_flotante = 10.5  # Tipo flotante\n",
    "cadena_texto = \"Hola, Python!\"  # Tipo cadena\n",
    "valor_logico = True  # Tipo booleano\n",
    "\n",
    "# Imprimir los tipos de cada variable\n",
    "print(type(numero_entero))\n",
    "print(type(numero_flotante))\n",
    "print(type(cadena_texto))\n",
    "print(type(valor_logico))\n",
    "```\n",
    "\n",
    "## Ejercicios \n",
    "\n",
    "1. Declara una variable de tipo entero y asigna el valor *25*. Luego, imprime su tipo."
   ]
  },
  {
   "cell_type": "code",
   "execution_count": 4,
   "metadata": {
    "vscode": {
     "languageId": "powershell"
    }
   },
   "outputs": [
    {
     "name": "stdout",
     "output_type": "stream",
     "text": [
      "<class 'int'>\n"
     ]
    }
   ],
   "source": [
    "NumeroEntero = 26\n",
    "print(type(NumeroEntero))"
   ]
  },
  {
   "cell_type": "markdown",
   "metadata": {},
   "source": [
    "2. Declara una variable de tipo flotante con el valor *3.1416*. Imprime su tipo.\n"
   ]
  },
  {
   "cell_type": "code",
   "execution_count": 5,
   "metadata": {
    "vscode": {
     "languageId": "powershell"
    }
   },
   "outputs": [
    {
     "name": "stdout",
     "output_type": "stream",
     "text": [
      "<class 'float'>\n"
     ]
    }
   ],
   "source": [
    "ValorDecimal= 3.1416\n",
    "print(type(ValorDecimal))"
   ]
  },
  {
   "cell_type": "markdown",
   "metadata": {},
   "source": [
    "3. Crea una variable es_estudiante que almacene un valor booleano indicando si eres estudiante."
   ]
  },
  {
   "cell_type": "code",
   "execution_count": 6,
   "metadata": {
    "vscode": {
     "languageId": "powershell"
    }
   },
   "outputs": [
    {
     "name": "stdout",
     "output_type": "stream",
     "text": [
      "<class 'bool'>\n"
     ]
    }
   ],
   "source": [
    "es_estudiante = True\n",
    "print(type(es_estudiante))"
   ]
  },
  {
   "cell_type": "markdown",
   "metadata": {},
   "source": [
    "## 2. Variables en Python\n",
    "\n",
    "### Teoría\n",
    "Las variables son espacios de memoria donde almacenamos datos. En Python, no es necesario declarar el tipo de la variable, simplemente se asigna un valor con el símbolo `=`.\n",
    "\n",
    "#### Reglas para nombrar variables:\n",
    "- Deben comenzar con una letra o un guion bajo.\n",
    "- No pueden comenzar con un número.\n",
    "- Solo pueden contener letras, números y guiones bajos.\n",
    "- Son sensibles a mayúsculas y minúsculas (`nombre` y `Nombre` son diferentes).\n",
    "\n",
    "### Ejemplo"
   ]
  },
  {
   "cell_type": "code",
   "execution_count": null,
   "metadata": {
    "vscode": {
     "languageId": "powershell"
    }
   },
   "outputs": [],
   "source": [
    "# Declaración de variables\n",
    "mi_nombre = \"Carlos\"\n",
    "edad = 20\n",
    "\n",
    "# Variables válidas\n",
    "nombre_completo = \"Ana Pérez\"\n",
    "_variable_secreta = 42 # convención para indicar que esa variable es protegida.\n",
    "\n",
    "# Variables inválidas (descomentar para ver los errores)\n",
    "# 2variable = 10  # Error: no puede comenzar con un número\n",
    "# nombre completo = \"Juan\"  # Error: no puede contener espacios"
   ]
  },
  {
   "cell_type": "markdown",
   "metadata": {},
   "source": [
    "## 3. Operaciones Básicas de Entrada y Salida\n",
    "\n",
    "### Teoría\n",
    "Las operaciones de entrada y salida son fundamentales para interactuar con el usuario. En Python, utilizamos la función `input()` para capturar datos del usuario y `print()` para mostrar información en pantalla.\n",
    "\n",
    "### Ejemplos"
   ]
  },
  {
   "cell_type": "code",
   "execution_count": null,
   "metadata": {
    "vscode": {
     "languageId": "powershell"
    }
   },
   "outputs": [],
   "source": [
    "# Operación de salida\n",
    "print(\"¡Hola, mundo!\")\n",
    "\n",
    "# Operación de entrada + Saalida con format\n"
   ]
  },
  {
   "cell_type": "markdown",
   "metadata": {},
   "source": [
    "En otros lenguajes, como *Java*, el proceso es similar pero con algunas diferencias en la sintaxis:\n",
    "\n",
    "```Java\n",
    "// Ejemplo en Java\n",
    "import java.util.Scanner;\n",
    "\n",
    "public class EntradaSalida {\n",
    "    public static void main(String[] args) {\n",
    "        Scanner input = new Scanner(System.in);\n",
    "        System.out.print(\"¿Cómo te llamas? \");\n",
    "        String nombre = input.nextLine();\n",
    "        System.out.println(\"Hola, \" + nombre + \"!\");\n",
    "    }\n",
    "}\n",
    "\n",
    "```"
   ]
  },
  {
   "cell_type": "markdown",
   "metadata": {},
   "source": [
    "## 4. Operadores Básicos en Python\n",
    "\n",
    "### Teoría\n",
    "Los operadores en Python nos permiten realizar diversas operaciones con variables y datos. Los más comunes son:\n",
    "\n",
    "- **Operadores matemáticos**: `+`, `-`, `*`, `/`, `//` (división entera), `%` (módulo)\n",
    "- **Operadores de asignación**: `=`, `+=`, `-=`, `*=`, `/=`\n",
    "- **Operadores de comparación**: `==`, `!=`, `<`, `>`, `<=`, `>=`\n",
    "- **Operadores lógicos**: `and`, `or`, `not`\n",
    "\n",
    "### Tabla de Operadores Matemáticos\n",
    "\n",
    "| Operador | Descripción           | Ejemplo           |\n",
    "|----------|-----------------------|-------------------|\n",
    "| `+`      | Suma                  | `5 + 3 = 8`       |\n",
    "| `-`      | Resta                 | `5 - 2 = 3`       |\n",
    "| `*`      | Multiplicación         | `5 * 2 = 10`      |\n",
    "| `/`      | División              | `10 / 2 = 5.0`    |\n",
    "| `//`     | División entera        | `10 // 3 = 3`     |\n",
    "| `%`      | Módulo (resto)         | `10 % 3 = 1`      |\n",
    "\n",
    "### Ejemplos"
   ]
  },
  {
   "cell_type": "markdown",
   "metadata": {},
   "source": [
    "#### Problema 1: Operadores Matemáticos y Comparación en Python\n",
    "\n",
    "Tienes dos variables `a = 10` y `b = 5`. Realiza las siguientes operaciones matemáticas:"
   ]
  },
  {
   "cell_type": "code",
   "execution_count": 9,
   "metadata": {
    "vscode": {
     "languageId": "powershell"
    }
   },
   "outputs": [
    {
     "name": "stdout",
     "output_type": "stream",
     "text": [
      "15\n"
     ]
    }
   ],
   "source": [
    "# Asignacón de variables\n",
    "a = 10\n",
    "b = 5\n",
    "\n",
    "# Suma y resta\n",
    "Resultado= a + b\n",
    "print(Resultado)"
   ]
  },
  {
   "cell_type": "markdown",
   "metadata": {},
   "source": [
    "#### Problema 2: Comparación de Números\n",
    "Usa los siguientes operadores de comparación para verificar la relación entre a y b. ¿Qué resultado esperas?"
   ]
  },
  {
   "cell_type": "code",
   "execution_count": 21,
   "metadata": {
    "vscode": {
     "languageId": "powershell"
    }
   },
   "outputs": [
    {
     "name": "stdout",
     "output_type": "stream",
     "text": [
      "False\n",
      "True\n",
      "False\n",
      "True\n"
     ]
    }
   ],
   "source": [
    "# Operadores de comparación\n",
    "a = 10\n",
    "b = 5\n",
    "\n",
    "# ¿Es a igual a b?\n",
    "print(a == b)\n",
    "# ¿Es a mayor que b?\n",
    "print(a > b)\n",
    "# ¿Es a menor que b?\n",
    "print(a < b)\n",
    "\n",
    "# diferencia no es igual\n",
    "print(a != b)\n",
    "\n"
   ]
  },
  {
   "cell_type": "markdown",
   "metadata": {},
   "source": [
    "### Problema 3: Operadores Lógicos\n",
    "Usa operadores lógicos para combinar condiciones. Resuelve el siguiente problema: ¿Es a mayor que 0 y b menor que 10? ¿Qué pasa si a = -10?"
   ]
  },
  {
   "cell_type": "code",
   "execution_count": 22,
   "metadata": {
    "vscode": {
     "languageId": "powershell"
    }
   },
   "outputs": [
    {
     "name": "stdout",
     "output_type": "stream",
     "text": [
      "Ambas condiciones son verdaderas  True\n",
      "Al menos una de las condiciones es verdadera  True\n",
      "False\n",
      "True\n",
      "Es b menor a 10  True\n",
      "***************************************\n",
      "SIENDO a -10 \n",
      "Es a menor a b True\n",
      "Es a Mayor que cero False\n",
      "es b menor que 10 True\n",
      "True\n",
      "True\n",
      "False\n"
     ]
    }
   ],
   "source": [
    "# Operadores lógicos and, or, not\n",
    "contrasena = True\n",
    "correo = True\n",
    "\n",
    "# ¿Ambas condiciones son verdaderas?\n",
    "print(\"Ambas condiciones son verdaderas \",contrasena==True and correo==True)\n",
    "# ¿Al menos una de las condiciones es verdadera?\n",
    "print(\"Al menos una de las condiciones es verdadera \",contrasena==True or correo==True)\n",
    "# ¿Es falso que a sea mayor que b?\n",
    "a = 10\n",
    "b = 5\n",
    "\n",
    "print(a<b)\n",
    "\n",
    "# Es a Mayor que cero\n",
    "print(a>0)\n",
    "\n",
    "#es b menor que 10\n",
    "print(\"Es b menor a 10 \",b<10)\n",
    "\n",
    "a=-10\n",
    "print(\"***************************************\")\n",
    "print(\"SIENDO a -10 \")\n",
    "print(\"Es a menor a b\",a<b)\n",
    "\n",
    "# Es a Mayor que cero\n",
    "print(\"Es a Mayor que cero\", a>0)\n",
    "\n",
    "#es b menor que 10\n",
    "print(\"es b menor que 10\",b<10)\n",
    "\n",
    "mami = True\n",
    "papi = True\n",
    "\n",
    "print(mami or papi)\n",
    "mami=False\n",
    "\n",
    "print(mami or papi)\n",
    "\n",
    "papi = False\n",
    "print(mami or papi)\n",
    "\n",
    "\n",
    "print(Not(mami or papi))"
   ]
  },
  {
   "cell_type": "markdown",
   "metadata": {},
   "source": [
    "### Problema 4: Divisiones y Módulo\n",
    "Prueba las operaciones de división entera y módulo para ver cómo Python maneja los restos de las divisiones."
   ]
  },
  {
   "cell_type": "code",
   "execution_count": null,
   "metadata": {
    "vscode": {
     "languageId": "powershell"
    }
   },
   "outputs": [],
   "source": [
    "# División entera y módulo\n"
   ]
  },
  {
   "cell_type": "markdown",
   "metadata": {},
   "source": [
    "### Ejercicio Final:\n",
    "\n",
    "Combina operadores matemáticos, de comparación y lógicos. Escribe un programa que pida al usuario dos números y realice las siguientes tareas:\n",
    "\n",
    "1. Verifique si el primer número es mayor que el segundo.\n",
    "2. Calcule la suma, resta, división y módulo de ambos.\n",
    "3. Determine si la suma de ambos números es mayor que 20 **y** si alguno de los dos es menor que 5."
   ]
  },
  {
   "cell_type": "code",
   "execution_count": 5,
   "metadata": {},
   "outputs": [
    {
     "name": "stdout",
     "output_type": "stream",
     "text": [
      "17.0 4.0\n",
      "21.0\n",
      "El primer número es mayor que el segundo eso es , Verdadero\n",
      "la suma de lo numeros es:  21.0\n",
      "la resta de lo numero es:  13.0\n",
      "la multiplicacion de lo numero es:  68.0\n",
      "la division de lo numero es:  4.25\n",
      "la módulo de lo numero es:  1.0\n",
      "True\n"
     ]
    }
   ],
   "source": [
    "numero1 = float(input('ingrese el primer numero=====> '))\n",
    "numero2 = float(input('ingrese el primer numero======'))\n",
    "total = numero1 + numero2\n",
    "print(numero1, numero2)\n",
    "print(total)\n",
    "if numero1 > numero2:\n",
    "    resultado = \"Verdadero\"\n",
    "else:\n",
    "    resultado = \"No es verdadero\"\n",
    "\n",
    "print(f'El primer número es mayor que el segundo eso es , {resultado}')\n",
    "print(f'la suma de lo numeros es:  {numero1 + numero2}')\n",
    "print(f'la resta de lo numero es:  {numero1 - numero2}')\n",
    "print(f'la multiplicacion de lo numero es:  {numero1 * numero2}')\n",
    "print(f'la division de lo numero es:  {numero1 / numero2}')\n",
    "print(f'la módulo de lo numero es:  {numero1 % numero2}') # da el residuo si es 0 es par \n",
    "\n",
    "print((numero1 + numero2 >20 ) and (numero1 <5 or numero2<5))"
   ]
  },
  {
   "cell_type": "markdown",
   "metadata": {},
   "source": [
    "# Estructuras de datos elementales\n",
    "\n",
    "# Listas\n",
    "\n",
    "Las listas son uno de los tipos de datos más importantes y versátiles en Python. Son colecciones ordenadas y mutables que pueden almacenar cualquier tipo de dato, desde números y cadenas de texto hasta objetos complejos.\n",
    "\n",
    "**Creación de listas:**\n",
    "\n",
    "Las listas se pueden crear de varias maneras:\n",
    "\n",
    "- **Usando corchetes (**[]**) y separando los elementos por comas:**"
   ]
  },
  {
   "cell_type": "code",
   "execution_count": 9,
   "metadata": {},
   "outputs": [
    {
     "name": "stdout",
     "output_type": "stream",
     "text": [
      "['Conejo', 'Zorro', 'Caballo']\n",
      "Conejo Zorro Caballo 100 True\n",
      "[1, 2, 3, 4, 5]\n",
      "1\n"
     ]
    }
   ],
   "source": [
    "#Creando mi primera lista modificables versitales\n",
    "lista = [1,\"ANDRES\",True,100.5]\n",
    "ListaStr = ['Conejo','Zorro','Caballo']\n",
    "print(ListaStr)\n",
    "ListaStr = ['Conejo','Zorro','Caballo',100, True]\n",
    "print(*ListaStr)\n",
    "\n",
    "#indice \n",
    "Milista = [1,2,3,4,5]\n",
    "print(Milista)\n",
    "# imprimir un elemento\n",
    "print(Milista[0])\n",
    "\n",
    "print(Milista[-1]) # imprime el ultimo elemento de la lista"
   ]
  },
  {
   "cell_type": "code",
   "execution_count": null,
   "metadata": {
    "vscode": {
     "languageId": "powershell"
    }
   },
   "outputs": [],
   "source": [
    "#TRABAJEMO CON LISTAS\n",
    "#          0 1 2 3 4\n",
    "miLista = [1,2,3,4,5]\n",
    "\n",
    "# Para acceder a sus elementos, se utiliza el [Índice] los índices comienzan en 0"
   ]
  },
  {
   "cell_type": "code",
   "execution_count": 4,
   "metadata": {
    "vscode": {
     "languageId": "powershell"
    }
   },
   "outputs": [
    {
     "name": "stdout",
     "output_type": "stream",
     "text": [
      "Fran steven jimmy jose karla\n",
      "['Fran', 'steven', 'jimmy', 'jose', 'karla', 'Fran', 'steven', 'jimmy', 'jose', 'karla']\n"
     ]
    }
   ],
   "source": [
    "#Usando la función print() y la función * para desempaquetar los elementos de la lista como argumentos\")\n",
    "print(*Milista)\n",
    "print(Milista * 2) # duplica la lista"
   ]
  },
  {
   "cell_type": "code",
   "execution_count": 6,
   "metadata": {},
   "outputs": [
    {
     "name": "stdout",
     "output_type": "stream",
     "text": [
      "elementos de la lista\n",
      "Elemento : Fran\n",
      "Elemento : steven\n",
      "Elemento : jimmy\n",
      "Elemento : jose\n",
      "Elemento : karla\n",
      "****************\n"
     ]
    }
   ],
   "source": [
    "#Usando un bucle \"for\" para imprimir todos los elementos de la lista.  itera por elemento\n",
    "print(\"elementos de la lista\")\n",
    "Milista = ['Fran','steven','jimmy','jose','karla']\n",
    "for elemento in Milista:\n",
    "    print(\"Bienvenido :\", elemento)\n",
    "print('****************')   "
   ]
  },
  {
   "cell_type": "code",
   "execution_count": 6,
   "metadata": {},
   "outputs": [
    {
     "name": "stdout",
     "output_type": "stream",
     "text": [
      "la lista es de  8\n"
     ]
    }
   ],
   "source": [
    "# Imprimir la cantidad elementos\n",
    "ListaX = [1,2,3,4,5,6,7,8]\n",
    "Cantidad = len(ListaX)\n",
    "print(\"la lista es de \" , Cantidad)"
   ]
  },
  {
   "cell_type": "markdown",
   "metadata": {},
   "source": [
    "## Métodos básicos y útiles en Listas \n",
    "\n",
    "### Agregar elementos a una lista en Python\n",
    "Existen dos métodos principales para agregar elementos a una lista en Python:\n",
    "\n",
    "1. append()\n",
    "2. insert()"
   ]
  },
  {
   "cell_type": "code",
   "execution_count": 3,
   "metadata": {},
   "outputs": [
    {
     "name": "stdout",
     "output_type": "stream",
     "text": [
      "['Outlook', 'Hotmail', 'Gmail', 'yahoo']\n"
     ]
    }
   ],
   "source": [
    "#append(): Este método agrega un elemento al final de la lista\n",
    "correos = [\"Outlook\",\"Hotmail\",\"Gmail\"]\n",
    "correos.append(\"yahoo\")\n",
    "print(correos)"
   ]
  },
  {
   "cell_type": "code",
   "execution_count": 1,
   "metadata": {},
   "outputs": [
    {
     "name": "stdout",
     "output_type": "stream",
     "text": [
      "['proton mail', 'Outlook', 'Hotmail', 'Gmail']\n"
     ]
    }
   ],
   "source": [
    "#insert(): Este método agrega un elemento en una posición específica\n",
    "correos = [\"Outlook\",\"Hotmail\",\"Gmail\"]\n",
    "correos.insert(0, 'proton mail')\n",
    "print(correos)"
   ]
  },
  {
   "cell_type": "markdown",
   "metadata": {},
   "source": [
    "### Agregar múltiples elementos a una lista"
   ]
  },
  {
   "cell_type": "code",
   "execution_count": 2,
   "metadata": {},
   "outputs": [
    {
     "name": "stdout",
     "output_type": "stream",
     "text": [
      "['Word', 'Excel', 'Power Point', 'Acces', 'Visio', 'Skype']\n"
     ]
    }
   ],
   "source": [
    "# extend() Agrega los elementos de una lista iterable al final de la lista original\n",
    "\n",
    "paquete = ['Word','Excel','Power Point']\n",
    "adicional = ['Acces','Visio','Skype']\n",
    "print(paquete)\n",
    "paquete.extend(adicional)\n",
    "print(paquete)\n",
    "paquete_pro = paquete + adicional\n",
    "print(paquete_pro)\n"
   ]
  },
  {
   "cell_type": "code",
   "execution_count": 3,
   "metadata": {},
   "outputs": [
    {
     "name": "stdout",
     "output_type": "stream",
     "text": [
      "[1, 2, 3, 1, 2, 3]\n"
     ]
    }
   ],
   "source": [
    "#Repitir listas utilizando operador de multiplicación (*)\n",
    "Lista1 = [1,2,3]\n",
    "print(Lista1 * 2)"
   ]
  },
  {
   "cell_type": "markdown",
   "metadata": {
    "vscode": {
     "languageId": "powershell"
    }
   },
   "source": [
    "## Métodos para eliminar elementos de una lista en Python"
   ]
  },
  {
   "cell_type": "code",
   "execution_count": 4,
   "metadata": {},
   "outputs": [
    {
     "name": "stdout",
     "output_type": "stream",
     "text": [
      "['Word', 'Excel', 'Power Point', 'Visio', 'Hotmail']\n"
     ]
    }
   ],
   "source": [
    "#remove(): Este método elimina el ojo primer elemento de la lista que coincida\n",
    "correos = ['Word', 'Excel', 'Power Point', 'Hotmail', 'Visio', 'Hotmail']\n",
    "correos.remove(\"Hotmail\")\n",
    "print(correos)\n",
    "#otra manera que elimina indice\n",
    "correos.remove(correos(1))"
   ]
  },
  {
   "cell_type": "code",
   "execution_count": 5,
   "metadata": {},
   "outputs": [
    {
     "name": "stdout",
     "output_type": "stream",
     "text": [
      "['Word', 'Proton mail', 'Excel', 'Power Point', 'Hotmail', 'Visio', 'Hotmail']\n",
      "['Word', 'Proton mail', 'Power Point', 'Hotmail', 'Visio', 'Hotmail']\n",
      "El elemimnado es Excel\n",
      "['Proton mail', 'Power Point', 'Hotmail', 'Visio', 'Hotmail']\n"
     ]
    }
   ],
   "source": [
    "#pop(): Este método elimina y devuelve el elemento en una posición específica de la lista por medio del índice.\n",
    "correos = ['Word', 'Excel', 'Power Point', 'Hotmail', 'Visio', 'Hotmail']\n",
    "correos.insert(1,'Proton mail')\n",
    "print(correos)\n",
    "eliminado = correos.pop(2) # el valor que quedo eliminado queda en la variable eliminado\n",
    "print(correos)\n",
    "print('El elemimnado es' ,eliminado)\n",
    "correos.pop(0)\n",
    "print(correos)"
   ]
  },
  {
   "cell_type": "code",
   "execution_count": 6,
   "metadata": {},
   "outputs": [
    {
     "name": "stdout",
     "output_type": "stream",
     "text": [
      "['Word', 'Proton mail', 'Excel', 'Power Point', 'Hotmail', 'Visio', 'Hotmail']\n",
      "['Word', 'Proton mail', 'Power Point', 'Hotmail', 'Visio', 'Hotmail']\n"
     ]
    }
   ],
   "source": [
    "#del Elimina elemento por índice\n",
    "correos = ['Word', 'Proton mail', 'Excel', 'Power Point', 'Hotmail', 'Visio', 'Hotmail']\n",
    "print(correos)\n",
    "del (correos[2])\n",
    "print(correos)"
   ]
  },
  {
   "cell_type": "code",
   "execution_count": 7,
   "metadata": {},
   "outputs": [
    {
     "name": "stdout",
     "output_type": "stream",
     "text": [
      "['Word', 'Proton mail', 'Excel', 'Power Point', 'Hotmail', 'Visio', 'Hotmail']\n",
      "[]\n"
     ]
    }
   ],
   "source": [
    "#clear(): este métolo eliminar los elementos de una lista \n",
    "correos = ['Word', 'Proton mail', 'Excel', 'Power Point', 'Hotmail', 'Visio', 'Hotmail']\n",
    "print(correos)\n",
    "correos.clear()\n",
    "print(correos)\n",
    "correos "
   ]
  },
  {
   "cell_type": "markdown",
   "metadata": {},
   "source": [
    "# Tuplas\n",
    "\n",
    "Las **tuplas** son una de las estructuras de datos básicas en muchos lenguajes de programación, incluyendo Python. Son colecciones ordenadas y **inmutables** de elementos. Esto significa que una vez que se crea una tupla, no es posible modificar sus elementos (no se pueden añadir, eliminar, o cambiar valores).\n",
    "\n",
    "## Características de las Tuplas\n",
    "\n",
    "- **Ordenadas**: Los elementos en una tupla tienen un orden definido.\n",
    "- **Inmutables**: Una vez creada, la tupla no puede cambiar. Los elementos no pueden ser modificados, añadidos, o eliminados.\n",
    "- **Indexables**: Puedes acceder a los elementos de la tupla por su índice, siendo `0` el índice del primer elemento.\n",
    "- **Permiten duplicados**: Las tuplas pueden tener elementos duplicados.\n",
    "\n",
    "## Creación de Tuplas\n",
    "\n",
    "Para crear una tupla en Python, simplemente coloca los elementos dentro de paréntesis `()` y sepáralos con comas."
   ]
  },
  {
   "cell_type": "code",
   "execution_count": 9,
   "metadata": {},
   "outputs": [
    {
     "name": "stdout",
     "output_type": "stream",
     "text": [
      "a\n"
     ]
    }
   ],
   "source": [
    "#Acceder a elementos de una tupla: No puede modificar, es como una constante.\n",
    "tupla = (1,2,3,'a','b','c')\n",
    "print(tupla[3])\n"
   ]
  },
  {
   "cell_type": "code",
   "execution_count": 10,
   "metadata": {},
   "outputs": [
    {
     "name": "stdout",
     "output_type": "stream",
     "text": [
      "1\n",
      "2\n",
      "3\n",
      "a\n",
      "b\n",
      "c\n"
     ]
    }
   ],
   "source": [
    "#Utilizar una tupla en un ciclo for:\n",
    "tupla = (1,2,3,'a','b','c')\n",
    "for elemento in tupla:\n",
    "    print(elemento)"
   ]
  },
  {
   "cell_type": "code",
   "execution_count": 11,
   "metadata": {},
   "outputs": [
    {
     "name": "stdout",
     "output_type": "stream",
     "text": [
      "Perez\n"
     ]
    }
   ],
   "source": [
    "#Asignar valores de una tupla a variables:\n",
    "tuplaPersona = ('Juan', 'Perez',25)\n",
    "nombre, apellido, edad = tuplaPersona\n",
    "print(tuplaPersona[1])\n",
    "print()\n"
   ]
  },
  {
   "cell_type": "code",
   "execution_count": 13,
   "metadata": {},
   "outputs": [
    {
     "name": "stdout",
     "output_type": "stream",
     "text": [
      "('Juan', 'Perez', 25, 'Erick', 'Morales', 36)\n",
      "Bienvenido Juan\n"
     ]
    }
   ],
   "source": [
    "#Concatenar dos tuplas:\n",
    "tuplaPersona = ('Juan', 'Perez',25)\n",
    "tuplaNueva = ('Erick', 'Morales', 36)\n",
    "tuplaUnion = tuplaPersona + tuplaNueva\n",
    "print(tuplaUnion)\n",
    "if 'Juan' in tuplaPersona:\n",
    "    print('Bienvenido Juan')"
   ]
  },
  {
   "cell_type": "code",
   "execution_count": 14,
   "metadata": {},
   "outputs": [
    {
     "name": "stdout",
     "output_type": "stream",
     "text": [
      "Bienvenido Juan\n"
     ]
    }
   ],
   "source": [
    "#Comprobar si un elemento está en una tupla: Se puede usar el operador in para verificar si un elemento está presente en una tupla.\n",
    "if 'Juan' in tuplaPersona:\n",
    "    print('Bienvenido Juan')"
   ]
  },
  {
   "cell_type": "markdown",
   "metadata": {},
   "source": [
    "### Funciones útiles:\n",
    "\n",
    "- **len(tupla)**: Devuelve la longitud de la tupla.\n",
    "- **max(tupla)**: Devuelve el elemento máximo de la tupla.\n",
    "- **min(tupla)**: Devuelve el elemento mínimo de la tupla.\n",
    "\n",
    "### Cuándo usar tuplas:\n",
    "\n",
    "Las tuplas son una buena opción para almacenar datos que no van a cambiar, como:\n",
    "\n",
    "- Coordenadas en un mapa.\n",
    "- Fechas y horas.\n",
    "- Pares clave-valor en un diccionario."
   ]
  },
  {
   "cell_type": "code",
   "execution_count": null,
   "metadata": {},
   "outputs": [],
   "source": []
  },
  {
   "cell_type": "code",
   "execution_count": 1,
   "metadata": {},
   "outputs": [
    {
     "name": "stdout",
     "output_type": "stream",
     "text": [
      "(1, 2, 3, 2, 'a', 'b', 'c')\n",
      "1\n",
      "2\n"
     ]
    }
   ],
   "source": [
    "tupla = (1,2,3,2,'a','b','c')\n",
    "print(tupla)\n",
    "print(tupla[0])\n",
    "print(tupla[3])"
   ]
  },
  {
   "cell_type": "code",
   "execution_count": 2,
   "metadata": {},
   "outputs": [
    {
     "name": "stdout",
     "output_type": "stream",
     "text": [
      "Posición:  5\n"
     ]
    }
   ],
   "source": [
    "posicion = tupla.index('b')\n",
    "print(\"Posición: \", posicion)"
   ]
  },
  {
   "cell_type": "code",
   "execution_count": 3,
   "metadata": {},
   "outputs": [
    {
     "name": "stdout",
     "output_type": "stream",
     "text": [
      "Cantida de repeticiones de dos:  2\n"
     ]
    }
   ],
   "source": [
    "numDos = tupla.count(2)\n",
    "print(\"Cantida de repeticiones de dos: \", numDos)"
   ]
  },
  {
   "cell_type": "code",
   "execution_count": 4,
   "metadata": {},
   "outputs": [
    {
     "name": "stdout",
     "output_type": "stream",
     "text": [
      "1\n",
      "2\n",
      "3\n",
      "2\n",
      "a\n",
      "b\n",
      "c\n"
     ]
    }
   ],
   "source": [
    "#Utilizar una tupla en un ciclo for:\n",
    "#Utilizar una tupla en un ciclo for:\n",
    "for elemento in tupla:\n",
    "    print(elemento)"
   ]
  },
  {
   "cell_type": "code",
   "execution_count": 5,
   "metadata": {},
   "outputs": [
    {
     "name": "stdout",
     "output_type": "stream",
     "text": [
      "Luis\n",
      "Ferreto\n",
      "32\n"
     ]
    }
   ],
   "source": [
    "#Asignar valores de una tupla a variables:\n",
    "tupla = (\"Luis\", \"Ferreto\", 32)\n",
    "Nombre,Apellido,edad = tupla\n",
    "print(Nombre)\n",
    "print(Apellido)\n",
    "print(edad)"
   ]
  },
  {
   "cell_type": "code",
   "execution_count": 16,
   "metadata": {},
   "outputs": [
    {
     "name": "stdout",
     "output_type": "stream",
     "text": [
      "(1, 2, 3, 4, 5, 6)\n",
      "3\n",
      "1\n"
     ]
    }
   ],
   "source": [
    "#Concatenar dos tuplas\n",
    "Tupla1 = (1,2,3)\n",
    "Tupla2 = (4,5,6)\n",
    "Tupla3 = Tupla1 + Tupla2\n",
    "print(Tupla3)\n",
    "print(max(Tupla1))\n",
    "print(min(Tupla1))"
   ]
  },
  {
   "cell_type": "markdown",
   "metadata": {},
   "source": [
    "\n",
    "## **Creación de diccionarios:**\n",
    "Los diccionarios son colecciones no ordenadas que almacenan pares\n",
    "clave-valor en Python. Son una herramienta poderosa para almacenar y\n",
    "acceder a datos de una manera eficiente.\n",
    "\n",
    "Los diccionarios se pueden crear de varias maneras:\n",
    "\n",
    "-   **Usando llaves **{}** con pares clave-valor separados por dos\n",
    "    puntos:**\n",
    "\n",
    "```Python"
   ]
  },
  {
   "cell_type": "markdown",
   "metadata": {},
   "source": []
  },
  {
   "cell_type": "markdown",
   "metadata": {},
   "source": []
  },
  {
   "cell_type": "code",
   "execution_count": 22,
   "metadata": {},
   "outputs": [
    {
     "name": "stdout",
     "output_type": "stream",
     "text": [
      "fiorela chavarria 21  y nota  88.4\n",
      "<class 'str'>\n",
      "98.4\n"
     ]
    }
   ],
   "source": [
    "#Crear un diccionario la clave es unica no se puede repertir\n",
    "estudiante ={\n",
    "    'nombre' : 'fiorela',\n",
    "    'apellido' : 'chavarria',\n",
    "    'edad' : 21,\n",
    "    'nota' : 88.40\n",
    "}\n",
    "print(estudiante['nombre'], estudiante['apellido'], estudiante['edad'],' y nota ', estudiante['nota'])\n",
    "print(type(estudiante['nombre']))\n",
    "# Modificar valor en un diccionario\n",
    "estudiante['nota']= 98.4\n",
    "print(estudiante['nota'])"
   ]
  },
  {
   "cell_type": "code",
   "execution_count": 23,
   "metadata": {},
   "outputs": [
    {
     "name": "stdout",
     "output_type": "stream",
     "text": [
      "fiorela chavarria 21  y nota  98.4\n",
      "fiorela chavarria 21  y nota  True\n"
     ]
    }
   ],
   "source": [
    "#Agregar nuevos pares clave-valor a un diccionario\n",
    "print(estudiante['nombre'], estudiante['apellido'], estudiante['edad'],' y nota ', estudiante['nota'])\n",
    "estudiante['activo']= True\n",
    "print(estudiante['nombre'], estudiante['apellido'], estudiante['edad'],' y nota ', estudiante['activo'])"
   ]
  },
  {
   "cell_type": "code",
   "execution_count": 24,
   "metadata": {},
   "outputs": [
    {
     "name": "stdout",
     "output_type": "stream",
     "text": [
      "Clave: nombre Valor: fiorela\n",
      "Clave: apellido Valor: chavarria\n",
      "Clave: edad Valor: 21\n",
      "Clave: nota Valor: 98.4\n",
      "Clave: activo Valor: True\n"
     ]
    }
   ],
   "source": [
    "#Recorriendo Claves y valores en For\n",
    "for clave,valor in estudiante.items():\n",
    "    print(f'Clave: {clave} Valor: {valor}')\n",
    "    \n",
    "    "
   ]
  },
  {
   "cell_type": "code",
   "execution_count": 26,
   "metadata": {},
   "outputs": [
    {
     "name": "stdout",
     "output_type": "stream",
     "text": [
      "{'nombre': 'fiorela', 'apellido': 'chavarria', 'edad': 21, 'nota': 98.4}\n"
     ]
    },
    {
     "ename": "NameError",
     "evalue": "name 'estudiante' is not defined",
     "output_type": "error",
     "traceback": [
      "\u001b[1;31m---------------------------------------------------------------------------\u001b[0m",
      "\u001b[1;31mNameError\u001b[0m                                 Traceback (most recent call last)",
      "Cell \u001b[1;32mIn[26], line 5\u001b[0m\n\u001b[0;32m      3\u001b[0m \u001b[38;5;28mprint\u001b[39m(estudiante)\n\u001b[0;32m      4\u001b[0m \u001b[38;5;28;01mdel\u001b[39;00m estudiante \u001b[38;5;66;03m#elimina de memoria\u001b[39;00m\n\u001b[1;32m----> 5\u001b[0m \u001b[43mestudiante\u001b[49m\u001b[38;5;241m.\u001b[39mpop[\u001b[38;5;241m1\u001b[39m] \u001b[38;5;66;03m#elemina por indice \u001b[39;00m\n\u001b[0;32m      6\u001b[0m estudiante\u001b[38;5;241m.\u001b[39mclear() \u001b[38;5;66;03m#elimina claves y valores\u001b[39;00m\n",
      "\u001b[1;31mNameError\u001b[0m: name 'estudiante' is not defined"
     ]
    }
   ],
   "source": [
    "#Eliminar elementos del diccionario\n",
    "del estudiante['activo']\n",
    "print(estudiante)\n",
    "del estudiante #elimina de memoria\n",
    "estudiante.pop[1] #elemina por indice \n",
    "estudiante.clear() #elimina claves y valores"
   ]
  },
  {
   "cell_type": "code",
   "execution_count": 25,
   "metadata": {},
   "outputs": [
    {
     "name": "stdout",
     "output_type": "stream",
     "text": [
      "True\n",
      "False\n"
     ]
    }
   ],
   "source": [
    "#Comprobar si una clave existe en el diccionario\n",
    "print('nombre' in estudiante)\n",
    "print('EstadoCivil' in estudiante)\n"
   ]
  },
  {
   "cell_type": "code",
   "execution_count": null,
   "metadata": {},
   "outputs": [],
   "source": [
    "#Zip(). Esta función toma dos o más listas y devuelve un \n",
    "# objeto iterable que contiene tuplas con los elementos\n",
    "# correspondientes de cada lista.\n",
    "\n",
    "\n"
   ]
  }
 ],
 "metadata": {
  "kernelspec": {
   "display_name": "Python 3",
   "language": "python",
   "name": "python3"
  },
  "language_info": {
   "codemirror_mode": {
    "name": "ipython",
    "version": 3
   },
   "file_extension": ".py",
   "mimetype": "text/x-python",
   "name": "python",
   "nbconvert_exporter": "python",
   "pygments_lexer": "ipython3",
   "version": "3.13.1"
  }
 },
 "nbformat": 4,
 "nbformat_minor": 2
}
