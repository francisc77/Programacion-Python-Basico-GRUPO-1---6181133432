{
    "cells": [
        {
            "attachments": {},
            "cell_type": "markdown",
            "metadata": {
                "azdata_cell_guid": "5a9661f6-9c22-438b-8530-debb92fea2ff"
            },
            "source": [
                "# NOTEBOOK 03 - PARTE I Ejecución Condicional, Bucles, Listas y su Procesamiento\n",
                "\n",
                "## Programacion Python Basico | ICAI\n",
                "\n",
                "## Profesor: Ing. Andrés Mena Abarca\n",
                "\n",
                "### <mark>**JOSE FRANCISCO MORALES MILANES**</mark>\n",
                "\n",
                "* * *\n",
                "\n",
                "## **1\\. Valores Booleanos**\n",
                "\n",
                "### 1.1. **Teoría**\n",
                "\n",
                "En Python, los valores booleanos son un tipo de dato que solo pueden tener dos valores: `True` (verdadero) y `False` (falso). Estos valores son fundamentales para el control de flujo en los programas, permitiendo que se tomen decisiones basadas en condiciones.\n",
                "\n",
                "- `True` y `False` son palabras clave en Python.\n",
                "- Se usan principalmente en expresiones condicionales y bucles.\n",
                "\n",
                "#### **Operadores de comparación**: Estos operadores devuelven un valor booleano como resultado de comparar dos valores.\n",
                "\n",
                "- `==` (igual a)\n",
                "- `!=` (diferente de)\n",
                "- `<`, `>`, `<=`, `>=` (menor, mayor, menor o igual, mayor o igual)\n",
                "\n",
                "### 1.2. **Ejemplo de Código**"
            ]
        },
        {
            "cell_type": "code",
            "execution_count": 1,
            "metadata": {
                "azdata_cell_guid": "65553934-e4e4-4b44-aa2e-b234d1a33667",
                "language": "python"
            },
            "outputs": [
                {
                    "name": "stdout",
                    "output_type": "stream",
                    "text": [
                        "¿Es 10 mayor que 20? False\n",
                        "¿Es 10 igual a 20? False\n"
                    ]
                }
            ],
            "source": [
                "# Ejemplo de valores booleanos\n",
                "x = 10\n",
                "y = 20\n",
                "\n",
                "# Operación de comparación\n",
                "es_mayor = x > y  # False porque 10 no es mayor que 20\n",
                "es_igual = x == y  # False porque 10 no es igual a 20\n",
                "\n",
                "print(f\"¿Es {x} mayor que {y}? {es_mayor}\")\n",
                "print(f\"¿Es {x} igual a {y}? {es_igual}\")\n"
            ]
        },
        {
            "attachments": {},
            "cell_type": "markdown",
            "metadata": {
                "azdata_cell_guid": "e75d82f8-c903-459c-b6b4-3cdc9d23ac5c"
            },
            "source": [
                "### <mark>1.3. **Ejercicio Práctico**</mark>\n",
                "\n",
                "**Caso de Aplicación: Evaluación de Edades para una Competencia Deportiva**\n",
                "\n",
                "Imagina que estás organizando una competencia deportiva y necesitas verificar si un participante es elegible para competir en una categoría específica de edad. En esta categoría, los participantes deben tener entre **18 y 30 años** (inclusive). También se deben evaluar dos edades de los participantes, para ver quién es mayor o si tienen la misma edad.\n",
                "\n",
                "El ejercicio requerirá:\n",
                "\n",
                "- Evaluar si un participante es elegible para competir según su edad.\n",
                "- Comparar las edades de dos participantes para determinar quién es mayor.\n",
                "\n",
                "**Proceso**\n",
                "\n",
                "1. **Solicita** <span style=\"color: var(--vscode-foreground);\"> al usuario que ingrese la edad de dos participantes (edad1 y edad2).</span>\n",
                "2. **Verifica** <span style=\"color: var(--vscode-foreground);\"> si cada uno de ellos es elegible para la competencia (la edad debe estar entre 18 y 30 años inclusive).</span>\n",
                "\n",
                "3. **Compara** las edades de los dos participantes:\n",
                "        - ¿Quién es mayor?\n",
                "        - ¿Son de la misma edad?\n",
                "4. **Imprime** resultados detallados de las evaluaciones."
            ]
        },
        {
            "cell_type": "code",
            "execution_count": 9,
            "metadata": {
                "azdata_cell_guid": "26417c6c-aa5d-41a9-b7c7-fa268a476a6d",
                "language": "python"
            },
            "outputs": [
                {
                    "name": "stdout",
                    "output_type": "stream",
                    "text": [
                        "Participante 1, su edad es  29  por lo tanto es elegible para la competencia\n",
                        "Participante 2, su edad es  19  por lo tanto es elegible para la competencia\n",
                        "El Participante 1 es mayor que el participante 2\n"
                    ]
                }
            ],
            "source": [
                "#Respuesta\n",
                "ParticipanteEdad1 = int(input(\"Participante 1 por favor digite su edad\"))\n",
                "ParticipanteEdad2 = int(input(\"Participante 2 por favor digite su edad\"))\n",
                "\n",
                "if ParticipanteEdad1 >= 18  and ParticipanteEdad1 <= 30:\n",
                "    Elegible = \"Participante 1, su edad es \" , ParticipanteEdad1 ,\" por lo tanto es elegible para la competencia\"\n",
                "else :\n",
                "    Elegible = \"Participante 1, su edad es \" , ParticipanteEdad1 ,\" por lo tanto NO es elegible para la competencia\"\n",
                "print(*Elegible)\n",
                "    \n",
                "if ParticipanteEdad2 >= 18  and ParticipanteEdad2 <= 30:\n",
                "    Elegible = \"Participante 2, su edad es \" , ParticipanteEdad2 ,\" por lo tanto es elegible para la competencia\"\n",
                "else :\n",
                "    Elegible = \"Participante 2, su edad es \", ParticipanteEdad2 , \" por lo tanto NO es elegible para la competencia\"\n",
                "print(*Elegible)\n",
                "    \n",
                "#También se deben evaluar dos edades de los participantes, para ver quién es mayor o si tienen la misma edad.#¿Quién es mayor? #- ¿Son de la misma edad?\n",
                "Resultado = \"\"\n",
                "if ParticipanteEdad1 > ParticipanteEdad2 :\n",
                "    Resultado = \"El Participante 1 es mayor que el participante 2\"\n",
                "elif ParticipanteEdad1 == ParticipanteEdad2 :\n",
                "    Resultado = \"El Participante 1 tiene la misma edad que el participante 2\"\n",
                "else:\n",
                "    Resultado = \"El Participante 2 es mayor que el participante 1\"\n",
                "print(Resultado)\n",
                "    \n",
                "\n"
            ]
        },
        {
            "attachments": {},
            "cell_type": "markdown",
            "metadata": {
                "azdata_cell_guid": "7d08ceac-43f5-4144-9a55-2524859d645c"
            },
            "source": [
                "## **2\\. Ejecución Condicional**\n",
                "\n",
                "### 2.1. **Teoría**\n",
                "\n",
                "La ejecución condicional permite que el programa tome decisiones y ejecute diferentes bloques de código basados en ciertas condiciones. En Python, las estructuras condicionales más comunes son `if`, `elif` (else if) y `else`.\n",
                "\n",
                "### **Estructura básica:**\n",
                "\n",
                "```Python\n",
                "if condición:\n",
                "    # Código si la condición es True\n",
                "elif otra_condición:\n",
                "    # Código si otra_condición es True\n",
                "else:\n",
                "    # Código si ninguna condición es True \n",
                "\n",
                "```\n",
                "\n",
                "### 2.2. **Ejemplo de Código: Clasificación de Calificaciones**\n",
                "\n",
                "#### **Contexto:**\n",
                "\n",
                "Imagina que estás desarrollando un sistema para clasificar las calificaciones de un grupo de estudiantes. El sistema debe recibir una calificación y asignar una letra basada en la siguiente escala:\n",
                "\n",
                "- Si la calificación es mayor o igual a 90, el estudiante obtiene una **A**.\n",
                "- Si la calificación está entre 80 y 89, el estudiante obtiene una **B**.\n",
                "- Si la calificación está entre 70 y 79, el estudiante obtiene una **C**.\n",
                "- Si la calificación está entre 60 y 69, el estudiante obtiene una **D**.\n",
                "- Si la calificación es menor que 60, el estudiante obtiene una **F**.\n",
                "\n",
                "### **Estructura Condicional**\n",
                "\n",
                "Usaremos una serie de sentencias `if`, `elif` y `else` para implementar esta lógica."
            ]
        },
        {
            "cell_type": "code",
            "execution_count": 11,
            "metadata": {
                "azdata_cell_guid": "ac546c59-6cc2-47f1-8b71-daeb61c6475c",
                "language": "python"
            },
            "outputs": [
                {
                    "name": "stdout",
                    "output_type": "stream",
                    "text": [
                        "La puntuacion obtenida es de 100.0, por lo tanto El estudiante obtiene una **A** \n",
                        " Buen Trabajo\n",
                        "La puntuacion obtenida es de 101.0, por lo tanto No puede superar la nota de 100\n",
                        "La puntuacion obtenida es de -1.0, por lo tanto La calificación es menor que 60, el estudiante obtiene una **F**\n",
                        "La puntuacion obtenida es de 5.0, por lo tanto La calificación es menor que 60, el estudiante obtiene una **F**\n",
                        "Ingresa un valor valido para la calificación\n"
                    ]
                },
                {
                    "ename": "KeyboardInterrupt",
                    "evalue": "Interrupted by user",
                    "output_type": "error",
                    "traceback": [
                        "\u001b[1;31m---------------------------------------------------------------------------\u001b[0m",
                        "\u001b[1;31mKeyboardInterrupt\u001b[0m                         Traceback (most recent call last)",
                        "Cell \u001b[1;32mIn[11], line 9\u001b[0m\n\u001b[0;32m      3\u001b[0m \u001b[38;5;28;01mwhile\u001b[39;00m \u001b[38;5;28;01mTrue\u001b[39;00m:\n\u001b[0;32m      4\u001b[0m     \u001b[38;5;66;03m#es un ciclo infinito hasta que usuario de un valor valido \u001b[39;00m\n\u001b[0;32m      5\u001b[0m     \u001b[38;5;28;01mtry\u001b[39;00m:\n\u001b[0;32m      6\u001b[0m                \n\u001b[0;32m      7\u001b[0m         \u001b[38;5;66;03m#while calificacion < 0 or calificacion > 100:\u001b[39;00m\n\u001b[0;32m      8\u001b[0m             \u001b[38;5;66;03m#calificacion = float(input(\"Digite la calificación obtenida de 0 a 100\"))\u001b[39;00m\n\u001b[1;32m----> 9\u001b[0m         calificacion \u001b[38;5;241m=\u001b[39m \u001b[38;5;28mfloat\u001b[39m(\u001b[38;5;28;43minput\u001b[39;49m\u001b[43m(\u001b[49m\u001b[38;5;124;43m\"\u001b[39;49m\u001b[38;5;124;43mDigite la calificación obtenida de 0 a 100\u001b[39;49m\u001b[38;5;124;43m\"\u001b[39;49m\u001b[43m)\u001b[49m)\n\u001b[0;32m     10\u001b[0m         Resultado\u001b[38;5;241m=\u001b[39m \u001b[38;5;124m\"\u001b[39m\u001b[38;5;124m\"\u001b[39m\n\u001b[0;32m     11\u001b[0m         \u001b[38;5;28;01mif\u001b[39;00m calificacion \u001b[38;5;241m<\u001b[39m \u001b[38;5;241m60\u001b[39m:\n",
                        "File \u001b[1;32m~\\AppData\\Roaming\\Python\\Python313\\site-packages\\ipykernel\\kernelbase.py:1282\u001b[0m, in \u001b[0;36mKernel.raw_input\u001b[1;34m(self, prompt)\u001b[0m\n\u001b[0;32m   1280\u001b[0m     msg \u001b[38;5;241m=\u001b[39m \u001b[38;5;124m\"\u001b[39m\u001b[38;5;124mraw_input was called, but this frontend does not support input requests.\u001b[39m\u001b[38;5;124m\"\u001b[39m\n\u001b[0;32m   1281\u001b[0m     \u001b[38;5;28;01mraise\u001b[39;00m StdinNotImplementedError(msg)\n\u001b[1;32m-> 1282\u001b[0m \u001b[38;5;28;01mreturn\u001b[39;00m \u001b[38;5;28;43mself\u001b[39;49m\u001b[38;5;241;43m.\u001b[39;49m\u001b[43m_input_request\u001b[49m\u001b[43m(\u001b[49m\n\u001b[0;32m   1283\u001b[0m \u001b[43m    \u001b[49m\u001b[38;5;28;43mstr\u001b[39;49m\u001b[43m(\u001b[49m\u001b[43mprompt\u001b[49m\u001b[43m)\u001b[49m\u001b[43m,\u001b[49m\n\u001b[0;32m   1284\u001b[0m \u001b[43m    \u001b[49m\u001b[38;5;28;43mself\u001b[39;49m\u001b[38;5;241;43m.\u001b[39;49m\u001b[43m_parent_ident\u001b[49m\u001b[43m[\u001b[49m\u001b[38;5;124;43m\"\u001b[39;49m\u001b[38;5;124;43mshell\u001b[39;49m\u001b[38;5;124;43m\"\u001b[39;49m\u001b[43m]\u001b[49m\u001b[43m,\u001b[49m\n\u001b[0;32m   1285\u001b[0m \u001b[43m    \u001b[49m\u001b[38;5;28;43mself\u001b[39;49m\u001b[38;5;241;43m.\u001b[39;49m\u001b[43mget_parent\u001b[49m\u001b[43m(\u001b[49m\u001b[38;5;124;43m\"\u001b[39;49m\u001b[38;5;124;43mshell\u001b[39;49m\u001b[38;5;124;43m\"\u001b[39;49m\u001b[43m)\u001b[49m\u001b[43m,\u001b[49m\n\u001b[0;32m   1286\u001b[0m \u001b[43m    \u001b[49m\u001b[43mpassword\u001b[49m\u001b[38;5;241;43m=\u001b[39;49m\u001b[38;5;28;43;01mFalse\u001b[39;49;00m\u001b[43m,\u001b[49m\n\u001b[0;32m   1287\u001b[0m \u001b[43m\u001b[49m\u001b[43m)\u001b[49m\n",
                        "File \u001b[1;32m~\\AppData\\Roaming\\Python\\Python313\\site-packages\\ipykernel\\kernelbase.py:1325\u001b[0m, in \u001b[0;36mKernel._input_request\u001b[1;34m(self, prompt, ident, parent, password)\u001b[0m\n\u001b[0;32m   1322\u001b[0m \u001b[38;5;28;01mexcept\u001b[39;00m \u001b[38;5;167;01mKeyboardInterrupt\u001b[39;00m:\n\u001b[0;32m   1323\u001b[0m     \u001b[38;5;66;03m# re-raise KeyboardInterrupt, to truncate traceback\u001b[39;00m\n\u001b[0;32m   1324\u001b[0m     msg \u001b[38;5;241m=\u001b[39m \u001b[38;5;124m\"\u001b[39m\u001b[38;5;124mInterrupted by user\u001b[39m\u001b[38;5;124m\"\u001b[39m\n\u001b[1;32m-> 1325\u001b[0m     \u001b[38;5;28;01mraise\u001b[39;00m \u001b[38;5;167;01mKeyboardInterrupt\u001b[39;00m(msg) \u001b[38;5;28;01mfrom\u001b[39;00m\u001b[38;5;250m \u001b[39m\u001b[38;5;28;01mNone\u001b[39;00m\n\u001b[0;32m   1326\u001b[0m \u001b[38;5;28;01mexcept\u001b[39;00m \u001b[38;5;167;01mException\u001b[39;00m:\n\u001b[0;32m   1327\u001b[0m     \u001b[38;5;28mself\u001b[39m\u001b[38;5;241m.\u001b[39mlog\u001b[38;5;241m.\u001b[39mwarning(\u001b[38;5;124m\"\u001b[39m\u001b[38;5;124mInvalid Message:\u001b[39m\u001b[38;5;124m\"\u001b[39m, exc_info\u001b[38;5;241m=\u001b[39m\u001b[38;5;28;01mTrue\u001b[39;00m)\n",
                        "\u001b[1;31mKeyboardInterrupt\u001b[0m: Interrupted by user"
                    ]
                }
            ],
            "source": [
                "# Ejemplo mejorado: Clasificación de calificaciones de un estudiante\n",
                "#calificacion= 101.01\n",
                "while True:\n",
                "    #es un ciclo infinito hasta que usuario de un valor valido \n",
                "    try:\n",
                "               \n",
                "        #while calificacion < 0 or calificacion > 100:\n",
                "            #calificacion = float(input(\"Digite la calificación obtenida de 0 a 100\"))\n",
                "        calificacion = float(input(\"Digite la calificación obtenida de 0 a 100\"))\n",
                "        Resultado= \"\"\n",
                "        if calificacion < 60:\n",
                "            Resultado=\"La calificación es menor que 60, el estudiante obtiene una **F**\"\n",
                "        elif calificacion >= 60 and calificacion <= 69:\n",
                "            Resultado = \"La calificación está entre 60 y 69, el estudiante obtiene una **D**\"\n",
                "        elif calificacion >= 70 and calificacion <= 79:\n",
                "            Resultado = \"La calificación está entre 70 y 79, el estudiante obtiene una **C**\"\n",
                "        elif calificacion >= 80 and calificacion <=89:\n",
                "            Resultado= \"La calificación está entre 80 y 89, el estudiante obtiene una **B**.\"\n",
                "        elif calificacion >= 90 and calificacion <= 100:\n",
                "            Resultado= \"El estudiante obtiene una **A** \\n Buen Trabajo\"\n",
                "        else:\n",
                "            Resultado= \"No puede superar la nota de 100\"\n",
                "        print(f\"La puntuacion obtenida es de {calificacion}, por lo tanto {Resultado}\")\n",
                "    except ValueError:\n",
                "        print('Ingresa un valor valido para la calificación') #es un error validado\n"
            ]
        },
        {
            "attachments": {},
            "cell_type": "markdown",
            "metadata": {
                "azdata_cell_guid": "90552ad9-627b-42bd-84b0-f87e15cfe087"
            },
            "source": [
                "### <mark>2.3. **Ejercicio Práctico**</mark>\n",
                "\n",
                "### Escribe un programa que pida al usuario ingresar su edad. Luego, el programa debe imprimir si es mayor o menor de edad (asumiendo 18 años como el límite).\n",
                "\n",
                "- El programa pide al usuario ingresar su edad.\n",
                "- Si el usuario ingresa un valor no válido (por ejemplo, texto o números negativos), le solicita nuevamente que ingrese un número válido.\n",
                "- Dependiendo de la edad ingresada, el programa:\n",
                "    - Imprime si es \"menor de edad\" (menor de 18).\n",
                "    - Imprime si es \"mayor de edad\" (18 años o más).\n",
                "    - Opcionalmente, imprime un mensaje especial para niños menores de 13 años o personas mayores de 65 años.\n",
                "- Permite que el usuario repita el proceso tantas veces como desee. \\*\\*\\*OPCIONAL"
            ]
        },
        {
            "cell_type": "code",
            "execution_count": 30,
            "metadata": {
                "azdata_cell_guid": "90b5ee62-7483-4012-88a1-415f1716cb3e",
                "language": "python"
            },
            "outputs": [
                {
                    "name": "stdout",
                    "output_type": "stream",
                    "text": [
                        "Digite 'q' para salir del programa \n",
                        "Gracias su experiencia es muy importante\n",
                        "Es mayor de edad\n",
                        "Es mayor de edad\n",
                        "Aun menor, tiene 17\n",
                        "Aun menor, tiene 17\n",
                        "\n",
                        "Tiene 12. Sigue creciendo niño, Muchos exitos\n",
                        "Gracias su experiencia es muy importante\n",
                        "\n"
                    ]
                }
            ],
            "source": [
                "# Declaración de variables\n",
                "# Ejercicio para verificar si una persona es mayor o menor de edad\n",
                "def EsNumerico(Cadena):\n",
                "    try:\n",
                "        int(Cadena)\n",
                "        return True\n",
                "    except ValueError:\n",
                "        return False\n",
                "    \n",
                "#EsValido=False  \n",
                "\n",
                "print(\"Digite 'q' para salir del programa \")\n",
                "while True: # EsValido == False:\n",
                "    \n",
                "    Edad = input('\\nDigite la edad o \"q\" para salir del programa')\n",
                "    if Edad == \"q\":\n",
                "        break\n",
                "    else:\n",
                "        if EsNumerico(Edad):        \n",
                "            Edad=int(Edad)\n",
                "            if Edad >= 0:\n",
                "                #EsValido = True\n",
                "                if Edad > 0 and Edad < 13:\n",
                "                    print(f'Tiene {Edad}. Sigue creciendo niño, Muchos exitos')\n",
                "                elif Edad >= 13 and Edad < 18:\n",
                "                    print(f'Aun menor, tiene {Edad}')\n",
                "                elif Edad >= 18  and Edad <= 65:\n",
                "                    print(\"Es mayor de edad\")     \n",
                "                else:\n",
                "                    print(\"Gracias su experiencia es muy importante\")     \n",
                "        else:\n",
                "            print(\"\")\n",
                "            #EsValido = False\n",
                "            #break\n",
                "            \n",
                "\n"
            ]
        },
        {
            "attachments": {},
            "cell_type": "markdown",
            "metadata": {
                "azdata_cell_guid": "7a387c19-3988-4cdd-a37b-33becdadbb46"
            },
            "source": [
                "## **3\\. Bucles**\n",
                "\n",
                "### 3.1. **Teoría**\n",
                "\n",
                "Los bucles permiten repetir un bloque de código varias veces. Python tiene dos tipos principales de bucles: `for` y `while`.\n",
                "\n",
                "- **Bucle `for`:** Se utiliza para iterar sobre una secuencia (listas, tuplas, cadenas, etc.).\n",
                "- **Bucle `while`:** Repite un bloque de código mientras una condición sea `True`.\n",
                "\n",
                "### 3.2. **Ejemplo de Código**\n",
                "\n",
                "### \n",
                "\n",
                "- **Bucle `for`:**"
            ]
        },
        {
            "cell_type": "code",
            "execution_count": 15,
            "metadata": {
                "azdata_cell_guid": "12496b36-600f-4f59-8607-58eafbbac4e5",
                "language": "python"
            },
            "outputs": [
                {
                    "name": "stdout",
                    "output_type": "stream",
                    "text": [
                        "iterar 0\n",
                        "iterar 1\n",
                        "iterar 2\n",
                        "iterar 3\n",
                        "iterar 4\n",
                        "iterar 5\n",
                        "iterar 6\n",
                        "iterar 7\n",
                        "iterar 8\n",
                        "iterar 9\n",
                        "56\n"
                    ]
                }
            ],
            "source": [
                "# Ejemplo de bucle for range es como decir le 0 a 9\n",
                "for i in range(10):\n",
                "    print(f'iterar {i}')\n",
                "#ahora le decimo de 0 hasta  9 + 1\n",
                "suma = 0\n",
                "for numero in range(1, 10 + 1):\n",
                "    suma += numero\n",
                "print(suma + 1 )"
            ]
        },
        {
            "cell_type": "markdown",
            "metadata": {},
            "source": [
                "Para acceder a los valores de diccionario dentro del bucle, puede hacer una \n",
                "referencia de diccionario utilizando la clave como de costumbre:\n",
                "#bucles\n"
            ]
        },
        {
            "cell_type": "code",
            "execution_count": 26,
            "metadata": {},
            "outputs": [
                {
                    "name": "stdout",
                    "output_type": "stream",
                    "text": [
                        "foo\n",
                        "bar\n",
                        "baz\n",
                        "1\n",
                        "2\n",
                        "3\n"
                    ]
                }
            ],
            "source": [
                "d = {'foo': 1, 'bar': 2, 'baz': 3}\n",
                "for k in d:\n",
                "    print(k)\n"
            ]
        },
        {
            "cell_type": "markdown",
            "metadata": {},
            "source": [
                "## Para acceder a los valores de diccionario dentro del bucle, puede hacer una referencia de diccionario utilizando la clave como de costumbre:"
            ]
        },
        {
            "cell_type": "code",
            "execution_count": 27,
            "metadata": {},
            "outputs": [
                {
                    "name": "stdout",
                    "output_type": "stream",
                    "text": [
                        "1\n",
                        "2\n",
                        "3\n"
                    ]
                }
            ],
            "source": [
                "\n",
                "for k in d:\n",
                "    print(d[k])"
            ]
        },
        {
            "cell_type": "code",
            "execution_count": 28,
            "metadata": {},
            "outputs": [
                {
                    "name": "stdout",
                    "output_type": "stream",
                    "text": [
                        "1\n",
                        "2\n",
                        "3\n"
                    ]
                }
            ],
            "source": [
                "#También puede recorrer en iteración los valores de un diccionario directamente mediante .values():\n",
                "\n",
                "for v in d.values():\n",
                "    print(v)\n"
            ]
        },
        {
            "cell_type": "markdown",
            "metadata": {},
            "source": [
                "bucle while"
            ]
        },
        {
            "cell_type": "code",
            "execution_count": 17,
            "metadata": {},
            "outputs": [
                {
                    "name": "stdout",
                    "output_type": "stream",
                    "text": [
                        "iterador 0\n",
                        "iterador 1\n",
                        "iterador 2\n",
                        "iterador 3\n",
                        "iterador 4\n",
                        "iterador 5\n",
                        "iterador 6\n",
                        "iterador 7\n",
                        "iterador 8\n",
                        "iterador 9\n",
                        "iterador 10\n"
                    ]
                }
            ],
            "source": [
                "contador = 1\n",
                "suma = 0\n",
                "while contador <= 10:    \n",
                "    print(f'iterador {contador}')    \n",
                "    contador +=1"
            ]
        },
        {
            "cell_type": "code",
            "execution_count": null,
            "metadata": {},
            "outputs": [],
            "source": [
                "contador = 1\n",
                "final_suma = int(input(\"diguite un numero\"))\n",
                "while contador <= final_suma:    \n",
                "    #print(f'iterador {contador}')\n",
                "    suma += contador"
            ]
        },
        {
            "attachments": {},
            "cell_type": "markdown",
            "metadata": {
                "azdata_cell_guid": "c24a4bae-ea4c-485d-8067-d5e07afb3435",
                "language": "python"
            },
            "source": [
                "### **Caso: Suma de numeros del 1 a la cantidad que defina el usuario.**\n",
                "\n",
                "Vamos a suponer que queremos calcular la suma de los números del 1 a la catidad que deficna el suario. Este caso es útil para entender cómo funciona el bucle `for`, ya que iteramos sobre una secuencia de números y realizamos una operación en cada iteración."
            ]
        },
        {
            "cell_type": "code",
            "execution_count": null,
            "metadata": {
                "azdata_cell_guid": "49c58740-3080-45a0-b119-c5b144581977",
                "language": "python"
            },
            "outputs": [],
            "source": [
                "#Respuesta\n",
                "NumeroDado = int(input(\"Digite un numero\"))\n",
                "\n"
            ]
        },
        {
            "attachments": {},
            "cell_type": "markdown",
            "metadata": {
                "azdata_cell_guid": "c0bcf79f-f9af-4761-81f7-ada74af0a7ec"
            },
            "source": [
                "### \n",
                "\n",
                "- **Bucle** `while`:"
            ]
        },
        {
            "cell_type": "code",
            "execution_count": null,
            "metadata": {
                "azdata_cell_guid": "a3aaa670-2151-4756-9264-85312d17674a",
                "language": "python",
                "tags": []
            },
            "outputs": [],
            "source": [
                "# Ejemplo de bucle while\n"
            ]
        },
        {
            "attachments": {},
            "cell_type": "markdown",
            "metadata": {
                "azdata_cell_guid": "2d7802f8-ded4-4357-8ac4-69fd427f1a51",
                "language": "python"
            },
            "source": [
                "### **Caso: Cálculo de Total de Compras**\n",
                "\n",
                "#### <span style=\"color: var(--vscode-foreground); font-weight: normal;\">Imagina que estás desarrollando un pequeño programa para una tienda. Los clientes ingresan el precio de varios productos que están comprando, uno por uno. El programa debe seguir pidiendo el precio de cada producto hasta que el usuario indique que no va a ingresar más productos, y al final, debe calcular y mostrar el total a pagar.</span>"
            ]
        },
        {
            "cell_type": "code",
            "execution_count": 33,
            "metadata": {
                "azdata_cell_guid": "fd2a5e98-6e47-475a-9006-7510558a271c",
                "language": "python",
                "tags": []
            },
            "outputs": [
                {
                    "name": "stdout",
                    "output_type": "stream",
                    "text": [
                        "\n",
                        "El total de la compra es de 50\n"
                    ]
                }
            ],
            "source": [
                "#Respuesta\n",
                "# Declaración de variables\n",
                "# Ejercicio para verificar si una persona es mayor o menor de edad\n",
                "def EsNumerico(Cadena):\n",
                "    try:\n",
                "        int(Cadena)\n",
                "        return True\n",
                "    except ValueError:\n",
                "        return False\n",
                "    \n",
                "#EsValido=False  \n",
                "Suma = 0\n",
                "Total = 0\n",
                "#print(\"En cualquier momento Digite 'q' para salir del programa \")\n",
                "while True: # EsValido == False:\n",
                "    \n",
                "    Suma =input('\\nDigite la Monto  del producto o \"q\" en minúscula para salir del programa')\n",
                "    if Suma == \"q\":\n",
                "        break\n",
                "    else:\n",
                "        if EsNumerico(Suma):        \n",
                "            Suma=int(Suma)\n",
                "            if Suma >= 0:\n",
                "                #EsValido = True\n",
                "                Total += Suma\n",
                "        else:\n",
                "            print(\"\")\n",
                "            #EsValido = False\n",
                "            #break\n",
                "print(f'El total de la compra es de {Total}')\n",
                " "
            ]
        },
        {
            "attachments": {},
            "cell_type": "markdown",
            "metadata": {
                "azdata_cell_guid": "10864839-331a-4069-8cb9-58123740ec63"
            },
            "source": [
                "### <mark>3.3. **Ejercicio Práctico -** Tabla de Multiplicar</mark>\n",
                "\n",
                "**Descripción:** Crea un programa que pida al usuario un número entero `n` y muestre la tabla de multiplicar de ese número del 1 al 10. Utiliza un ciclo `while` para generar la tabla.\n",
                "\n",
                "**Instrucciones:**\n",
                "\n",
                "1. Solicita al usuario que ingrese un número entero.\n",
                "2. Inicializa una variable `i` en 1.\n",
                "3. Utiliza un ciclo `while` para que mientras `i` sea menor o igual a 10:\n",
                "    - Multiplica `n` por `i` y muestra el resultado en el formato \"n x i = resultado\".\n",
                "    - Incrementa `i` en 1.\n",
                "4. Al final, muestra la tabla completa.\n",
                "\n",
                "**Ejemplo de salida:**\n",
                "\n",
                "```\n",
                "\n",
                "Ingrese un número entero: 3\n",
                "Tabla de multiplicar de 3:\n",
                "\n",
                "3 x 1 = 3\n",
                "3 x 2 = 6\n",
                "3 x 3 = 9\n",
                "3 x 4 = 12\n",
                "3 x 5 = 15\n",
                "3 x 6 = 18\n",
                "3 x 7 = 21\n",
                "3 x 8 = 24\n",
                "3 x 9 = 27\n",
                "3 x 10 = 30\n",
                "\n",
                "```"
            ]
        },
        {
            "cell_type": "code",
            "execution_count": 36,
            "metadata": {
                "azdata_cell_guid": "0ac67dcf-9e16-4022-94c3-fd2af98a43fd",
                "language": "python"
            },
            "outputs": [
                {
                    "name": "stdout",
                    "output_type": "stream",
                    "text": [
                        "La tabla de multiplicar a desplegar es :5\n",
                        "5 X 1 = 5\n",
                        "5 X 2 = 10\n",
                        "5 X 3 = 15\n",
                        "5 X 4 = 20\n",
                        "5 X 5 = 25\n",
                        "5 X 6 = 30\n",
                        "5 X 7 = 35\n",
                        "5 X 8 = 40\n",
                        "5 X 9 = 45\n",
                        "5 X 10 = 50\n"
                    ]
                }
            ],
            "source": [
                "#Respuesta que pida al usuario la tabla de multiplicar del numero que ponga que debe ser del 1 al 10 cualquiera\n",
                "TablaMultiplicar = int(input('Ponga el número de tabla que desea desplegar en pantalla'))\n",
                "print(f\"La tabla de multiplicar a desplegar es :{TablaMultiplicar}\")\n",
                "contador = 1\n",
                "Resultado = 0\n",
                "while contador <= 10:\n",
                "    Resultado = contador * TablaMultiplicar\n",
                "    print(f'{TablaMultiplicar} X {contador} = {Resultado}')\n",
                "    contador += 1\n"
            ]
        },
        {
            "attachments": {},
            "cell_type": "markdown",
            "metadata": {
                "azdata_cell_guid": "57643192-1d41-4b05-9716-bb07f2c061fe",
                "language": "python"
            },
            "source": [
                "#### <mark>3.3. Ejercicio Práctico</mark>\n",
                "\n",
                "Escribe un programa que imprima los números del 1 al 10 usando un bucle for. Luego, realiza el mismo ejercicio con un bucle while."
            ]
        },
        {
            "cell_type": "code",
            "execution_count": null,
            "metadata": {
                "azdata_cell_guid": "f3753d98-fffa-464b-aa95-e6129cc6c3b6",
                "language": "python"
            },
            "outputs": [],
            "source": [
                "#Respuesta"
            ]
        },
        {
            "attachments": {},
            "cell_type": "markdown",
            "metadata": {
                "azdata_cell_guid": "34bbf155-7b0d-4faf-afd8-162d9192da2b",
                "language": "python"
            },
            "source": [
                "**Caso 2: Suma de Números**\n",
                "- **Presentación:** Supongamos que tienes una lista de números y quieres calcular la suma total. ¿Cómo podrías hacer esto en Python?    \n",
                "- **Salida Esperada:**    \n",
                "    - La suma total de los números en la lista.\n",
                "- **Preguntas adicionales:**    \n",
                "    - ¿Cómo podrías calcular el promedio de los números?\n",
                "    - ¿Y si quisieras encontrar el número más grande y el más pequeño?\n",
                "    - ¿Puedes modificar el código para que solo sume los números pares?"
            ]
        },
        {
            "attachments": {},
            "cell_type": "markdown",
            "metadata": {
                "azdata_cell_guid": "08d5eece-75c3-4e51-83b9-9388510c5dd5"
            },
            "source": [
                "## **4\\. Listas y su Procesamiento**\n",
                "\n",
                "### 4.1. **Teoría**\n",
                "\n",
                "Una lista es una estructura de datos en Python que almacena múltiples elementos en un solo objeto. Las listas son mutables, lo que significa que podemos modificar su contenido después de haberlas creado.\n",
                "\n",
                "### **Operaciones comunes con listas:**\n",
                "\n",
                "- **Añadir elementos:** `append()`, `insert()`\n",
                "- **Eliminar elementos:** `remove()`, `pop()`\n",
                "- **Acceso a elementos:** Índices\n",
                "- **Slicing:** Obtener sublistas\n",
                "\n",
                "### 4.2. **Ejemplo de Código**"
            ]
        },
        {
            "cell_type": "code",
            "execution_count": null,
            "metadata": {
                "azdata_cell_guid": "4450cc96-4f36-4404-b39b-0aa88f4412e8",
                "language": "python"
            },
            "outputs": [],
            "source": [
                "# Ejemplo de procesamiento de listas\n"
            ]
        },
        {
            "attachments": {},
            "cell_type": "markdown",
            "metadata": {
                "azdata_cell_guid": "f8af47ce-1967-48b9-befe-7c36b15ba133"
            },
            "source": [
                "### <mark>4.3. **Ejercicio Práctico**</mark>\n",
                "\n",
                "Imagina que quieres crear una lista de tus amigos. ¿Cómo podrías almacenar estos nombres en Python? Una vez que tengas la lista, ¿cómo podrías agregar un nuevo amigo? ¿Y cómo podrías saludar a cada uno de ellos?\n",
                "\n",
                "```\n",
                "amigos = [\"Ana\", \"Juan\", \"María\", \"Pedro\"\\] \\# ... (resto del código)\n",
                "\n",
                "```\n",
                "\n",
                "**Salida Esperada:**\n",
                "\n",
                "```\n",
                "- Una lista impresa con todos los nombres de los amigos.\n",
                "- El nombre del tercer amigo.\n",
                "- Un saludo personalizado para cada amigo.\n",
                "\n",
                "```\n",
                "\n",
                "**Preguntas adicionales:**\n",
                "\n",
                "```\n",
                "- ¿Cómo podrías eliminar a un amigo de la lista?\n",
                "- ¿Qué pasa si quieres cambiar el nombre de un amigo?\n",
                "- ¿Puedes ordenar la lista alfabéticamente?\n",
                "\n",
                "```"
            ]
        },
        {
            "cell_type": "code",
            "execution_count": null,
            "metadata": {
                "azdata_cell_guid": "de9d885b-ca64-4e10-b8c6-8afd4c69239c",
                "language": "python"
            },
            "outputs": [],
            "source": [
                "#Respuesta"
            ]
        },
        {
            "attachments": {},
            "cell_type": "markdown",
            "metadata": {
                "azdata_cell_guid": "2a24eed7-de3f-4200-86f6-3a3b138d9253"
            },
            "source": [
                "## **4\\. Listas y su Procesamiento**\n",
                "\n",
                "### 4.1. **Teoría**\n",
                "\n",
                "Una lista es una estructura de datos en Python que almacena múltiples elementos en un solo objeto. Las listas son mutables, lo que significa que podemos modificar su contenido después de haberlas creado.\n",
                "\n",
                "### **Operaciones comunes con listas:**\n",
                "\n",
                "- **Añadir elementos:** `append()`, `insert()`\n",
                "- **Eliminar elementos:** `remove()`, `pop()`\n",
                "- **Acceso a elementos:** Índices\n",
                "- **Slicing:** Obtener sublistas\n",
                "\n",
                "### 4.2. **Ejemplo de Código**"
            ]
        },
        {
            "cell_type": "code",
            "execution_count": null,
            "metadata": {
                "azdata_cell_guid": "11f0ac54-2638-45a6-8f22-5268289ac86d",
                "language": "python",
                "tags": []
            },
            "outputs": [],
            "source": [
                "# Ejemplo de procesamiento de listas\n",
                "#             0          1          2"
            ]
        },
        {
            "attachments": {},
            "cell_type": "markdown",
            "metadata": {
                "azdata_cell_guid": "fe863a2c-41ac-4322-a94d-6f2154b12c23",
                "language": "python"
            },
            "source": [
                "**append(elemento):**\n",
                "\n",
                "- Agrega un elemento al final de la lista."
            ]
        },
        {
            "cell_type": "code",
            "execution_count": null,
            "metadata": {
                "azdata_cell_guid": "390d1287-7bdd-43f1-8338-e09b1ab5b9b7",
                "language": "python"
            },
            "outputs": [],
            "source": []
        },
        {
            "attachments": {},
            "cell_type": "markdown",
            "metadata": {
                "azdata_cell_guid": "1feeb01b-5c04-4ba0-bef6-e682262c92ca",
                "language": "python"
            },
            "source": [
                "**insert(índice, elemento):**\n",
                "\n",
                "- Inserta un elemento en una posición específica de la lista.\n",
                "- El índice indica la posición antes de la cual se insertará el elemento."
            ]
        },
        {
            "cell_type": "code",
            "execution_count": null,
            "metadata": {
                "azdata_cell_guid": "7ce0bb35-c66f-4d06-9a89-e0a2dca53266",
                "language": "python"
            },
            "outputs": [],
            "source": []
        },
        {
            "attachments": {},
            "cell_type": "markdown",
            "metadata": {
                "azdata_cell_guid": "26ac0ea0-af16-4b3e-aa56-9442cf11eeb2",
                "language": "python"
            },
            "source": [
                "**remove(elemento):**\n",
                "\n",
                "- Elimina la primera ocurrencia de un elemento específico de la lista.\n",
                "- Si el elemento no existe, se produce un error."
            ]
        },
        {
            "cell_type": "code",
            "execution_count": null,
            "metadata": {
                "azdata_cell_guid": "17b9619a-2b82-48be-b955-f27112bb03cb",
                "language": "python"
            },
            "outputs": [],
            "source": []
        },
        {
            "attachments": {},
            "cell_type": "markdown",
            "metadata": {
                "azdata_cell_guid": "aed96f34-e449-4d8c-b709-d2f5e5b4e4eb",
                "language": "python"
            },
            "source": [
                "**pop(índice):**\n",
                "\n",
                "- Elimina y devuelve el elemento en la posición indicada.\n",
                "- Si no se especifica un índice, elimina y devuelve el último elemento."
            ]
        },
        {
            "cell_type": "code",
            "execution_count": null,
            "metadata": {
                "azdata_cell_guid": "a13c2808-612f-45b2-a935-1dc4333b8677",
                "language": "python"
            },
            "outputs": [],
            "source": []
        },
        {
            "attachments": {},
            "cell_type": "markdown",
            "metadata": {
                "azdata_cell_guid": "ee2dbb3e-efbf-4cb9-aa30-faae355f31fb",
                "language": "python"
            },
            "source": [
                "### **<mark>Caso Final</mark>** \n",
                "\n",
                "  \n",
                "\n",
                "Un profesor quiere llevar un registro de los nombres de sus estudiantes. Ayúdale a crear un programa que le permita agregar nuevos estudiantes, ver la lista completa y acceder a la información de un estudiante en particular."
            ]
        },
        {
            "cell_type": "code",
            "execution_count": 2,
            "metadata": {
                "azdata_cell_guid": "9632a0a3-3979-4a34-b08b-82179de35bc0",
                "language": "python"
            },
            "outputs": [
                {
                    "name": "stdout",
                    "output_type": "stream",
                    "text": [
                        "'nSeleccione una opción:\n",
                        "1. Agregar nuevo estudiante\n",
                        "2. Ver la lista completa de estudiantes\n",
                        "3. Ver un estudiante en particular\n",
                        "4. Salir\n",
                        "estudiante agregdo\n",
                        "\n",
                        "'nSeleccione una opción:\n",
                        "1. Agregar nuevo estudiante\n",
                        "2. Ver la lista completa de estudiantes\n",
                        "3. Ver un estudiante en particular\n",
                        "4. Salir\n",
                        "estudiante agregdo\n",
                        "\n",
                        "'nSeleccione una opción:\n",
                        "1. Agregar nuevo estudiante\n",
                        "2. Ver la lista completa de estudiantes\n",
                        "3. Ver un estudiante en particular\n",
                        "4. Salir\n",
                        "estudiante agregdo\n",
                        "\n",
                        "'nSeleccione una opción:\n",
                        "1. Agregar nuevo estudiante\n",
                        "2. Ver la lista completa de estudiantes\n",
                        "3. Ver un estudiante en particular\n",
                        "4. Salir\n",
                        "estudiante agregdo\n",
                        "\n",
                        "'nSeleccione una opción:\n",
                        "1. Agregar nuevo estudiante\n",
                        "2. Ver la lista completa de estudiantes\n",
                        "3. Ver un estudiante en particular\n",
                        "4. Salir\n",
                        " Estudiante: jose\n",
                        " Estudiante: pedro\n",
                        " Estudiante: carlos\n",
                        " Estudiante: enrique\n",
                        "'nSeleccione una opción:\n",
                        "1. Agregar nuevo estudiante\n",
                        "2. Ver la lista completa de estudiantes\n",
                        "3. Ver un estudiante en particular\n",
                        "4. Salir\n",
                        " Estudiante: jose\n",
                        " Estudiante: pedro\n",
                        " Estudiante: carlos\n",
                        " Estudiante: enrique\n",
                        "'nSeleccione una opción:\n",
                        "1. Agregar nuevo estudiante\n",
                        "2. Ver la lista completa de estudiantes\n",
                        "3. Ver un estudiante en particular\n",
                        "4. Salir\n",
                        "/nsaliendo\n"
                    ]
                }
            ],
            "source": [
                "estudiantes = []\n",
                "# las funciones deben ir arriba de donde las pide porque python es interpretado\n",
                "def agregar_estudiante():\n",
                "    #print(\"/nIngresar estudiante\")\n",
                "    nombre = input(\"Cual es el nombre del estudiante\")\n",
                "    estudiantes.append(nombre)\n",
                "    print(\"estudiante agregado\")\n",
                "def imprimir_lista():\n",
                "    # o print(lista)\n",
                "    for elemento in estudiantes:\n",
                "        print(f' Estudiante: {elemento}')    \n",
                "def buscar_estudiante():\n",
                "    print(\"/n busca estudiante\")\n",
                "    CualEstudiante = input(f'Digite numero del estudiante a buscar')\n",
                "    estudiantes = CualEstudiante\n",
                "\n",
                "while True:\n",
                "    print('\\nSeleccione una opción:')\n",
                "    print('1. Agregar nuevo estudiante')\n",
                "    print('2. Ver la lista completa de estudiantes')\n",
                "    print('3. Ver un estudiante en particular')\n",
                "    print('4. Salir')\n",
                "    \n",
                "    menu  = input('Ingrese la opción')\n",
                "\n",
                "    if menu == '1':\n",
                "        agregar_estudiante()        \n",
                "    elif menu == '2':\n",
                "        imprimir_lista()\n",
                "    elif menu == '3':\n",
                "        print(\"/nbuscar estudiaNTE \")\n",
                "    elif menu == '4':\n",
                "        print(\"/nsaliendo\")\n",
                "        break\n",
                "    else:\n",
                "        print(\"/opcion no valida\")\n",
                "        break\n"
            ]
        },
        {
            "cell_type": "markdown",
            "metadata": {},
            "source": [
                "Dos líneas que tome el parámetro n como entrada, que es un entero, e imprime False si n es menor que 100, y True if n es mayor o igual que 100."
            ]
        },
        {
            "cell_type": "code",
            "execution_count": 9,
            "metadata": {},
            "outputs": [
                {
                    "name": "stdout",
                    "output_type": "stream",
                    "text": [
                        "n como entrada, que es un entero, e imprime False si n es menor que 100, y True if n es mayor o igual que 100.\n",
                        "resultado esperado False---->55 >=100 False\n",
                        " resultado esperado False--->99 >=100 False\n",
                        "resultado esperado True 100 =100 ---> True\n",
                        "resutltado esperado True 101 >= 100 True\n",
                        "resutltado esperado False -5 >= 100 False\n",
                        "resultado esperado True +123 = 100 True\n"
                    ]
                }
            ],
            "source": [
                "print(\"n como entrada, que es un entero, e imprime False si n es menor que 100, y True if n es mayor o igual que 100.\")\n",
                "n = 55 \n",
                "print(f'resultado esperado False---->55 >=100',n >= 100) #resultado False\n",
                "n = 99\n",
                "print(f' resultado esperado False--->99 >=100',n >= 100) #resultado False\n",
                "n = 100\n",
                "print(f'resultado esperado True 100 =100 --->', n == 100)\n",
                "n = 101 #r\n",
                "print(f'resutltado esperado True 101 >= 100', n >= 100)\n",
                "n = -5\n",
                "print(f'resutltado esperado False -5 >= 100', n >= 100)\n",
                "n = +123\n",
                "print(f'resultado esperado True +123 = 100',n != 100)"
            ]
        },
        {
            "cell_type": "code",
            "execution_count": 13,
            "metadata": {},
            "outputs": [
                {
                    "ename": "ValueError",
                    "evalue": "invalid literal for int() with base 10: 'espatifilo'",
                    "output_type": "error",
                    "traceback": [
                        "\u001b[1;31m---------------------------------------------------------------------------\u001b[0m",
                        "\u001b[1;31mValueError\u001b[0m                                Traceback (most recent call last)",
                        "Cell \u001b[1;32mIn[13], line 2\u001b[0m\n\u001b[0;32m      1\u001b[0m \u001b[38;5;66;03m# Se leen tres números.\u001b[39;00m\n\u001b[1;32m----> 2\u001b[0m number1 \u001b[38;5;241m=\u001b[39m \u001b[38;5;28;43mint\u001b[39;49m\u001b[43m(\u001b[49m\u001b[38;5;28;43minput\u001b[39;49m\u001b[43m(\u001b[49m\u001b[38;5;124;43m\"\u001b[39;49m\u001b[38;5;124;43mIngresa el primer número: \u001b[39;49m\u001b[38;5;124;43m\"\u001b[39;49m\u001b[43m)\u001b[49m\u001b[43m)\u001b[49m\n\u001b[0;32m      3\u001b[0m number2 \u001b[38;5;241m=\u001b[39m \u001b[38;5;28mint\u001b[39m(\u001b[38;5;28minput\u001b[39m(\u001b[38;5;124m\"\u001b[39m\u001b[38;5;124mIngresa el segundo número: \u001b[39m\u001b[38;5;124m\"\u001b[39m))\n\u001b[0;32m      4\u001b[0m number3 \u001b[38;5;241m=\u001b[39m \u001b[38;5;28mint\u001b[39m(\u001b[38;5;28minput\u001b[39m(\u001b[38;5;124m\"\u001b[39m\u001b[38;5;124mIngresa el tercer número: \u001b[39m\u001b[38;5;124m\"\u001b[39m))\n",
                        "\u001b[1;31mValueError\u001b[0m: invalid literal for int() with base 10: 'espatifilo'"
                    ]
                }
            ],
            "source": [
                "# Se leen tres números.\n",
                "number1 = int(input(\"Ingresa el primer número: \"))\n",
                "number2 = int(input(\"Ingresa el segundo número: \"))\n",
                "number3 = int(input(\"Ingresa el tercer número: \"))\n",
                " \n",
                "# Verifica cuál de los números es el mayor\n",
                "# y pásalo a la variable largest_number.\n",
                " \n",
                "largest_number = max(number1, number2, number3)\n",
                " \n",
                "# Imprime el resultado.\n",
                "print(\"El número más grande es:\", largest_number)"
            ]
        },
        {
            "cell_type": "code",
            "execution_count": null,
            "metadata": {},
            "outputs": [
                {
                    "name": "stdout",
                    "output_type": "stream",
                    "text": [
                        "digite la planta \n",
                        "¡Espatifilo!, ¡No [entrada]!! pelargonio\n"
                    ]
                }
            ],
            "source": [
                "print(\"digite la planta \")\n",
                "entrada =  input(\"Digite la planta mejor de todos los tiempos\")\n",
                "if entrada == \"ESPATIFILIO\":\n",
                "    print(f'Si - ¡El Espatifilo! es la mejor planta de todos los tiempos!\"')\n",
                "elif entrada == \"espatifilo\":\n",
                "    print(f'No, ¡quiero un gran Espatifilo!')\n",
                "else:\n",
                "    print(f'¡Espatifilo!, ¡No !! {entrada}')"
            ]
        },
        {
            "cell_type": "markdown",
            "metadata": {},
            "source": [
                "si el ingreso del ciudadano no era superior a 85,528 pesos, el impuesto era igual al 18% del ingreso menos 556 pesos y 2 centavos (esta fue la llamada exención fiscal).\n",
                "si el ingreso era superior a esta cantidad, el impuesto era igual a 14,839 pesos y 2 centavos, más el 32% del excedente sobre 85,528 pesos.\n"
            ]
        },
        {
            "cell_type": "code",
            "execution_count": 23,
            "metadata": {},
            "outputs": [
                {
                    "name": "stdout",
                    "output_type": "stream",
                    "text": [
                        "El ingreso es de:  1000.0  pesos y el  impuesto es: -376.0 pesos\n"
                    ]
                }
            ],
            "source": [
                "income = float(input(\"Introduce el ingreso anual: \"))\n",
                "\n",
                "if income > 0 and income <= 85528:\n",
                "\ttax = income * 0.18 - 556.02\n",
                "# Escribe tu código aquí.\n",
                "elif income > 85528:\n",
                "    tax = 14839.02 + ((income-85528)*0.32)\n",
                "else:\n",
                "    tax = 0\n",
                "tax = round(tax, 0)\n",
                "print(\"El ingreso es de: \", income , \" pesos y el  impuesto es:\", tax, \"pesos\")\n",
                " "
            ]
        },
        {
            "cell_type": "markdown",
            "metadata": {},
            "source": [
                "si el número del año no es divisible entre cuatro, es un año común.\n",
                "de lo contrario, si el número del año no es divisible entre 100, es un año bisiesto.\n",
                "de lo contrario, si el número del año no es divisible entre 400, es un año común.\n",
                "de lo contrario, es un año bisiesto."
            ]
        },
        {
            "cell_type": "code",
            "execution_count": null,
            "metadata": {},
            "outputs": [],
            "source": [
                "year = int(input(\"Introduce un año: \"))\n",
                "\n",
                "if year < 1582:\n",
                "\tprint(\"No esta dentro del período del calendario Gregoriano\")\n",
                "else:\n",
                "\tif year % 4 != 0:\n",
                "\t\tprint(\"Año Común\")\n",
                "\telif year % 100 != 0:\n",
                "\t\tprint(\"Año Bisiesto\")\n",
                "\telif year % 400 != 0:\n",
                "\t\tprint(\"Año Común\")\n",
                "\telse:\n",
                "\t\tprint(\"Año Bisiesto\")\n",
                "\t"
            ]
        },
        {
            "cell_type": "code",
            "execution_count": 25,
            "metadata": {},
            "outputs": [
                {
                    "name": "stdout",
                    "output_type": "stream",
                    "text": [
                        "8\n",
                        "10\n",
                        "5\n",
                        "True\n",
                        "False\n"
                    ]
                }
            ],
            "source": [
                "x, y, z = 5, 10, 8\n",
                "x, y, z = z, y, x\n",
                "print(x)\n",
                "print(y)\n",
                "print(z)\n",
                "print(x > z)\n",
                "print((y - 5) == x)"
            ]
        },
        {
            "cell_type": "markdown",
            "metadata": {},
            "source": []
        },
        {
            "cell_type": "code",
            "execution_count": 27,
            "metadata": {},
            "outputs": [
                {
                    "name": "stdout",
                    "output_type": "stream",
                    "text": [
                        "\n",
                        "+================================+\n",
                        "| ¡Bienvenido a mi juego, muggle!|\n",
                        "| Introduce un número entero     |\n",
                        "| y adivina qué número he        |\n",
                        "| elegido para ti.               |\n",
                        "|¿Cuál es el número secreto?     |\n",
                        "+================================+\n",
                        "\n",
                        "¡Ja, ja! ¡Estás atrapado en mi bucle!\n",
                        "¡Ja, ja! ¡Estás atrapado en mi bucle!\n",
                        "¡Bien hecho, muggle! Eres libre ahora.\n"
                    ]
                }
            ],
            "source": [
                "secret_number = 777\n",
                "\n",
                "print(\n",
                "\"\"\"\n",
                "+================================+\n",
                "| ¡Bienvenido a mi juego, muggle!|\n",
                "| Introduce un número entero     |\n",
                "| y adivina qué número he        |\n",
                "| elegido para ti.               |\n",
                "|¿Cuál es el número secreto?     |\n",
                "+================================+\n",
                "\"\"\")\n",
                "\n",
                "try:\n",
                " \n",
                "    adivinar = int(input(\"Muggle, Adivine el numero que penso el mago\"))\n",
                "    while secret_number != adivinar:\n",
                "        print(\"¡Ja, ja! ¡Estás atrapado en mi bucle!\")\n",
                "        adivinar = int(input(\"Vuelve a intentarlo Muggle, adivine el numero que penso el mago\"))\n",
                "    print(\"¡Bien hecho, muggle! Eres libre ahora.\")\n",
                "except:\n",
                "    print(\"error\")"
            ]
        },
        {
            "cell_type": "code",
            "execution_count": 28,
            "metadata": {},
            "outputs": [
                {
                    "name": "stdout",
                    "output_type": "stream",
                    "text": [
                        "El valor de i es 2\n",
                        "El valor de i es 3\n",
                        "El valor de i es 4\n",
                        "El valor de i es 5\n",
                        "El valor de i es 6\n",
                        "El valor de i es 7\n"
                    ]
                }
            ],
            "source": [
                "for i in range(2, 8):\n",
                "    print(\"El valor de i es\", i)"
            ]
        },
        {
            "cell_type": "markdown",
            "metadata": {},
            "source": [
                "Ten en cuenta que el código en el editor contiene dos elementos que pueden no ser del todo claros en este momento: la sentencia import time y el método sleep(). Vamos a hablar de ellos pronto.\n",
                "\n",
                "Por el momento, nos gustaría que supieras que hemos importado el módulo time y hemos utilizado el método sleep() para suspender la ejecución de cada función posterior de print() dentro del bucle for durante un segundo, de modo que el mensaje enviado a la consola se parezca a un conteo real. No te preocupes - pronto aprenderás más sobre módulos y métodos.\n",
                "1 Mississippi\n",
                "2 Mississippi\n",
                "3 Mississippi\n",
                "4 Mississippi\n",
                "5 Mississippi\n",
                "Lista o no, aquí vengo!"
            ]
        },
        {
            "cell_type": "code",
            "execution_count": 29,
            "metadata": {},
            "outputs": [
                {
                    "name": "stdout",
                    "output_type": "stream",
                    "text": [
                        "Mississippi 0\n",
                        "Mississippi 1\n",
                        "Mississippi 2\n",
                        "Mississippi 3\n",
                        "Mississippi 4\n",
                        "Mississippi 5\n"
                    ]
                }
            ],
            "source": [
                "import time\n",
                "try:\n",
                "    for contador in range(0 , 6):\n",
                "        #sleep()\n",
                "        print(f'Mississippi {contador}')\n",
                "except:\n",
                "    print(\"error\")"
            ]
        },
        {
            "cell_type": "markdown",
            "metadata": {},
            "source": [
                "Diseña un programa que use un bucle while y le pida continuamente al usuario que ingrese una palabra a menos que ingrese \"chupacabra\" como la palabra de output secreta, en cuyo caso el mensaje \"Has dejado el bucle con éxito.\" debe imprimirse en la pantalla y el bucle debe terminar.\n",
                "\n",
                "No imprimas ninguna de las palabras ingresadas por el usuario. Utiliza el concepto de ejecución condicional y la sentencia break."
            ]
        },
        {
            "cell_type": "code",
            "execution_count": null,
            "metadata": {},
            "outputs": [],
            "source": [
                "#\"chupacabra\"\n",
                "#\"Has dejado el bucle con éxito.\"\n",
                "while True:\n",
                "    palabraClave = input(\"Digite una palabra, solo con la palabra clave podras salir del ciclo o bucle \")\n",
                "    if palabraClave == \"chupacabra\":\n",
                "        break\n",
                "print(\"Has dejado el bucle con éxito.\")"
            ]
        },
        {
            "cell_type": "markdown",
            "metadata": {},
            "source": [
                "pedir al usuario que ingrese una palabra.\n",
                "utiliza user_word = user_word.upper() para convertir la palabra ingresada por el usuario a mayúsculas; hablaremos sobre los llamados métodos de cadena y el método upper() muy pronto, no te preocupes\n",
                "utiliza la ejecución condicional y la instrucción continue para \"devorar\" las siguientes vocales A, E, I, O, U de la palabra ingresada.\n",
                "imprime las letras no consumidas en la pantalla, cada una de ellas en una línea separada\n",
                "Prueba tu programa con los datos que le proporcionamos."
            ]
        },
        {
            "cell_type": "code",
            "execution_count": null,
            "metadata": {},
            "outputs": [
                {
                    "name": "stdout",
                    "output_type": "stream",
                    "text": [
                        "Aqui te tenemos la palabra sin vocales BCDR\n"
                    ]
                }
            ],
            "source": [
                "# Indicar al usuario que ingrese una palabra\n",
                "# y asignarlo a la variable user_word.\n",
                "palabraSinvocales = \"\"\n",
                "user_word = input(\"Digite una palabra\") #voy a poner abecedario\n",
                "user_word = user_word.upper()\n",
                "for letter in user_word:\n",
                "    # Completa el cuerpo del bucle for.\n",
                "    if letter ==\"A\":\n",
                "        continue\n",
                "    elif letter == \"E\":\n",
                "        continue\n",
                "    elif letter == \"I\":\n",
                "        continue\n",
                "    elif letter == \"O\":\n",
                "        continue\n",
                "    elif letter == \"U\":\n",
                "        continue\n",
                "    else:\n",
                "        palabraSinvocales += letter\n",
                "print(f'Aqui te tenemos la palabra sin vocales {palabraSinvocales}')\n"
            ]
        },
        {
            "cell_type": "markdown",
            "metadata": {},
            "source": [
                "El bucle while y el bloque else\n",
                "La rama else del bucle siempre se ejecuta una vez, independientemente de si el bucle ha entrado o no en su cuerpo. \n",
                "Aunque no se cumpla la condicion Cuando el cuerpo del bucle no se ejecuta, la variable de control conserva el valor que tenía antes del bucle.\n"
            ]
        },
        {
            "cell_type": "code",
            "execution_count": null,
            "metadata": {},
            "outputs": [],
            "source": [
                "i = 1\n",
                "while i < 5:\n",
                "    print(i)\n",
                "    i += 1\n",
                "else:\n",
                "    print(\"else:\", i)\n"
            ]
        },
        {
            "cell_type": "code",
            "execution_count": null,
            "metadata": {},
            "outputs": [],
            "source": [
                "i = 5\n",
                "while i < 5:\n",
                "    print(i)\n",
                "    i += 1\n",
                "else:\n",
                "    print(\"else:\", i)"
            ]
        },
        {
            "cell_type": "code",
            "execution_count": null,
            "metadata": {},
            "outputs": [],
            "source": [
                "for i in range(5):\n",
                "    print(i)\n",
                "else:\n",
                "    print(\"else:\", i)"
            ]
        },
        {
            "cell_type": "code",
            "execution_count": null,
            "metadata": {},
            "outputs": [],
            "source": [
                "i = 111\n",
                "for i in range(2, 1):\n",
                "    print(i)\n",
                "else:\n",
                "    print(\"else:\", i)"
            ]
        },
        {
            "cell_type": "markdown",
            "metadata": {},
            "source": [
                "Tu tarea es escribir un programa que lea la cantidad de bloques que tienen los constructores, y generar la altura de la pirámide que se puede construir utilizando estos bloques."
            ]
        },
        {
            "cell_type": "code",
            "execution_count": 36,
            "metadata": {},
            "outputs": [
                {
                    "name": "stdout",
                    "output_type": "stream",
                    "text": [
                        "5\n"
                    ]
                }
            ],
            "source": [
                "bloques = 20\n",
                "altura = 0\n",
                "nivel = 1\n",
                "pisos = 0 \n",
                "while bloques >= nivel:\n",
                "    bloques -= nivel\n",
                "    altura += 1\n",
                "    nivel += 1\n",
                "print(altura)\n",
                "    "
            ]
        },
        {
            "cell_type": "code",
            "execution_count": 37,
            "metadata": {},
            "outputs": [
                {
                    "name": "stdout",
                    "output_type": "stream",
                    "text": [
                        "1\n",
                        "3\n",
                        "5\n",
                        "7\n",
                        "9\n"
                    ]
                }
            ],
            "source": [
                "for i in range(0, 11):\n",
                "    if i % 2 != 0:\n",
                "        print(i)"
            ]
        },
        {
            "cell_type": "markdown",
            "metadata": {},
            "source": [
                "Pregunta 3: Crea un programa con un bucle for y una sentencia break. El programa debe iterar sobre los caracteres en una dirección de correo electrónico, salir del bucle cuando llegue al símbolo @ e imprimir la parte antes de @ en una línea. Usa el esqueleto de abajo"
            ]
        },
        {
            "cell_type": "code",
            "execution_count": 39,
            "metadata": {},
            "outputs": [
                {
                    "name": "stdout",
                    "output_type": "stream",
                    "text": [
                        "correo antes de arroba john.smith\n"
                    ]
                }
            ],
            "source": [
                "correo =\"\"\n",
                "for ch in \"john.smith@pythoninstitute.org\":\n",
                "    if ch == \"@\":\n",
                "        break\n",
                "    else:\n",
                "        correo += ch\n",
                "        # Línea de código.\n",
                "    # Línea de código.\n",
                "print(f'correo antes de arroba {correo}')"
            ]
        },
        {
            "cell_type": "markdown",
            "metadata": {},
            "source": [
                "Pregunta 4: Crea un programa con un bucle for y una sentencia continue. El programa debe iterar sobre una cadena de dígitos, reemplazar cada 0 con x, e imprimir la cadena modificada en la pantalla. Usa el esqueleto de abajo:"
            ]
        },
        {
            "cell_type": "code",
            "execution_count": 41,
            "metadata": {},
            "outputs": [
                {
                    "name": "stdout",
                    "output_type": "stream",
                    "text": [
                        "sin ceros x165x318x651x\n"
                    ]
                }
            ],
            "source": [
                "remplazo = \"\"\n",
                "for digit in \"0165031806510\":\n",
                "    if digit == \"0\":\n",
                "        remplazo += \"x\"\n",
                "    else:\n",
                "        remplazo += digit\n",
                "        # Línea de código.\n",
                "        # Línea de código.\n",
                "    # Línea de código.\n",
                "print(f'sin ceros {remplazo}')"
            ]
        },
        {
            "cell_type": "code",
            "execution_count": 42,
            "metadata": {},
            "outputs": [
                {
                    "name": "stdout",
                    "output_type": "stream",
                    "text": [
                        "x165x318x651x"
                    ]
                }
            ],
            "source": [
                "for digit in \"0165031806510\":\n",
                "    if digit == \"0\":\n",
                "        print(\"x\", end=\"\")\n",
                "        continue\n",
                "    print(digit, end=\"\")"
            ]
        },
        {
            "cell_type": "code",
            "execution_count": 43,
            "metadata": {},
            "outputs": [
                {
                    "name": "stdout",
                    "output_type": "stream",
                    "text": [
                        "0\n",
                        "3\n"
                    ]
                }
            ],
            "source": [
                "for i in range(0, 6, 3):\n",
                "    print(i)\n",
                " "
            ]
        },
        {
            "cell_type": "code",
            "execution_count": 44,
            "metadata": {},
            "outputs": [
                {
                    "name": "stdout",
                    "output_type": "stream",
                    "text": [
                        "True\n",
                        "True\n",
                        "True\n",
                        "True\n"
                    ]
                }
            ],
            "source": [
                "# Ejemplo 1:\n",
                "var = 1\n",
                "print(var > 0)\n",
                "print(not (var <= 0))\n",
                "\n",
                "\n",
                "# Ejemplo 2:\n",
                "print(var != 0)\n",
                "print(not (var == 0))\n",
                "\n"
            ]
        },
        {
            "cell_type": "code",
            "execution_count": 45,
            "metadata": {},
            "outputs": [
                {
                    "name": "stdout",
                    "output_type": "stream",
                    "text": [
                        "Contenido de la lista original: [10, 5, 7, 2, 1]\n",
                        "\n",
                        "Previo contenido de la lista: [111, 5, 7, 2, 1]\n",
                        "Nuevo contenido de la lista: [111, 1, 7, 2, 1]\n"
                    ]
                }
            ],
            "source": [
                "numbers = [10, 5, 7, 2, 1]\n",
                "print(\"Contenido de la lista original:\", numbers)  # Imprimiendo contenido de la lista original.\n",
                " \n",
                "numbers[0] = 111\n",
                "print(\"\\nPrevio contenido de la lista:\", numbers)  # Imprimiendo contenido de la lista anterior.\n",
                " \n",
                "numbers[1] = numbers[4]  # Copiando el valor del quinto elemento al segundo elemento.\n",
                "print(\"Nuevo contenido de la lista:\", numbers)  # Imprimiendo el contenido de la lista actual.\n",
                " "
            ]
        },
        {
            "cell_type": "code",
            "execution_count": 46,
            "metadata": {},
            "outputs": [
                {
                    "name": "stdout",
                    "output_type": "stream",
                    "text": [
                        "Contenido de la lista original: [10, 5, 7, 2, 1]\n",
                        "\n",
                        "Contenido de la lista con cambio: [111, 5, 7, 2, 1]\n",
                        "Contenido de la lista con intercambio: [111, 1, 7, 2, 1]\n",
                        "\n",
                        "Longitud de la lista: 5\n"
                    ]
                }
            ],
            "source": [
                "numbers = [10, 5, 7, 2, 1]\n",
                "print(\"Contenido de la lista original:\", numbers)  # Imprimiendo el contenido de la lista original.\n",
                "\n",
                "numbers[0] = 111\n",
                "print(\"\\nContenido de la lista con cambio:\", numbers)  # Imprimiendo contenido de la lista con 111.\n",
                "\n",
                "numbers[1] = numbers[4]  # Copiando el valor del quinto elemento al segundo elemento.\n",
                "print(\"Contenido de la lista con intercambio:\", numbers)  # Imprimiendo contenido de la lista con intercambio.\n",
                "\n",
                "print(\"\\nLongitud de la lista:\", len(numbers))  # Imprimiendo la longitud de la lista.\n"
            ]
        },
        {
            "cell_type": "code",
            "execution_count": 47,
            "metadata": {},
            "outputs": [
                {
                    "name": "stdout",
                    "output_type": "stream",
                    "text": [
                        "4\n",
                        "[111, 7, 2, 1]\n"
                    ]
                }
            ],
            "source": [
                "del numbers[1]\n",
                "print(len(numbers))\n",
                "print(numbers)"
            ]
        },
        {
            "cell_type": "markdown",
            "metadata": {},
            "source": [
                "Escenario\n",
                "Había una vez un sombrero. El sombrero no contenía conejo, sino una lista de cinco números: 1, 2, 3, 4, y 5.\n",
                "\n",
                "Tu tarea es:\n",
                "\n",
                "escribir una línea de código que solicite al usuario que reemplace el número central en la lista con un número entero ingresado por el usuario (Paso 1)\n",
                "escribir una línea de código que elimine el último elemento de la lista (Paso 2)\n",
                "escribir una línea de código que imprima la longitud de la lista existente (Paso 3).\n",
                "¿Listo para este desafío?"
            ]
        },
        {
            "cell_type": "code",
            "execution_count": null,
            "metadata": {},
            "outputs": [
                {
                    "name": "stdout",
                    "output_type": "stream",
                    "text": [
                        "2\n",
                        "LA CANTIDAD DE ELEMENTOS QUE TIENE LA LISTA ES DE  4\n",
                        "[1, 2, 15, 4]\n"
                    ]
                }
            ],
            "source": [
                "hat_list = [1, 2, 3, 4, 5]  # Esta es una lista existente de números ocultos en el sombrero.\n",
                "# Paso 1: escribe una línea de código que solicite al usuario\n",
                "# reemplazar el número de en medio con un número entero ingresado por el usuario.\n",
                "numeroEntero = int(input('digite un número entero por favor'))\n",
                "largo = 0\n",
                "mitadLista = 0\n",
                "if numeroEntero % 2 == 1:\n",
                "    largo = len(hat_list)\n",
                "    mitadLista = (largo // 2)\n",
                "    hat_list[mitadLista] = numeroEntero      \n",
                "    print(mitadLista)\n",
                "    \n",
                "# Paso 2: escribe aquí una línea de código que elimine el último elemento de la lista.\n",
                "del hat_list[-1]\n",
                "# Paso 3: escribe aquí una línea de código que imprima la longitud de la lista existente.\n",
                "print('LA CANTIDAD DE ELEMENTOS QUE TIENE LA LISTA ES DE ',len(hat_list))\n",
                "print(hat_list)\n"
            ]
        },
        {
            "cell_type": "code",
            "execution_count": null,
            "metadata": {},
            "outputs": [],
            "source": [
                "def media(datos):\n",
                "    \"\"\"esta funcion calcula la media aritmetica de una lista con valores numericos\n",
                "\n",
                "    Args:\n",
                "        datos (_type_): Lista de numeros\n",
                "\n",
                "    Returns:\n",
                "        _type_: Flotante de la media aritmetica de una lista\n",
                "    \"\"\"    \n",
                "    return sum(datos) / len(datos)\n",
                "def calcular_mediana(datos):\n",
                "    datos_sorted = sorted(datos)\n",
                "    n = len(datos)\n",
                "    mid = n // 2\n",
                "    if n % 2 == 0:\n",
                "        return (datos_sorted[mid - 1] + datos_sorted[mid]) / 2.0\n",
                "    else:\n",
                "        return datos_sorted[mid]"
            ]
        },
        {
            "cell_type": "markdown",
            "metadata": {},
            "source": [
                "Haciendo uso de las listas"
            ]
        },
        {
            "cell_type": "code",
            "execution_count": null,
            "metadata": {},
            "outputs": [],
            "source": [
                "my_list = [10, 1, 8, 3, 5]\n",
                "total = 0\n",
                "\n",
                "for i in range(len(my_list)):\n",
                "    total += my_list[i]\n",
                "\n",
                "print(total)"
            ]
        },
        {
            "cell_type": "markdown",
            "metadata": {},
            "source": [
                "Escribe un programa que refleje estos cambios y le permita practicar con el concepto de listas. Tu tarea es:\n",
                "\n",
                "paso 1: crea una lista vacía llamada beatles;\n",
                "paso 2: emplea el método append() para agregar los siguientes miembros de la banda a la lista: John Lennon, Paul McCartney y George Harrison;\n",
                "paso 3: emplea el buclefor y el append() para pedirle al usuario que agregue los siguientes miembros de la banda a la lista: Stu Sutcliffe, y Pete Best;\n",
                "paso 4: usa la instrucción del para eliminar a Stu Sutcliffe y Pete Best de la lista;\n",
                "paso 5: usa el método insert() para agregar a Ringo Starr al principio de la lista."
            ]
        },
        {
            "cell_type": "code",
            "execution_count": null,
            "metadata": {},
            "outputs": [
                {
                    "name": "stdout",
                    "output_type": "stream",
                    "text": [
                        "Paso 1: []\n",
                        "Paso 2: []\n",
                        "Paso 3: ['John Lennon', 'Paul McCartney', 'George Harrison']\n",
                        "['John Lennon', 'Paul McCartney', 'George Harrison', 'Stu Sutcliffe', 'Pete Bes']\n",
                        "Paso 4: ['John Lennon', 'Paul McCartney', 'George Harrison']\n",
                        "Paso 5: ['Ringo Starr', 'John Lennon', 'Paul McCartney', 'George Harrison']\n",
                        "Paso 5:quitamos los fallecidos ['Ringo Starr', 'Paul McCartney']\n"
                    ]
                }
            ],
            "source": [
                "# paso 1\n",
                "beatles=[]\n",
                "print(\"Paso 1:\", beatles)\n",
                "# paso 2\n",
                "print(\"Paso 2:\", beatles)\n",
                "beatles.append(\"John Lennon\")\n",
                "beatles.append(\"Paul McCartney\")\n",
                "beatles.append(\"George Harrison\")\n",
                "# paso 3\n",
                "print(\"Paso 3:\", beatles)\n",
                "for contador in range(2):\n",
                "    integranteNuevo = input(\"digite por favor el integrante nuevo\")\n",
                "    beatles.append(integranteNuevo)\n",
                "    # Stu Sutcliffe, y Pete Bes\n",
                "print(beatles)\n",
                "# paso 4\n",
                "del (beatles[-1]) #borra el ultimo\n",
                "del (beatles[3])\n",
                "print(\"Paso 4:\", beatles)\n",
                "beatles.insert(0,'Ringo Starr')\n",
                "# paso 5\n",
                "print(\"Paso 5:\", beatles)\n",
                "beatles.remove(\"John Lennon\")\n",
                "beatles.remove(\"George Harrison\")\n",
                "print(\"Paso 5:quitamos los fallecidos\", beatles)"
            ]
        },
        {
            "cell_type": "code",
            "execution_count": null,
            "metadata": {},
            "outputs": [],
            "source": [
                "my_list = [\"blanco\", \"purpura\", \"azul\", \"amarillo\", \"verde\"]\n",
                " \n",
                "for color in my_list:\n",
                "    print(color)"
            ]
        },
        {
            "cell_type": "code",
            "execution_count": null,
            "metadata": {},
            "outputs": [],
            "source": [
                "my_list = []\n",
                "swapped = True\n",
                "num = int(input(\"¿Cuántos elementos deseas ordenar?: \"))\n",
                "\n",
                "for i in range(num):\n",
                "    val = float(input(\"Ingresa un elemento de la lista: \"))\n",
                "    my_list.append(val)\n",
                "\n",
                "while swapped:\n",
                "    swapped = False\n",
                "    for i in range(len(my_list) - 1):\n",
                "        if my_list[i] > my_list[i + 1]:\n",
                "            swapped = True\n",
                "            my_list[i], my_list[i + 1] = my_list[i + 1], my_list[i]\n",
                "\n",
                "print(\"\\nOrdenada:\")\n",
                "print(my_list)\n"
            ]
        },
        {
            "cell_type": "code",
            "execution_count": 67,
            "metadata": {},
            "outputs": [
                {
                    "name": "stdout",
                    "output_type": "stream",
                    "text": [
                        "[2, 4, 6, 8, 10]\n"
                    ]
                }
            ],
            "source": [
                "my_list = [8, 10, 6, 2, 4]\n",
                "my_list.sort()\n",
                "print(my_list)\n",
                " "
            ]
        },
        {
            "cell_type": "markdown",
            "metadata": {},
            "source": [
                "Queremos que lo memorices - ya que puede afectar tus programas futuros y causar graves problemas si se olvida o se pasa por alto.\n",
                "\n",
                "Echa un vistazo al fragmento en el editor.\n",
                "La parte sorprendente es el hecho de que el programa mostrará como resultado: [2], no [1], que parece ser la solución obvia.\n",
                "\n",
                "Las listas (y muchas otras entidades complejas de Python) se almacenan de diferentes maneras que las variables ordinarias (escalares).\n",
                "\n",
                "Se podría decir que:\n",
                "\n",
                "el nombre de una variable ordinaria es el nombre de su contenido;\n",
                "el nombre de una lista es el nombre de una ubicación de memoria donde se almacena la lista.\n"
            ]
        },
        {
            "cell_type": "code",
            "execution_count": null,
            "metadata": {},
            "outputs": [],
            "source": [
                "list_1 = [1]\n",
                "list_2 = list_1\n",
                "list_1[0] = 2\n",
                "print(list_2)\n"
            ]
        },
        {
            "cell_type": "markdown",
            "metadata": {},
            "source": []
        },
        {
            "cell_type": "code",
            "execution_count": 68,
            "metadata": {},
            "outputs": [
                {
                    "name": "stdout",
                    "output_type": "stream",
                    "text": [
                        "[1]\n"
                    ]
                }
            ],
            "source": [
                "list_1 = [1]\n",
                "list_2 = list_1[:]\n",
                "list_1[0] = 2\n",
                "print(list_2)"
            ]
        },
        {
            "cell_type": "code",
            "execution_count": 69,
            "metadata": {},
            "outputs": [
                {
                    "name": "stdout",
                    "output_type": "stream",
                    "text": [
                        "[1]\n",
                        "[8, 6]\n"
                    ]
                }
            ],
            "source": [
                "# Copiando la lista completa.\n",
                "list_1 = [1]\n",
                "list_2 = list_1[:]\n",
                "list_1[0] = 2\n",
                "print(list_2)\n",
                "\n",
                "# Copiando parte de la lista.\n",
                "my_list = [10, 8, 6, 4, 2]\n",
                "new_list = my_list[1:3]\n",
                "print(new_list)\n"
            ]
        },
        {
            "cell_type": "code",
            "execution_count": 70,
            "metadata": {},
            "outputs": [
                {
                    "name": "stdout",
                    "output_type": "stream",
                    "text": [
                        "[8, 6, 4]\n"
                    ]
                }
            ],
            "source": [
                "my_list = [10, 8, 6, 4, 2]\n",
                "new_list = my_list[1:-1]\n",
                "print(new_list)"
            ]
        },
        {
            "cell_type": "code",
            "execution_count": null,
            "metadata": {},
            "outputs": [],
            "source": [
                "my_list = [10, 8, 6, 4, 2]\n",
                "new_list = my_list[:3]\n",
                "print(new_list)"
            ]
        },
        {
            "cell_type": "code",
            "execution_count": null,
            "metadata": {},
            "outputs": [
                {
                    "name": "stdout",
                    "output_type": "stream",
                    "text": [
                        "[10, 8, 6, 4, 2]\n"
                    ]
                }
            ],
            "source": [
                "my_list[0:]\n",
                "\n",
                "print(my_list)"
            ]
        },
        {
            "cell_type": "code",
            "execution_count": 72,
            "metadata": {},
            "outputs": [
                {
                    "data": {
                        "text/plain": [
                            "[10, 8, 6, 4, 2]"
                        ]
                    },
                    "execution_count": 72,
                    "metadata": {},
                    "output_type": "execute_result"
                }
            ],
            "source": [
                "start = 0\n",
                "my_list[start:len(my_list)]"
            ]
        },
        {
            "cell_type": "markdown",
            "metadata": {},
            "source": [
                "La instrucción del descrita anteriormente puede eliminar más de un elemento de la lista a la vez - también puede eliminar rebanadas:"
            ]
        },
        {
            "cell_type": "code",
            "execution_count": null,
            "metadata": {},
            "outputs": [],
            "source": [
                "my_list = [10, 8, 6, 4, 2]\n",
                "del my_list[1:3]\n",
                "print(my_list)"
            ]
        },
        {
            "cell_type": "markdown",
            "metadata": {},
            "source": [
                "También es posible eliminar todos los elementos a la vez:"
            ]
        },
        {
            "cell_type": "code",
            "execution_count": null,
            "metadata": {},
            "outputs": [],
            "source": [
                "my_list = [10, 8, 6, 4, 2]\n",
                "del my_list[:]\n",
                "print(my_list)"
            ]
        },
        {
            "cell_type": "markdown",
            "metadata": {},
            "source": [
                "3.6.4 Los operadores in y not in"
            ]
        },
        {
            "cell_type": "code",
            "execution_count": 73,
            "metadata": {},
            "outputs": [
                {
                    "name": "stdout",
                    "output_type": "stream",
                    "text": [
                        "False\n",
                        "True\n",
                        "True\n"
                    ]
                }
            ],
            "source": [
                "my_list = [0, 3, 12, 8, 2]\n",
                "\n",
                "print(5 in my_list)\n",
                "print(5 not in my_list)\n",
                "print(12 in my_list)"
            ]
        },
        {
            "cell_type": "code",
            "execution_count": 92,
            "metadata": {},
            "outputs": [
                {
                    "name": "stdout",
                    "output_type": "stream",
                    "text": [
                        "1\n",
                        "2\n",
                        "3\n",
                        "4\n",
                        "5\n",
                        "6\n",
                        "7\n",
                        "8\n",
                        "Esta en la posicion 8 y el numero mas alto es 17\n",
                        "[17, 3, 11, 5, 1, 9, 7, 15, 13]\n",
                        "[]\n"
                    ]
                }
            ],
            "source": [
                "my_list = [17, 3, 11, 5, 1, 9, 7, 15, 13]\n",
                "largest = my_list[0]\n",
                "posicion = 0\n",
                "posiciones = []\n",
                "for i in range(1, len(my_list)):\n",
                "    posicion += 1\n",
                "    print(posicion)    \n",
                "    if my_list[i] > largest:        \n",
                "        print(posicion)       \n",
                "        largest = my_list[i]\n",
                "        posiciones.append(posicion)\n",
                "print(f'Esta en la posicion {posicion} y el numero mas alto es {largest}')\n",
                "#del my_list(posicion)\n",
                "print(my_list)\n",
                "print(posiciones)"
            ]
        },
        {
            "cell_type": "code",
            "execution_count": null,
            "metadata": {},
            "outputs": [],
            "source": [
                "my_list = [17, 3, 11, 5, 1, 9, 7, 15, 13]\n",
                "largest = my_list[0]\n",
                " \n",
                "for i in my_list:\n",
                "    if i > largest:\n",
                "        largest = i\n",
                " \n",
                "print(largest)"
            ]
        },
        {
            "cell_type": "code",
            "execution_count": null,
            "metadata": {},
            "outputs": [],
            "source": [
                "my_list = [17, 3, 11, 5, 1, 9, 7, 15, 13]\n",
                "largest = my_list[0]\n",
                " \n",
                "for i in my_list[1:]:\n",
                "    if i > largest:\n",
                "        largest = i\n",
                " \n",
                "print(largest)"
            ]
        },
        {
            "cell_type": "markdown",
            "metadata": {},
            "source": []
        },
        {
            "cell_type": "code",
            "execution_count": null,
            "metadata": {},
            "outputs": [
                {
                    "name": "stdout",
                    "output_type": "stream",
                    "text": [
                        "[10, 8, 6, 4, 2]\n"
                    ]
                }
            ],
            "source": [
                "my_list[0:]\n",
                "\n",
                "print(my_list)"
            ]
        },
        {
            "cell_type": "markdown",
            "metadata": {},
            "source": [
                "Ahora encontremos la ubicación de un elemento dado dentro de una lista:\n",
                "el valor buscado se almacena en la variable to_find;\n",
                "el estado actual de la búsqueda se almacena en la variable found (True/False).\n",
                "cuando found se convierte en True, se sale del bucle for."
            ]
        },
        {
            "cell_type": "code",
            "execution_count": null,
            "metadata": {},
            "outputs": [],
            "source": [
                "my_list = [1, 2, 3, 4, 5, 6, 7, 8, 9, 10]\n",
                "to_find = 5\n",
                "found = False\n",
                " \n",
                "for i in range(len(my_list)):\n",
                "    found = my_list[i] == to_find\n",
                "    if found:\n",
                "        break\n",
                " \n",
                "if found:\n",
                "    print(\"Elemento encontrado en el índice\", i)\n",
                "else:\n",
                "    print(\"ausente\")"
            ]
        },
        {
            "cell_type": "markdown",
            "metadata": {},
            "source": [
                "Supongamos que has elegido los siguientes números en la lotería: 3, 7, 11, 42, 34, 49.\n",
                "\n",
                "Los números que han salido sorteados son: 5, 11, 9, 42, 3, y 49.\n",
                "\n",
                "La pregunta es: ¿A cuántos números le has atinado?"
            ]
        },
        {
            "cell_type": "code",
            "execution_count": null,
            "metadata": {},
            "outputs": [],
            "source": [
                "drawn = [5, 11, 9, 42, 3, 49]\n",
                "bets = [3, 7, 11, 42, 34, 49]\n",
                "hits = 0\n",
                " \n",
                "for number in bets:\n",
                "    if number in drawn:\n",
                "        hits += 1\n",
                " \n",
                "print(hits)\n",
                " "
            ]
        },
        {
            "cell_type": "markdown",
            "metadata": {},
            "source": [
                " elimine todas las repeticiones de números de la lista"
            ]
        },
        {
            "cell_type": "code",
            "execution_count": null,
            "metadata": {},
            "outputs": [],
            "source": [
                "my_list = [1, 2, 4, 4, 1, 4, 2, 6, 2, 9]\n",
                "#\n",
                "# Escribe tu código aquí.\n",
                "#\n",
                "#my_list = [1, 2, 3, 4, 5, 6, 7, 8, 9, 10]\n",
                "to_find = 5\n",
                "found = False\n",
                " \n",
                "for i in range(len(my_list)):\n",
                "    found = my_list[i] == to_find\n",
                "    if found:\n",
                "        break\n",
                " \n",
                "if found:\n",
                "    print(\"Elemento encontrado en el índice\", i)\n",
                "else:\n",
                "    print(\"ausente\")\n",
                "print(\"La lista con elementos únicos:\")\n",
                "print(my_list)"
            ]
        },
        {
            "cell_type": "code",
            "execution_count": null,
            "metadata": {},
            "outputs": [],
            "source": [
                "largest = my_list[0]\n",
                "posicion = 0\n",
                "posiciones = []\n",
                "for i in range(1, len(my_list)):\n",
                "    posicion += 1\n",
                "    print(posicion)    \n",
                "    if my_list[i] > largest:        \n",
                "        print(posicion)       \n",
                "        largest = my_list[i]\n",
                "        posiciones.append(posicion)\n",
                "print(f'Esta en la posicion {posicion} y el numero mas alto es {largest}')\n",
                "#del my_list(posicion)\n",
                "print(my_list)\n",
                "print(posiciones)"
            ]
        },
        {
            "cell_type": "code",
            "execution_count": 94,
            "metadata": {},
            "outputs": [
                {
                    "name": "stdout",
                    "output_type": "stream",
                    "text": [
                        "[1, 2, 4, 6, 9]\n"
                    ]
                }
            ],
            "source": [
                "my_list = [1, 2, 4, 4, 1, 4, 2, 6, 2, 9]\n",
                "unique_names = []\n",
                "for name in my_list:\n",
                "    if name not in unique_names:\n",
                "        unique_names.append(name)\n",
                "print(unique_names)"
            ]
        },
        {
            "cell_type": "code",
            "execution_count": 93,
            "metadata": {},
            "outputs": [
                {
                    "name": "stdout",
                    "output_type": "stream",
                    "text": [
                        "[1, 2, 4, 6, 9]\n"
                    ]
                }
            ],
            "source": [
                "my_list = [1, 2, 4, 4, 1, 4, 2, 6, 2, 9]\n",
                "items = set()\n",
                "unique_names = [name for name in my_list if not (name in items or items.add(name))]\n",
                "print(unique_names)"
            ]
        },
        {
            "cell_type": "code",
            "execution_count": null,
            "metadata": {},
            "outputs": [],
            "source": [
                "data = [1,3,2,4,7,3,2,2,1,4]\n",
                "result = []\n",
                "for item in data:\n",
                "    if item not in result:\n",
                "        result.append(item)\n",
                "        \n",
                "result"
            ]
        },
        {
            "cell_type": "code",
            "execution_count": null,
            "metadata": {},
            "outputs": [],
            "source": [
                "#import pandas as pd\n",
                "#pd.unique(data)"
            ]
        },
        {
            "cell_type": "code",
            "execution_count": 98,
            "metadata": {},
            "outputs": [
                {
                    "name": "stdout",
                    "output_type": "stream",
                    "text": [
                        "['WHITE_PAWN']\n",
                        "['WHITE_PAWN', 'WHITE_PAWN']\n",
                        "['WHITE_PAWN', 'WHITE_PAWN', 'WHITE_PAWN']\n",
                        "['WHITE_PAWN', 'WHITE_PAWN', 'WHITE_PAWN', 'WHITE_PAWN']\n",
                        "['WHITE_PAWN', 'WHITE_PAWN', 'WHITE_PAWN', 'WHITE_PAWN', 'WHITE_PAWN']\n",
                        "['WHITE_PAWN', 'WHITE_PAWN', 'WHITE_PAWN', 'WHITE_PAWN', 'WHITE_PAWN', 'WHITE_PAWN']\n",
                        "['WHITE_PAWN', 'WHITE_PAWN', 'WHITE_PAWN', 'WHITE_PAWN', 'WHITE_PAWN', 'WHITE_PAWN', 'WHITE_PAWN']\n",
                        "['WHITE_PAWN', 'WHITE_PAWN', 'WHITE_PAWN', 'WHITE_PAWN', 'WHITE_PAWN', 'WHITE_PAWN', 'WHITE_PAWN', 'WHITE_PAWN']\n"
                    ]
                }
            ],
            "source": [
                "row = []\n",
                " \n",
                "for i in range(8):\n",
                "    row.append(\"WHITE_PAWN\")\n",
                "    print(row)"
            ]
        },
        {
            "cell_type": "code",
            "execution_count": 96,
            "metadata": {},
            "outputs": [
                {
                    "name": "stdout",
                    "output_type": "stream",
                    "text": [
                        "[0, 1, 4, 9, 16, 25, 36, 49, 64, 81]\n"
                    ]
                }
            ],
            "source": [
                "squares = [x ** 2 for x in range(10)]\n",
                "print(squares)"
            ]
        },
        {
            "cell_type": "code",
            "execution_count": null,
            "metadata": {},
            "outputs": [],
            "source": [
                "odds = [x for x in squares if x % 2 != 0 ]\n"
            ]
        },
        {
            "cell_type": "code",
            "execution_count": null,
            "metadata": {},
            "outputs": [],
            "source": [
                "squares = [x ** 2 for x in range(10)]"
            ]
        },
        {
            "cell_type": "markdown",
            "metadata": {},
            "source": [
                "Supongamos también que un símbolo predefinido denominado EMPTY designa un campo vacío en el tablero de ajedrez.\n",
                "\n",
                "Entonces, si queremos crear una lista de listas que representan todo el tablero de ajedrez, se puede hacer de la siguiente manera:"
            ]
        },
        {
            "cell_type": "code",
            "execution_count": null,
            "metadata": {},
            "outputs": [],
            "source": [
                "squares = [x ** 2 for x in range(10)]"
            ]
        },
        {
            "cell_type": "code",
            "execution_count": null,
            "metadata": {},
            "outputs": [],
            "source": [
                "board = [[EMPTY for i in range(8)] for j in range(8)]"
            ]
        },
        {
            "cell_type": "markdown",
            "metadata": {},
            "source": []
        },
        {
            "cell_type": "code",
            "execution_count": null,
            "metadata": {},
            "outputs": [],
            "source": [
                "board[0][0] = \"ROOK\"\n",
                "board[0][7] = \"ROOK\"\n",
                "board[7][0] = \"ROOK\"\n",
                "board[7][7] = \"ROOK\""
            ]
        },
        {
            "cell_type": "code",
            "execution_count": null,
            "metadata": {},
            "outputs": [],
            "source": [
                "temps = [[0.0 for h in range(24)] for d in range(31)]\n"
            ]
        },
        {
            "cell_type": "code",
            "execution_count": null,
            "metadata": {},
            "outputs": [],
            "source": [
                "temps = [[0.0 for h in range(24)] for d in range(31)]\n",
                "#\n",
                "# La matriz se actualiza aquí.\n",
                "#\n",
                " \n",
                "total = 0.0\n",
                " \n",
                "for day in temps:\n",
                "    total += day[11]\n",
                " \n",
                "average = total / 31\n",
                " \n",
                "print(\"Temperatura promedio al mediodía:\", average)"
            ]
        },
        {
            "cell_type": "code",
            "execution_count": null,
            "metadata": {},
            "outputs": [],
            "source": [
                "temps = [[0.0 for h in range(24)] for d in range(31)]\n",
                "#\n",
                "# La matriz se actualiza aquí.\n",
                "#\n",
                " \n",
                "highest = -100.0\n",
                " \n",
                "for day in temps:\n",
                "    for temp in day:\n",
                "        if temp > highest:\n",
                "            highest = temp\n",
                " \n",
                "print(\"La temperatura más alta fue:\", highest)"
            ]
        },
        {
            "cell_type": "code",
            "execution_count": null,
            "metadata": {},
            "outputs": [],
            "source": [
                "temps = [[0.0 for h in range(24)] for d in range(31)]\n",
                "#\n",
                "# La matriz se actualiza aquí.\n",
                "#\n",
                " \n",
                "hot_days = 0\n",
                " \n",
                "for day in temps:\n",
                "    if day[11] > 20.0:\n",
                "        hot_days += 1\n",
                " \n",
                "print(hot_days, \"fueron los días calurosos.\")"
            ]
        },
        {
            "cell_type": "code",
            "execution_count": null,
            "metadata": {},
            "outputs": [],
            "source": [
                "rooms = [[[False for r in range(20)] for f in range(15)] for t in range(3)]"
            ]
        },
        {
            "cell_type": "code",
            "execution_count": null,
            "metadata": {},
            "outputs": [],
            "source": [
                "rooms = [[[False for r in range(20)] for f in range(15)] for t in range(3)]"
            ]
        },
        {
            "cell_type": "code",
            "execution_count": null,
            "metadata": {},
            "outputs": [],
            "source": [
                "rooms[1][9][13] = True"
            ]
        },
        {
            "cell_type": "code",
            "execution_count": null,
            "metadata": {},
            "outputs": [],
            "source": [
                "vacancy = 0\n",
                " \n",
                "for room_number in range(20):\n",
                "    if not rooms[2][14][room_number]:\n",
                "        vacancy += 1"
            ]
        },
        {
            "cell_type": "code",
            "execution_count": 99,
            "metadata": {},
            "outputs": [
                {
                    "name": "stdout",
                    "output_type": "stream",
                    "text": [
                        "*\n"
                    ]
                }
            ],
            "source": [
                "i = 0\n",
                "while i <= 5 :\n",
                "    i += 1\n",
                "    if i % 2 == 0:\n",
                "      break\n",
                "    print(\"*\")"
            ]
        },
        {
            "cell_type": "code",
            "execution_count": 100,
            "metadata": {},
            "outputs": [
                {
                    "name": "stdout",
                    "output_type": "stream",
                    "text": [
                        "#\n",
                        "#\n"
                    ]
                }
            ],
            "source": [
                "for i in range(1):\n",
                "    print(\"#\")\n",
                "else:\n",
                "    print(\"#\")\n",
                " "
            ]
        },
        {
            "cell_type": "code",
            "execution_count": 101,
            "metadata": {},
            "outputs": [
                {
                    "name": "stdout",
                    "output_type": "stream",
                    "text": [
                        "#\n",
                        "#\n",
                        "#\n"
                    ]
                }
            ],
            "source": [
                "var = 0\n",
                "while var < 6:\n",
                "    var += 1\n",
                "    if var % 2 == 0:\n",
                "        continue\n",
                "    print(\"#\")"
            ]
        },
        {
            "cell_type": "code",
            "execution_count": 102,
            "metadata": {},
            "outputs": [
                {
                    "name": "stdout",
                    "output_type": "stream",
                    "text": [
                        "#\n",
                        "#\n",
                        "#\n",
                        "#\n"
                    ]
                }
            ],
            "source": [
                "var = 1\n",
                "while var < 10:\n",
                "    print(\"#\")\n",
                "    var = var << 1"
            ]
        },
        {
            "cell_type": "code",
            "execution_count": 103,
            "metadata": {},
            "outputs": [
                {
                    "name": "stdout",
                    "output_type": "stream",
                    "text": [
                        "True\n"
                    ]
                }
            ],
            "source": [
                "z = 10\n",
                "y = 0\n",
                "x = y < z and z > y or y > z and z < y\n",
                "print(x)"
            ]
        },
        {
            "cell_type": "code",
            "execution_count": 104,
            "metadata": {},
            "outputs": [
                {
                    "name": "stdout",
                    "output_type": "stream",
                    "text": [
                        "2\n"
                    ]
                }
            ],
            "source": [
                "a = 1\n",
                "b = 0\n",
                "c = a & b\n",
                "d = a | b\n",
                "e = a ^ b\n",
                " \n",
                "print(c + d + e)"
            ]
        },
        {
            "cell_type": "code",
            "execution_count": 105,
            "metadata": {},
            "outputs": [
                {
                    "name": "stdout",
                    "output_type": "stream",
                    "text": [
                        "1\n"
                    ]
                }
            ],
            "source": [
                "my_list = [3, 1, -2]\n",
                "print(my_list[my_list[-1]])"
            ]
        },
        {
            "cell_type": "code",
            "execution_count": 106,
            "metadata": {},
            "outputs": [
                {
                    "name": "stdout",
                    "output_type": "stream",
                    "text": [
                        "[2]\n"
                    ]
                }
            ],
            "source": [
                "my_list = [1, 2, 3, 4]\n",
                "print(my_list[-3:-2])"
            ]
        },
        {
            "cell_type": "code",
            "execution_count": 107,
            "metadata": {},
            "outputs": [
                {
                    "name": "stdout",
                    "output_type": "stream",
                    "text": [
                        "2\n",
                        "0\n"
                    ]
                }
            ],
            "source": [
                "vals = [0, 1, 2]\n",
                "vals[0], vals[2] = vals[2], vals[0]\n",
                "print(vals[0])\n",
                "print(vals[2])"
            ]
        },
        {
            "cell_type": "code",
            "execution_count": 108,
            "metadata": {},
            "outputs": [
                {
                    "name": "stdout",
                    "output_type": "stream",
                    "text": [
                        "[1, 1, 2]\n"
                    ]
                }
            ],
            "source": [
                "vals = [0, 1, 2]\n",
                "vals.insert(0, 1)\n",
                "del vals[1]\n",
                "print(vals)"
            ]
        },
        {
            "cell_type": "code",
            "execution_count": 109,
            "metadata": {},
            "outputs": [
                {
                    "name": "stdout",
                    "output_type": "stream",
                    "text": [
                        "[3, 2, 1]\n"
                    ]
                }
            ],
            "source": [
                "my_list_1 = [1, 2, 3]\n",
                "my_list_2 = []\n",
                "for v in my_list_1:\n",
                "    my_list_2.insert(0, v)\n",
                "print(my_list_2)"
            ]
        },
        {
            "cell_type": "code",
            "execution_count": 110,
            "metadata": {},
            "outputs": [
                {
                    "name": "stdout",
                    "output_type": "stream",
                    "text": [
                        "[1, 1, 1, 1, 2, 3]\n"
                    ]
                }
            ],
            "source": [
                "my_list = [1, 2, 3]\n",
                "for v in range(len(my_list)):\n",
                "    my_list.insert(1, my_list[v])\n",
                "print(my_list)"
            ]
        },
        {
            "cell_type": "code",
            "execution_count": 111,
            "metadata": {},
            "outputs": [
                {
                    "name": "stdout",
                    "output_type": "stream",
                    "text": [
                        "[-1, 0, 1]\n"
                    ]
                }
            ],
            "source": [
                "my_list = [i for i in range(-1, 2)]\n",
                "print(my_list)"
            ]
        },
        {
            "cell_type": "code",
            "execution_count": 112,
            "metadata": {},
            "outputs": [
                {
                    "name": "stdout",
                    "output_type": "stream",
                    "text": [
                        "6\n"
                    ]
                }
            ],
            "source": [
                "t = [[3-i for i in range (3)] for j in range (3)]\n",
                "s = 0\n",
                "for i in range(3):\n",
                "    s += t[i][i]\n",
                "print(s)"
            ]
        }
    ],
    "metadata": {
        "kernelspec": {
            "display_name": "Python 3",
            "language": "python",
            "name": "python3"
        },
        "language_info": {
            "codemirror_mode": {
                "name": "ipython",
                "version": 3
            },
            "file_extension": ".py",
            "mimetype": "text/x-python",
            "name": "python",
            "nbconvert_exporter": "python",
            "pygments_lexer": "ipython3",
            "version": "3.13.1"
        }
    },
    "nbformat": 4,
    "nbformat_minor": 2
}
