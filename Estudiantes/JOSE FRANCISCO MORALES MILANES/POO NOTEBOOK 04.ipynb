{
 "cells": [
  {
   "cell_type": "markdown",
   "metadata": {},
   "source": [
    "# 📌 Programación Orientada a Objetos(POO) en Python\n",
    "## 2. Conceptos Claves de la POO \n",
    "- Clases y Objetos \n",
    "- Atributos y Métodos \n",
    "- Encapsulamiento \n",
    "- Herencia \n",
    "- Polimorfismo \n",
    "  \n",
    "## 3. Ejemplos Prácticos de cada Concepto \n",
    "- Definir una clase simple \n",
    "- Crear y manipular objetos \n",
    "- Aplicar herencia y polimorfismo \n",
    "  \n",
    "## 4. Desarrollo de un Proyecto Aplicado \n",
    "- Descripción del proyecto \n",
    "- Implementación paso a paso \n",
    "  \n",
    "--- \n",
    "  \n",
    "## 🟢 1. Introducción a la POO \n",
    "La **Programación Orientada a Objetos (POO)** es un paradigma de programación basado en la idea de modelar entidades del mundo real a través de **objetos**. \n",
    "  \n",
    "### ✅ Características clave de la POO: \n",
    "- **Abstracción:** Modela objetos del mundo real en código. \n",
    "- **Encapsulamiento:** Protege los datos y métodos dentro de una clase. \n",
    "- **Herencia:** Permite reutilizar código mediante la relación padre-hijo. \n",
    "- **Polimorfismo:** Usa el mismo método con diferentes implementaciones. \n",
    "  \n",
    "### 📌 Diferencia entre programación estructurada y POO: \n",
    "  \n",
    "| Característica       | Programación Estructurada | Programación Orientada a Objetos | \n",
    "|---------------------|------------------------|--------------------------------| \n",
    "| **Organización**   | Basada en funciones    | Basada en clases y objetos    | "
   ]
  },
  {
   "cell_type": "code",
   "execution_count": null,
   "metadata": {
    "vscode": {
     "languageId": "plaintext"
    }
   },
   "outputs": [],
   "source": [
    "class Persona:\n",
    "    def __init__(self,name,age,):\n",
    "        self.nombre = name\n",
    "        self.edad = age\n",
    "        self.activo = True\n",
    "        self.materias = []\n",
    "    \n",
    "    def saludar(self):\n",
    "        if self.activo:\n",
    "            print(f\"hola, mi nombre es {self.nombre} y tengo {self.edad}\")\n",
    "        else:\n",
    "            print(f'Este objeto {self.nombre} no puede saludar porque esta declarado inactivo')\n",
    "    def imprimir_materias(self):\n",
    "        print(f'el objeto  {self.nombre} tiene las siguientes materias  {self.materias}')\n",
    "        \n",
    "estudiante = Persona('Emannuel Alfaro', 28)\n",
    "estudiante2 = Persona('EmannuelMariana', 25)\n",
    "profesor = Persona('Andres Mena',33)\n",
    "profesor.activo = True\n",
    "profesor.saludar()\n",
    "estudiante.activo = False\n",
    "estudiante.saludar()\n",
    "estudiante.materias = ['matematicas','ciencias','biologia']\n",
    "estudiante.imprimir_materias()\n",
    "print(f'El objeto{id(estudiante)} tiene el atributo nombre como {estudiante.nombre}')\n",
    "print(f'El objetos {id(estudiante2)} tiene el atributo nombre como {estudiante2.nombre}')\n",
    "print(f'El objetos {id(estudiante2)} tiene el atributo nombre como {profesor.nombre}')"
   ]
  },
  {
   "cell_type": "code",
   "execution_count": null,
   "metadata": {
    "vscode": {
     "languageId": "plaintext"
    }
   },
   "outputs": [],
   "source": [
    "class carro:    \n",
    "    def __init__(self,num_matricula,modelo,marca):\n",
    "        self.matricula = num_matricula\n",
    "        self.modelo = modelo\n",
    "        self.marca = marca\n",
    "        self.encendido = True\n",
    "        self.fallas = []\n",
    "    def reporte_fallas(self):\n",
    "        self.fallas.append(input(\"ingrese el ddetalle del reporte ded la falla\"))\n",
    "    def reporte_estado(self):\n",
    "        print(\"reporte de fallas {self.marca} y modelo {self.modelo}\")\n",
    "        for elemento in self.fallas:\n",
    "            print(f'{elemento}')\n",
    "mi_carro = carro('123asd',2017,'2017')\n",
    "carroTrabajo = carro('298692',1989,'camry')\n",
    "mi_carro.fallas = ['goteo','destramado','llantas']\n",
    "\n",
    "mi_carro.reporte_fallas()\n",
    "mi_carro.reporte_estado()\n",
    "    #carro('123asd',2017,'TOYOTA')"
   ]
  },
  {
   "cell_type": "code",
   "execution_count": null,
   "metadata": {
    "vscode": {
     "languageId": "plaintext"
    }
   },
   "outputs": [],
   "source": [
    "class producto:\n",
    "    def __init__(self,nombre,precio,descuento):\n",
    "        self.nombre = nombre\n",
    "        self.precio = precio\n",
    "        self.descuento = descuento\n",
    "        self.preciofinal = 0\n",
    "    \n",
    "    def CalculoPrecioFinal(self):        \n",
    "        self.preciofinal = float( self.precio - (self.precio * self.descuento) )\n",
    "    def imprimirPrecioFinal(self): \n",
    "        print(f'El precio final del producto {self.nombre} es de $ {self.preciofinal}')\n",
    "\n",
    "Producto1 = producto('AZUCAR',3000,0.2)\n",
    "Producto1.CalculoPrecioFinal()\n",
    "Producto1.imprimirPrecioFinal()"
   ]
  },
  {
   "cell_type": "code",
   "execution_count": null,
   "metadata": {
    "vscode": {
     "languageId": "plaintext"
    }
   },
   "outputs": [],
   "source": [
    "class estudiante():\n",
    "    #meter en un ciclo si quiere agregar un estudiante o si quiere salir de  la aplicacion\n",
    "    def __init__(self,nombre,edad,grado):\n",
    "        self.nombre = nombre\n",
    "        self.edad = edad\n",
    "        self.grado = grado\n",
    "    def mostrarInfo(self):\n",
    "        print(f'El nombre del estudiante es {self.nombre} tiene {self.edad} de edad y esta en el grado {self.grado}')\n",
    "    def CicloInscripcion(self):\n",
    "        print()\n",
    "\n",
    "estudiante1 = estudiante('José FRancisco',51,'primaria',)\n",
    "estudiante2 = estudiante('Andres Morera',62,'colegio',)\n",
    "estudiante1.mostrarInfo()\n",
    "estudiante2.mostrarInfo()"
   ]
  },
  {
   "cell_type": "code",
   "execution_count": null,
   "metadata": {
    "vscode": {
     "languageId": "plaintext"
    }
   },
   "outputs": [],
   "source": [
    "class Perros:\n",
    "    AnimalTipo = \"Canino\"  # se comparte a todas las clases instancias\n",
    "    # Iniciamos constructor\n",
    "    def __init__(self, name, color, aceleracion, edad, ocupacion ):\n",
    "        self.name=name\n",
    "        self.color=color\n",
    "        self.aceleracion=aceleracion\n",
    "        self.edad=edad\n",
    "        self.ocupacion=ocupacion\n",
    "        self.trucos = []\n",
    "    def AgregarTrucos(self,Truco):\n",
    "        self.trucos.append(Truco)\n",
    "        #Creación de un nuevo método\n",
    "    def presentar(self):\n",
    "        presentacion = (\"Hola soy {}, mi edad es {} y mi ocupación es {}\") #Mensaje\n",
    "        print(presentacion.format(self.name, self.edad, self.ocupacion)) #Usamos FORMAT\n",
    "\n",
    "    def contratar(self, puesto): #añadimos un nuevo parámetro en el método\n",
    "        self.puesto = puesto\n",
    "        print (\"{} ha sido contratado como {}\".format(self.name, self.puesto))\n",
    "        self.ocupacion = puesto #Ahora cambiamos el atributo ocupación\n",
    "\n",
    "Perro1 = Perros('Engaño','pintado','5kms',31,'Desocupado') #Instancia\n",
    "# Llamamos al método\n",
    "Perro1.presentar()\n",
    "PrimerPerro = Perros('Seus','Blanco que pecado','De 0 a 100 en 10 segundos',15,'Pastor')\n",
    "SegundoPerro = Perros('Scrappy','negra','de 0 a 100 detras de Seus',13,'Seguir al pastor')\n",
    "\n",
    "PrimerPerro.AnimalTipo\n",
    "\n",
    "SegundoPerro.AnimalTipo\n",
    "\n",
    "PrimerPerro.AgregarTrucos('Corria como bestia detras de los carros')\n",
    "SegundoPerro.AgregarTrucos('Diay corria detras de la bestia de Seus')\n",
    "#PrimerPerro.AgregarTrucos('Dormia y continuaba corriendo en el sueño detras de los carros')\n",
    "#SegundoPerro.AgregarTrucos('Dejaba a Seus dormir')\n",
    "\n",
    "PrimerPerro.trucos\n",
    "['Corria como bestia detras de los carros']\n",
    "\n",
    "SegundoPerro.trucos\n",
    "['Diay corria detras de la bestia de Seus']"
   ]
  },
  {
   "cell_type": "code",
   "execution_count": null,
   "metadata": {
    "vscode": {
     "languageId": "plaintext"
    }
   },
   "outputs": [],
   "source": [
    "class Animal:\n",
    "    def __init__(self, nombre,especie='mamifero'):\n",
    "        self.nombre = nombre\n",
    "        self.especie = especie\n",
    "\n",
    "    def hacer_sonido(self):\n",
    "        return (f\"{self.nombre} Hace un sonido\")\n",
    "\n",
    "class perro(Animal): #clase hija hereda de la clase animal\n",
    "    def hacer_sonido(self):\n",
    "        return (f\"{self.nombre} hace guga gua ua\")\n",
    "\n",
    "pancho = perro('pancho')\n",
    "print(pancho.hacer_sonido())"
   ]
  },
  {
   "cell_type": "code",
   "execution_count": null,
   "metadata": {
    "vscode": {
     "languageId": "plaintext"
    }
   },
   "outputs": [],
   "source": [
    "class gato(Animal):\n",
    "    def hacer_sonido(self):\n",
    "        return (f\"{self.nombre} hace miau\")\n",
    "animales = [perro('firu'),gato('minino')]\n",
    "for animal in animales:\n",
    "    print(f'{animal.nombre} y {animal.hacer_sonido()}')"
   ]
  }
 ],
 "metadata": {
  "language_info": {
   "name": "python"
  }
 },
 "nbformat": 4,
 "nbformat_minor": 2
}
