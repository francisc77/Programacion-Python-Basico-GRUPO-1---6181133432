{
 "cells": [
  {
   "cell_type": "markdown",
   "id": "4075b2ab",
   "metadata": {},
   "source": [
    "### Crear un array a partir de una lista"
   ]
  },
  {
   "cell_type": "markdown",
   "id": "3127ae9d",
   "metadata": {},
   "source": [
    "# CLASE 07 Creación de Arrays\n",
    "## Prof. Andrés Mena Abarca\n",
    "### Estudiantes: José Francisco Morales Milanes"
   ]
  },
  {
   "cell_type": "code",
   "execution_count": 1,
   "id": "98fafc10",
   "metadata": {},
   "outputs": [],
   "source": [
    "import numpy as np\n"
   ]
  },
  {
   "cell_type": "markdown",
   "id": "0e8e40b3",
   "metadata": {},
   "source": [
    "### Crear un array de ceros de tamaño 5x5"
   ]
  },
  {
   "cell_type": "code",
   "execution_count": 2,
   "id": "043e0131",
   "metadata": {},
   "outputs": [
    {
     "name": "stdout",
     "output_type": "stream",
     "text": [
      "[[0. 0. 0. 0. 0.]\n",
      " [0. 0. 0. 0. 0.]\n",
      " [0. 0. 0. 0. 0.]\n",
      " [0. 0. 0. 0. 0.]\n",
      " [0. 0. 0. 0. 0.]]\n"
     ]
    }
   ],
   "source": [
    "#Código crear un array de ceros de tamaño 5x5\n",
    "array_ceros = 0\n",
    "#Código crear un array de ceros de tamaño 5x5\n",
    "array_ceros = np.zeros((5,5))\n",
    "print(array_ceros)\n"
   ]
  },
  {
   "cell_type": "markdown",
   "id": "a640f233",
   "metadata": {},
   "source": [
    "### Crear un array de unos de tamaño 3x3"
   ]
  },
  {
   "cell_type": "code",
   "execution_count": 3,
   "id": "ac2b7096",
   "metadata": {},
   "outputs": [
    {
     "name": "stdout",
     "output_type": "stream",
     "text": [
      "[[1. 1. 1.]\n",
      " [1. 1. 1.]\n",
      " [1. 1. 1.]\n",
      " [1. 1. 1.]\n",
      " [1. 1. 1.]]\n"
     ]
    }
   ],
   "source": [
    "#Código crear un array de unos de tamaño 3x3\n",
    "\n",
    "#Código crear un array de unos de tamaño 3x3\n",
    "array_unos = np.ones((5,3))\n",
    "print(array_unos)\n"
   ]
  },
  {
   "cell_type": "markdown",
   "id": "5ff1ca1e",
   "metadata": {},
   "source": [
    "### Crear un array con valores espaciados uniformemente de 0 a 9"
   ]
  },
  {
   "cell_type": "code",
   "execution_count": null,
   "id": "60cefb4b",
   "metadata": {},
   "outputs": [],
   "source": [
    "#Código rear un array con valores espaciados uniformemente de 0 a 9\n"
   ]
  },
  {
   "cell_type": "markdown",
   "id": "af014afb",
   "metadata": {},
   "source": [
    "### #Crear un array con 6 valores espaciados linealmente entre 0 y 1\n"
   ]
  },
  {
   "cell_type": "code",
   "execution_count": null,
   "id": "5ba6f502",
   "metadata": {},
   "outputs": [],
   "source": [
    "#Código crear un array con 6 valores espaciados linealmente entre 0 y 1\n"
   ]
  },
  {
   "cell_type": "markdown",
   "id": "90ed91a1",
   "metadata": {},
   "source": [
    "# Operaciones Básicas"
   ]
  },
  {
   "cell_type": "markdown",
   "id": "b000074f",
   "metadata": {},
   "source": [
    "### Realizar una suma, resta, multiplicación y división entre dos arrays"
   ]
  },
  {
   "cell_type": "code",
   "execution_count": null,
   "id": "ff348071",
   "metadata": {},
   "outputs": [
    {
     "name": "stdout",
     "output_type": "stream",
     "text": [
      "la media aritmetica es 3.0\n",
      "el promedio es 3.0\n",
      "la suma de la coleccion es15\n",
      "el valor minimo es 1\n",
      "el valor maximo es 5\n"
     ]
    }
   ],
   "source": [
    "array_1 = np.array([5,4,2])\n",
    "array_2 = np.array([6,4,9])\n",
    "\n",
    "#Código realizar una suma, resta, multiplicación y división entre dos arrays\n",
    "array_numeros = np.array([5,2,4,1,3])\n",
    "media = np.mean(array_numeros)\n",
    "print(f'la media aritmetica es {media}')\n",
    "\n",
    "promedio = np.average(array_numeros)\n",
    "print(f'el promedio es {promedio}')\n",
    "# Salida\n",
    "suma = np.sum(array_numeros)\n",
    "print(f'la suma de la coleccion es {suma}')\n",
    "\n",
    "min = np.min(array_numeros)\n",
    "print(f'el valor minimo es {min}')\n",
    "\n",
    "maximo = np.max(array_numeros)\n",
    "print(f'el valor maximo es {maximo}')\n",
    "#print(\"La suma es: \",suma)\n",
    "#print(\"La resta es: \",resta)\n",
    "#print(\"La multiplicacion es: \",multiplicacion)\n",
    "#print(\"La division es: \",division)\n",
    "\n"
   ]
  },
  {
   "cell_type": "markdown",
   "id": "fc0d482a",
   "metadata": {},
   "source": [
    "# calcular la similitud de cada pelicula con los gustos de mariana\n",
    "# preferencias peliculas mariana accion comedia drama"
   ]
  },
  {
   "cell_type": "code",
   "execution_count": null,
   "id": "2b629176",
   "metadata": {},
   "outputs": [
    {
     "name": "stdout",
     "output_type": "stream",
     "text": [
      "similitud de preferencias avatar : 89\n",
      "similitud de preferencias avatar : 79\n",
      "Recomendamos  avatar\n"
     ]
    }
   ],
   "source": [
    "mariana =  np.array([7,9,2])\n",
    "\n",
    "avatar = np.array([10,1,5]) #mas accion y menos comedia\n",
    "brave_heart = np.array([8,1,7])\n",
    "\n",
    "similitud_p1 = np.dot(mariana,avatar)\n",
    "similitud_p2 = np.dot(mariana,brave_heart)\n",
    "\n",
    "print(f'similitud de preferencias avatar : {similitud_p1}')\n",
    "print(f'similitud de preferencias brave_heart : {similitud_p2}')\n",
    "\n",
    "if similitud_p1 > similitud_p2:\n",
    "        print(\"Recomendamos  avatar\")\n",
    "else:\n",
    "        print(\"Recomendamos brave_heart \")\n",
    "\n"
   ]
  },
  {
   "cell_type": "markdown",
   "id": "dee9d420",
   "metadata": {},
   "source": [
    "# calcular coeficiente de correlación \n",
    "## Tipo de cambio de dolar y indice precios al consumidor"
   ]
  },
  {
   "cell_type": "code",
   "execution_count": 14,
   "id": "1d0f0603",
   "metadata": {},
   "outputs": [
    {
     "name": "stdout",
     "output_type": "stream",
     "text": [
      "Coeficiente de correlacion 0.40\n"
     ]
    }
   ],
   "source": [
    "tipo_cambio = np.array([506.96,505.00,504.27,505.52,506.23,506.23,506.23,506.58,506.87,507.25])\n",
    "ipc = np.array([109.46,109.55,109.71,109.57,109.33,108.85,109.36,110.39,110.79,110.79])\n",
    "\n",
    "#calcular coeficiente de correlación tienen que tener la misma cantidad de elementos\n",
    "correlacion = np.corrcoef(tipo_cambio,ipc)[0,1] # 0 es q no hay 1 influye un poco \n",
    "print(f'Coeficiente de correlacion {correlacion:.2f}') # es de 0.3.2f para poner 2 decimales"
   ]
  },
  {
   "cell_type": "markdown",
   "id": "1dd54846",
   "metadata": {},
   "source": [
    "# estudio de horas vrs notas\n",
    "#datos quiero estudiar 2 situaciones las horas de estudio que aplique y las notas que tengo por materia"
   ]
  },
  {
   "cell_type": "code",
   "execution_count": 15,
   "id": "e76073c7",
   "metadata": {},
   "outputs": [
    {
     "name": "stdout",
     "output_type": "stream",
     "text": [
      "[5 5 3 4 5 3 3 3 4]\n",
      "el incremento del promedio por cada hora de estudio es 3.89\n",
      "la nota esperada 92.78\n",
      "la nota esperada minima es 7.22\n"
     ]
    }
   ],
   "source": [
    "horas_estudio = np.array([1,2,3,4,5,6,7,8,9,10])\n",
    "notas = np.array([50,55,60,63,67,72,75,78,81,85])\n",
    "\n",
    "#calculo del crecimiento del promedio por horas de estudio.\n",
    "#diferencia entre los puntajes nos va a dar una variacion incremento o decremento\n",
    "\n",
    "diferencias_Notas = np.diff(notas) # entre la nota mas bajas consecutivas\n",
    "incremento_notas = np.average(diferencias_Notas) # media ponderada\n",
    "print(diferencias_Notas)\n",
    "\n",
    "proyeccion_estudio = 12 \n",
    "\n",
    "nota_estimada = (proyeccion_estudio -  max(horas_estudio)) * incremento_notas + max(notas) # este es el incremento que voy a tener en la nota 12 - 10 nota maxima\n",
    "nota_estimada_Minimo = (horas_estudio[0] - proyeccion_estudio) * incremento_notas + notas[0] # este es el incremento que voy a tener en la nota 12 - 10 nota maxima\n",
    "print(f'el incremento del promedio por cada hora de estudio es {incremento_notas:.2f}')\n",
    "print(f'la nota esperada {nota_estimada:.2f}')\n",
    "print(f'la nota esperada minima es {nota_estimada_Minimo:.2f}')"
   ]
  },
  {
   "cell_type": "code",
   "execution_count": null,
   "id": "a270ae97",
   "metadata": {},
   "outputs": [],
   "source": [
    "#Calcular el producto punto de dos arrays\n"
   ]
  },
  {
   "cell_type": "code",
   "execution_count": null,
   "id": "dddd8ba1",
   "metadata": {},
   "outputs": [],
   "source": [
    "#Transponer un array\n"
   ]
  },
  {
   "cell_type": "markdown",
   "id": "5e44ba57",
   "metadata": {},
   "source": [
    "# Operaciones Estadísticas"
   ]
  },
  {
   "cell_type": "code",
   "execution_count": 5,
   "id": "7f3e6efd",
   "metadata": {},
   "outputs": [
    {
     "name": "stdout",
     "output_type": "stream",
     "text": [
      "la media aritmetica es 3.0\n",
      "la suma de la coleccion es15\n",
      "el valor minimo es 1\n",
      "el valor maximo es 5\n"
     ]
    }
   ],
   "source": [
    "#Calcular la media, suma, valor mínimo y valor máximo de un array\n",
    "\n",
    "\n",
    "# Crear un array NumPy\n",
    "array_numeros = np.array([5, 2, 4, 1, 3])\n",
    "\n",
    "# Calcular la media\n",
    "\n",
    "media = np.mean(array_numeros)\n",
    "print(f'la media aritmetica es {media}')\n",
    "\n",
    "# Calcular la suma\n",
    "suma = np.sum(array_numeros)\n",
    "print(f'la suma de la coleccion es{suma}')\n",
    "\n",
    "# Calcular el valor mínimo\n",
    "min = np.min(array_numeros)\n",
    "print(f'el valor minimo es {min}')\n",
    "\n",
    "# Calcular el valor máximo\n",
    "maximo = np.max(array_numeros)\n",
    "print(f'el valor maximo es {maximo}')\n",
    "\n"
   ]
  },
  {
   "cell_type": "code",
   "execution_count": 12,
   "id": "f6264d86",
   "metadata": {},
   "outputs": [
    {
     "name": "stdout",
     "output_type": "stream",
     "text": [
      "Array original: [1 2 3 4 5 6]\n",
      "Array reshapeado: [[1 2]\n",
      " [3 4]\n",
      " [5 6]]\n"
     ]
    }
   ],
   "source": [
    "#Cambiar la forma de un array \"reshape\"\n",
    "\n",
    "# Crear un array original\n",
    "array_original = np.array([1, 2, 3, 4, 5, 6])\n",
    "\n",
    "# Nueva forma deseada (2 filas y 3 columnas)\n",
    "#Cambiar la forma de un array \"reshape\"\n",
    "\n",
    "array_reshapeado = array_original.reshape(3,2)\n",
    "\n",
    "#Imprimir el array original y el reshapeado\n",
    "print(\"Array original:\", array_original)\n",
    "print(\"Array reshapeado:\", array_reshapeado)\n"
   ]
  },
  {
   "cell_type": "markdown",
   "id": "195c5f6d",
   "metadata": {},
   "source": [
    "# Álgebra Lineal"
   ]
  },
  {
   "cell_type": "markdown",
   "id": "b920534e",
   "metadata": {},
   "source": [
    "### Calcular el determinante de una matriz 2x2"
   ]
  },
  {
   "cell_type": "code",
   "execution_count": null,
   "id": "d01ce9f8",
   "metadata": {},
   "outputs": [],
   "source": [
    "nuevo_array = np.array([[1,2],[2,5]])\n",
    "\n",
    "#Código para calcular el determinante de una matriz 2x2\n",
    "\n",
    "#print(determinante)"
   ]
  },
  {
   "cell_type": "markdown",
   "id": "b1325b2b",
   "metadata": {},
   "source": [
    "### Calcular la matriz inversa de una matriz 3x3"
   ]
  },
  {
   "cell_type": "code",
   "execution_count": null,
   "id": "9782d614",
   "metadata": {},
   "outputs": [],
   "source": [
    "# Definir la matriz 3x3\n",
    "\n",
    "\n",
    "# Calcular la matriz inversa\n",
    "\n",
    "\n",
    "# Imprimir la matriz inversa\n",
    "\n"
   ]
  },
  {
   "cell_type": "markdown",
   "id": "98f0cfc8",
   "metadata": {},
   "source": [
    "### Calcular los valores propios y vectores propios de una matriz 4x4"
   ]
  },
  {
   "cell_type": "code",
   "execution_count": null,
   "id": "07211323",
   "metadata": {},
   "outputs": [],
   "source": [
    "\n",
    "# Definir la matriz 4x4\n",
    "matriz_4x4 = np.array([[1, 2, 3, 4], [5, 6, 7, 8], [9, 10, 11, 12], [13, 14, 15, 16]])\n",
    "\n",
    "# Calcular valores propios y vectores propios\n",
    "\n",
    "\n",
    "# Separar valores propios y vectores propios\n",
    " # Parte real de los valores propios complejos\n",
    "  # Parte real de los vectores propios complejos\n",
    "\n",
    "# Imprimir resultados\n",
    "'''\n",
    "print(\"Valores propios:\", autovalores)\n",
    "print(\"Vectores propios:\")\n",
    "for i in range(len(autovectores)):\n",
    "    print(f\"Vector propio {i+1}:\", autovectores[i])\n",
    "'''"
   ]
  },
  {
   "cell_type": "markdown",
   "id": "efd4320a",
   "metadata": {},
   "source": [
    "# Funciones Universales"
   ]
  },
  {
   "cell_type": "code",
   "execution_count": null,
   "id": "b6104243",
   "metadata": {},
   "outputs": [],
   "source": [
    "# Crear un array con ángulos\n",
    "array_angulos = np.array([0, np.pi/2, np.pi])\n",
    "\n",
    "# Calcular el seno de los ángulos\n",
    "\n",
    "\n",
    "# Calcular el coseno de los ángulos\n",
    "\n",
    "\n",
    "# Calcular la exponencial de los ángulos\n",
    "\n",
    "\n",
    "# Calcular el logaritmo natural de los ángulos\n",
    "\n",
    "\n"
   ]
  },
  {
   "cell_type": "code",
   "execution_count": null,
   "id": "eadbf298",
   "metadata": {},
   "outputs": [],
   "source": [
    "#Realizar indexación y slicing en un array 2D\n",
    "array_2d = np.array([[1, 2, 3], [4, 5, 6], [7, 8, 9]])\n",
    "\n",
    "\n",
    "# Obtener la primera fila del array\n",
    "\n",
    "\n",
    "# Obtener la última columna del array\n",
    "  # [3, 6, 9]\n",
    "\n",
    "# Obtener una submatriz que contiene la segunda fila y las dos primeras columnas\n",
    "  # [4, 5]\n",
    "\n",
    "# Imprimir los subconjuntos de datos extraídos\n"
   ]
  },
  {
   "cell_type": "markdown",
   "id": "38fb3e51",
   "metadata": {},
   "source": [
    "# Generación de Números Aleatorios"
   ]
  },
  {
   "cell_type": "code",
   "execution_count": null,
   "id": "4c9439b1",
   "metadata": {},
   "outputs": [],
   "source": [
    "#Generar un array de 10 números enteros aleatorios entre 1 y 100\n"
   ]
  },
  {
   "cell_type": "code",
   "execution_count": null,
   "id": "7b67e54f",
   "metadata": {},
   "outputs": [],
   "source": [
    "#Generar una matriz 2x3 con números aleatorios uniformemente distribuidos entre 0 y 1\n"
   ]
  },
  {
   "cell_type": "code",
   "execution_count": null,
   "id": "bc4519a1",
   "metadata": {},
   "outputs": [],
   "source": [
    "#Generar un array de 5 números aleatorios con distribución normal (media 0, desviación estándar 1)\n",
    "\n"
   ]
  }
 ],
 "metadata": {
  "kernelspec": {
   "display_name": "Python 3",
   "language": "python",
   "name": "python3"
  },
  "language_info": {
   "codemirror_mode": {
    "name": "ipython",
    "version": 3
   },
   "file_extension": ".py",
   "mimetype": "text/x-python",
   "name": "python",
   "nbconvert_exporter": "python",
   "pygments_lexer": "ipython3",
   "version": "3.10.5"
  }
 },
 "nbformat": 4,
 "nbformat_minor": 5
}
