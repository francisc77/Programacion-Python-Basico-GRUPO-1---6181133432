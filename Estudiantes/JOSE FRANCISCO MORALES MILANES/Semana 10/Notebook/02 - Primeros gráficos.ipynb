{
 "cells": [
  {
   "cell_type": "markdown",
   "id": "6d9c6c17",
   "metadata": {},
   "source": [
    "# Primeros gráficos\n",
    "\n",
    "Empezaremos nuestra andadura viendo el gráfico más simple, el de líneas:"
   ]
  },
  {
   "cell_type": "code",
   "execution_count": null,
   "id": "3e293a6b",
   "metadata": {},
   "outputs": [
    {
     "name": "stdout",
     "output_type": "stream",
     "text": [
      "Defaulting to user installation because normal site-packages is not writeable\n",
      "Requirement already satisfied: numpy in c:\\users\\franc\\appdata\\roaming\\python\\python310\\site-packages (2.2.2)\n",
      "Note: you may need to restart the kernel to use updated packages.\n"
     ]
    }
   ],
   "source": []
  },
  {
   "cell_type": "code",
   "execution_count": null,
   "id": "36d70042",
   "metadata": {},
   "outputs": [],
   "source": [
    "import numpy as np\n",
    "import pandas as pd\n",
    "import matplotlib.pyplot as plt # <- Nueva Libreria\n"
   ]
  },
  {
   "cell_type": "markdown",
   "id": "1adb2e6e",
   "metadata": {},
   "source": [
    "## Usando listas\n",
    "\n",
    "Supongamos que necesitamos un gráfico que muestre los ahorros que hemos tenido durante los últimos 4 meses.\n",
    "\n",
    "Vamos a declarar una lista con ellos:"
   ]
  },
  {
   "cell_type": "code",
   "execution_count": null,
   "id": "e5aa16ce",
   "metadata": {},
   "outputs": [
    {
     "ename": "NameError",
     "evalue": "name 'plt' is not defined",
     "output_type": "error",
     "traceback": [
      "\u001b[1;31m---------------------------------------------------------------------------\u001b[0m",
      "\u001b[1;31mNameError\u001b[0m                                 Traceback (most recent call last)",
      "Cell \u001b[1;32mIn[9], line 4\u001b[0m\n\u001b[0;32m      1\u001b[0m ahorros \u001b[38;5;241m=\u001b[39m [\u001b[38;5;241m52\u001b[39m, \u001b[38;5;241m104\u001b[39m, \u001b[38;5;241m32\u001b[39m, \u001b[38;5;241m65\u001b[39m, \u001b[38;5;241m15\u001b[39m, \u001b[38;5;241m76\u001b[39m]\n\u001b[0;32m      2\u001b[0m ahorros \u001b[38;5;241m=\u001b[39m [\u001b[38;5;241m100\u001b[39m, \u001b[38;5;241m50\u001b[39m, \u001b[38;5;241m300\u001b[39m, \u001b[38;5;241m10\u001b[39m, \u001b[38;5;241m150\u001b[39m, \u001b[38;5;241m550\u001b[39m]\n\u001b[1;32m----> 4\u001b[0m \u001b[43mplt\u001b[49m\u001b[38;5;241m.\u001b[39mplot(ahorros)\n\u001b[0;32m      5\u001b[0m \u001b[38;5;66;03m#plt.plot(ahorros)\u001b[39;00m\n",
      "\u001b[1;31mNameError\u001b[0m: name 'plt' is not defined"
     ]
    }
   ],
   "source": [
    "#ahorros = np.random.randint(100,size=6)\n",
    "#ahorros = [52, 104, 32, 65, 15, 76]\n",
    "ahorros = [100, 50, 300, 10, 150, 550]\n",
    "\n",
    "plt.plot(ahorros)\n",
    "#plt.plot(ahorros)"
   ]
  },
  {
   "cell_type": "markdown",
   "id": "b9d0abf3",
   "metadata": {},
   "source": [
    "Podemos dibujar un gráfico a partir de esta lista sin mucha complicación:"
   ]
  },
  {
   "cell_type": "code",
   "execution_count": 1,
   "id": "b36c5523",
   "metadata": {},
   "outputs": [
    {
     "ename": "NameError",
     "evalue": "name 'plt' is not defined",
     "output_type": "error",
     "traceback": [
      "\u001b[1;31m---------------------------------------------------------------------------\u001b[0m",
      "\u001b[1;31mNameError\u001b[0m                                 Traceback (most recent call last)",
      "Cell \u001b[1;32mIn[1], line 2\u001b[0m\n\u001b[0;32m      1\u001b[0m \u001b[38;5;66;03m# Dibujar gráfico\u001b[39;00m\n\u001b[1;32m----> 2\u001b[0m \u001b[43mplt\u001b[49m\u001b[38;5;241m.\u001b[39mplot(ahorros)\n",
      "\u001b[1;31mNameError\u001b[0m: name 'plt' is not defined"
     ]
    }
   ],
   "source": [
    "# Dibujar gráfico\n",
    "plt.plot(ahorros)"
   ]
  },
  {
   "cell_type": "markdown",
   "id": "86ac1567",
   "metadata": {},
   "source": [
    "Este gráfico tiene dos ejes, el horizontal (X) con 4 números de 0 a 3 y el vertical con los ahorros (Y) que empieza con el mínimo 30 hasta el máximo 100. Estos números corresponden a los índices de los valores en la lista y `matplotlib` genera una escala a partir de ellos.\n",
    "\n",
    "## Usando arrays\n",
    "\n",
    "También podemos crear gráficos a partir de arrays, como este array aleatorio de ahorros para el último año (12 meses):"
   ]
  },
  {
   "cell_type": "code",
   "execution_count": 6,
   "id": "79fbe70a",
   "metadata": {},
   "outputs": [
    {
     "ename": "NameError",
     "evalue": "name 'np' is not defined",
     "output_type": "error",
     "traceback": [
      "\u001b[1;31m---------------------------------------------------------------------------\u001b[0m",
      "\u001b[1;31mNameError\u001b[0m                                 Traceback (most recent call last)",
      "Cell \u001b[1;32mIn[6], line 1\u001b[0m\n\u001b[1;32m----> 1\u001b[0m ahorros \u001b[38;5;241m=\u001b[39m \u001b[43mnp\u001b[49m\u001b[38;5;241m.\u001b[39mrandom\u001b[38;5;241m.\u001b[39mrandint(\u001b[38;5;241m100\u001b[39m, size\u001b[38;5;241m=\u001b[39m[\u001b[38;5;241m6\u001b[39m])\n\u001b[0;32m      2\u001b[0m \u001b[38;5;28mprint\u001b[39m(ahorros)\n\u001b[0;32m      4\u001b[0m \u001b[38;5;66;03m# Dibujar gráfico\u001b[39;00m\n",
      "\u001b[1;31mNameError\u001b[0m: name 'np' is not defined"
     ]
    }
   ],
   "source": [
    "ahorros = np.random.randint(100, size=[6])\n",
    "print(ahorros)\n",
    "\n",
    "# Dibujar gráfico\n",
    "plt.plot(ahorros)"
   ]
  },
  {
   "cell_type": "markdown",
   "id": "a4d3dc69",
   "metadata": {},
   "source": [
    "## Usando DataFrames\n",
    "\n",
    "Finalmente, también podemos crear un gráfico a partir de un `dataframe` como el anterior pero con etiquetas:"
   ]
  },
  {
   "cell_type": "code",
   "execution_count": 7,
   "id": "854dce6d",
   "metadata": {},
   "outputs": [
    {
     "ename": "NameError",
     "evalue": "name 'pd' is not defined",
     "output_type": "error",
     "traceback": [
      "\u001b[1;31m---------------------------------------------------------------------------\u001b[0m",
      "\u001b[1;31mNameError\u001b[0m                                 Traceback (most recent call last)",
      "Cell \u001b[1;32mIn[7], line 1\u001b[0m\n\u001b[1;32m----> 1\u001b[0m df \u001b[38;5;241m=\u001b[39m \u001b[43mpd\u001b[49m\u001b[38;5;241m.\u001b[39mDataFrame(ahorros, index\u001b[38;5;241m=\u001b[39m[\u001b[38;5;124m'\u001b[39m\u001b[38;5;124mEnero\u001b[39m\u001b[38;5;124m'\u001b[39m,\u001b[38;5;124m'\u001b[39m\u001b[38;5;124mFebrero\u001b[39m\u001b[38;5;124m'\u001b[39m,\u001b[38;5;124m'\u001b[39m\u001b[38;5;124mMarzo\u001b[39m\u001b[38;5;124m'\u001b[39m,\u001b[38;5;124m'\u001b[39m\u001b[38;5;124mAbril\u001b[39m\u001b[38;5;124m'\u001b[39m,\u001b[38;5;124m'\u001b[39m\u001b[38;5;124mMayo\u001b[39m\u001b[38;5;124m'\u001b[39m,\u001b[38;5;124m'\u001b[39m\u001b[38;5;124mJunio\u001b[39m\u001b[38;5;124m'\u001b[39m])\n\u001b[0;32m      2\u001b[0m df\n",
      "\u001b[1;31mNameError\u001b[0m: name 'pd' is not defined"
     ]
    }
   ],
   "source": [
    "df = pd.DataFrame(ahorros, index=['Enero','Febrero','Marzo','Abril','Mayo','Junio'])\n",
    "df"
   ]
  },
  {
   "cell_type": "code",
   "execution_count": null,
   "id": "d4f75fee",
   "metadata": {},
   "outputs": [],
   "source": [
    "# Dibujar gráfico\n",
    "plt.plot(df)"
   ]
  },
  {
   "cell_type": "markdown",
   "id": "fa63650d",
   "metadata": {},
   "source": [
    "Los `DataFrames` nos permiten configurar fácilmente el texto para los ejes del gráfico. \n",
    "\n",
    "También tienen su propio método `plot`, con lo cuál no tenemos que pasarlos a `plt.plot`, pero no vamos a profundizar en él porque tiene sus propias configuraciones y sería como aprender dos veces lo mismo:"
   ]
  },
  {
   "cell_type": "code",
   "execution_count": null,
   "id": "753e94bd",
   "metadata": {},
   "outputs": [],
   "source": [
    "df.plot()"
   ]
  },
  {
   "cell_type": "markdown",
   "id": "62527469",
   "metadata": {},
   "source": [
    "Los detalles sobre el método `plot` de los `DataFrames` se pueden encontrar en la [documentación oficial](https://pandas.pydata.org/docs/reference/api/pandas.DataFrame.plot.html) de pandas."
   ]
  }
 ],
 "metadata": {
  "kernelspec": {
   "display_name": "Python 3",
   "language": "python",
   "name": "python3"
  },
  "language_info": {
   "codemirror_mode": {
    "name": "ipython",
    "version": 3
   },
   "file_extension": ".py",
   "mimetype": "text/x-python",
   "name": "python",
   "nbconvert_exporter": "python",
   "pygments_lexer": "ipython3",
   "version": "3.10.5"
  }
 },
 "nbformat": 4,
 "nbformat_minor": 5
}
