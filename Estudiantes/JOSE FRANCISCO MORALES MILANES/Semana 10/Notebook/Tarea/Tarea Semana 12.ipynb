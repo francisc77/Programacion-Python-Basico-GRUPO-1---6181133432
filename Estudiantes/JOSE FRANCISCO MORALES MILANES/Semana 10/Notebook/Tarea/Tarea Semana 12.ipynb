{
 "cells": [
  {
   "attachments": {},
   "cell_type": "markdown",
   "metadata": {
    "azdata_cell_guid": "7177e949-2d74-4ba8-8331-3f560608d96b"
   },
   "source": [
    "# **Ejercicio: Análisis y Visualización de Datos desde un CSV**\n",
    "\n",
    "### Prof. Andrés Mena Abarca\n",
    "\n",
    "**Objetivo:**  \n",
    "Leer datos de un archivo CSV, realizar un análisis exploratorio y crear diferentes gráficos para visualizar la información utilizando Pandas y Matplotlib."
   ]
  },
  {
   "cell_type": "markdown",
   "metadata": {
    "azdata_cell_guid": "3ba88f58-c4f2-47f5-9267-9b92d62138f2"
   },
   "source": [
    "# Estudiante: "
   ]
  },
  {
   "cell_type": "code",
   "execution_count": 1,
   "metadata": {
    "azdata_cell_guid": "b42b97a2-5b46-4fde-9c0e-6f49af62d310",
    "language": "python"
   },
   "outputs": [
    {
     "data": {
      "text/html": [
       "<div>\n",
       "<style scoped>\n",
       "    .dataframe tbody tr th:only-of-type {\n",
       "        vertical-align: middle;\n",
       "    }\n",
       "\n",
       "    .dataframe tbody tr th {\n",
       "        vertical-align: top;\n",
       "    }\n",
       "\n",
       "    .dataframe thead th {\n",
       "        text-align: right;\n",
       "    }\n",
       "</style>\n",
       "<table border=\"1\" class=\"dataframe\">\n",
       "  <thead>\n",
       "    <tr style=\"text-align: right;\">\n",
       "      <th></th>\n",
       "      <th>Año</th>\n",
       "      <th>Nacimientos</th>\n",
       "      <th>Defunciones</th>\n",
       "    </tr>\n",
       "  </thead>\n",
       "  <tbody>\n",
       "    <tr>\n",
       "      <th>0</th>\n",
       "      <td>1950</td>\n",
       "      <td>37248</td>\n",
       "      <td>9769</td>\n",
       "    </tr>\n",
       "    <tr>\n",
       "      <th>1</th>\n",
       "      <td>1951</td>\n",
       "      <td>39239</td>\n",
       "      <td>9631</td>\n",
       "    </tr>\n",
       "    <tr>\n",
       "      <th>2</th>\n",
       "      <td>1952</td>\n",
       "      <td>42461</td>\n",
       "      <td>9902</td>\n",
       "    </tr>\n",
       "    <tr>\n",
       "      <th>3</th>\n",
       "      <td>1953</td>\n",
       "      <td>42817</td>\n",
       "      <td>10312</td>\n",
       "    </tr>\n",
       "    <tr>\n",
       "      <th>4</th>\n",
       "      <td>1954</td>\n",
       "      <td>48157</td>\n",
       "      <td>9713</td>\n",
       "    </tr>\n",
       "    <tr>\n",
       "      <th>...</th>\n",
       "      <td>...</td>\n",
       "      <td>...</td>\n",
       "      <td>...</td>\n",
       "    </tr>\n",
       "    <tr>\n",
       "      <th>67</th>\n",
       "      <td>2017</td>\n",
       "      <td>68811</td>\n",
       "      <td>23246</td>\n",
       "    </tr>\n",
       "    <tr>\n",
       "      <th>68</th>\n",
       "      <td>2018</td>\n",
       "      <td>68449</td>\n",
       "      <td>23806</td>\n",
       "    </tr>\n",
       "    <tr>\n",
       "      <th>69</th>\n",
       "      <td>2019</td>\n",
       "      <td>64274</td>\n",
       "      <td>24292</td>\n",
       "    </tr>\n",
       "    <tr>\n",
       "      <th>70</th>\n",
       "      <td>2020</td>\n",
       "      <td>57848</td>\n",
       "      <td>26205</td>\n",
       "    </tr>\n",
       "    <tr>\n",
       "      <th>71</th>\n",
       "      <td>2021</td>\n",
       "      <td>54288</td>\n",
       "      <td>31093</td>\n",
       "    </tr>\n",
       "  </tbody>\n",
       "</table>\n",
       "<p>72 rows × 3 columns</p>\n",
       "</div>"
      ],
      "text/plain": [
       "     Año  Nacimientos  Defunciones\n",
       "0   1950        37248         9769\n",
       "1   1951        39239         9631\n",
       "2   1952        42461         9902\n",
       "3   1953        42817        10312\n",
       "4   1954        48157         9713\n",
       "..   ...          ...          ...\n",
       "67  2017        68811        23246\n",
       "68  2018        68449        23806\n",
       "69  2019        64274        24292\n",
       "70  2020        57848        26205\n",
       "71  2021        54288        31093\n",
       "\n",
       "[72 rows x 3 columns]"
      ]
     },
     "execution_count": 1,
     "metadata": {},
     "output_type": "execute_result"
    }
   ],
   "source": [
    "# Importar la biblioteca pandas, que se utiliza para manipular y analizar datos estructurados.\n",
    "import pandas as pd\n",
    "\n",
    "# Definir la ruta del archivo CSV que contiene los datos.\n",
    "# Aquí se especifica el nombre del archivo (puede ser relativo o absoluto).\n",
    "ruta_archivo_csv = \"nacimientos_defunciones.csv\"\n",
    "\n",
    "# Leer el archivo CSV en un DataFrame de pandas.\n",
    "# El parámetro `delimiter=','` indica que las columnas están separadas por comas (formato CSV estándar).\n",
    "df = pd.read_csv(ruta_archivo_csv, delimiter=',')\n",
    "\n",
    "# Mostrar el contenido del DataFrame cargado.\n",
    "# Esto permite visualizar los datos en forma tabular (filas y columnas).\n",
    "df\n"
   ]
  },
  {
   "attachments": {},
   "cell_type": "markdown",
   "metadata": {
    "azdata_cell_guid": "d005cd9e-721b-46da-bd74-5e35ba4fa00b"
   },
   "source": [
    "## **Limpiar y procesar el DataFrame**\n",
    "\n",
    "El DataFrame `df` tiene las siguientes columnas:\n",
    "\n",
    "- **Año**: Esta columna contiene los años correspondientes a los registros demográficos.\n",
    "- **Nacimientos**: Esta columna contiene la cantidad de nacimientos registrados en el año.\n",
    "- **Defunciones**: Esta columna contiene la cantidad de defunciones registradas en el año.\n",
    "- **Unnamed: x**: (si existieran columnas adicionales) Estas columnas contienen datos no deseados o nulos y deben ser eliminadas para limpiar el DataFrame.\n",
    "\n",
    "### **Pasos para la limpieza y procesamiento:**\n",
    "\n",
    "1. **Eliminar columnas innecesarias**: Si hay columnas como `Unnamed: x`, eliminarlas del DataFrame.\n",
    "2. **Eliminar filas nulas o no válidas**: Asegurarse de que los valores en las columnas relevantes no contengan datos faltantes.\n",
    "3. **Convertir los datos a tipos adecuados**: Verificar y convertir las columnas numéricas a su formato correcto (por ejemplo, `int` o `float` para los valores numéricos).\n",
    "4. **Guardar el DataFrame limpio**: Exportar el resultado a un nuevo archivo CSV para análisis posterior."
   ]
  },
  {
   "cell_type": "code",
   "execution_count": 5,
   "metadata": {
    "azdata_cell_guid": "9a41792e-4456-4cec-b513-384a94c0d5da",
    "language": "python"
   },
   "outputs": [
    {
     "name": "stdout",
     "output_type": "stream",
     "text": [
      "Shape:  (72, 3)\n",
      "Columnas:  Index(['Año', 'Nacimientos', 'Defunciones'], dtype='object')\n",
      "Tipado: \n",
      " Año            int64\n",
      "Nacimientos    int64\n",
      "Defunciones    int64\n",
      "dtype: object\n"
     ]
    }
   ],
   "source": [
    "print('Shape: ',df.shape)\n",
    "print('Columnas: ', df.columns)\n",
    "print('Tipado: \\n', df.dtypes)"
   ]
  },
  {
   "cell_type": "code",
   "execution_count": 3,
   "metadata": {
    "azdata_cell_guid": "427670aa-0fd9-476e-8ae8-b8db473deab1",
    "language": "python"
   },
   "outputs": [
    {
     "data": {
      "text/html": [
       "<div>\n",
       "<style scoped>\n",
       "    .dataframe tbody tr th:only-of-type {\n",
       "        vertical-align: middle;\n",
       "    }\n",
       "\n",
       "    .dataframe tbody tr th {\n",
       "        vertical-align: top;\n",
       "    }\n",
       "\n",
       "    .dataframe thead th {\n",
       "        text-align: right;\n",
       "    }\n",
       "</style>\n",
       "<table border=\"1\" class=\"dataframe\">\n",
       "  <thead>\n",
       "    <tr style=\"text-align: right;\">\n",
       "      <th></th>\n",
       "      <th>Año</th>\n",
       "      <th>Nacimientos</th>\n",
       "      <th>Defunciones</th>\n",
       "    </tr>\n",
       "  </thead>\n",
       "  <tbody>\n",
       "    <tr>\n",
       "      <th>0</th>\n",
       "      <td>1950</td>\n",
       "      <td>37248</td>\n",
       "      <td>9769</td>\n",
       "    </tr>\n",
       "    <tr>\n",
       "      <th>1</th>\n",
       "      <td>1951</td>\n",
       "      <td>39239</td>\n",
       "      <td>9631</td>\n",
       "    </tr>\n",
       "    <tr>\n",
       "      <th>2</th>\n",
       "      <td>1952</td>\n",
       "      <td>42461</td>\n",
       "      <td>9902</td>\n",
       "    </tr>\n",
       "    <tr>\n",
       "      <th>3</th>\n",
       "      <td>1953</td>\n",
       "      <td>42817</td>\n",
       "      <td>10312</td>\n",
       "    </tr>\n",
       "    <tr>\n",
       "      <th>4</th>\n",
       "      <td>1954</td>\n",
       "      <td>48157</td>\n",
       "      <td>9713</td>\n",
       "    </tr>\n",
       "  </tbody>\n",
       "</table>\n",
       "</div>"
      ],
      "text/plain": [
       "    Año  Nacimientos  Defunciones\n",
       "0  1950        37248         9769\n",
       "1  1951        39239         9631\n",
       "2  1952        42461         9902\n",
       "3  1953        42817        10312\n",
       "4  1954        48157         9713"
      ]
     },
     "execution_count": 3,
     "metadata": {},
     "output_type": "execute_result"
    }
   ],
   "source": [
    "# Eliminar filas con valores nulos en cualquier columna\n",
    "df.dropna(inplace=True)\n",
    "\n",
    "df.head()"
   ]
  },
  {
   "attachments": {},
   "cell_type": "markdown",
   "metadata": {
    "azdata_cell_guid": "8ff767f7-154c-4c01-95fa-a551121f5c5a"
   },
   "source": [
    "### **1\\. Gráfico de líneas: Nacimientos y Defunciones por año**\n",
    "\n",
    "### \n",
    "\n",
    "Este gráfico muestra la tendencia de nacimientos y defunciones a lo largo de los años."
   ]
  },
  {
   "cell_type": "code",
   "execution_count": 37,
   "metadata": {
    "azdata_cell_guid": "e371ccae-796f-447e-832a-fa9b2146bfc7",
    "language": "python"
   },
   "outputs": [
    {
     "data": {
      "text/plain": [
       "<function matplotlib.pyplot.legend(*args, **kwargs) -> 'Legend'>"
      ]
     },
     "execution_count": 37,
     "metadata": {},
     "output_type": "execute_result"
    },
    {
     "data": {
      "image/png": "[encoded data removed]",
      "text/plain": [
       "<Figure size 640x480 with 1 Axes>"
      ]
     },
     "metadata": {},
     "output_type": "display_data"
    }
   ],
   "source": [
    "import matplotlib.pyplot as plt\n",
    "# eje x es años y el eje y va a hacer defunciones\n",
    "df.columns\n",
    "#plt.title(f'Tendencias Defunciones y Nacimientos \\n {df['Año'].min()} hasta {df['Año'].max()}') # ,fontsize=10\n",
    "#plt.title(f'Tendencias Defunciones y Nacimientos \\n {df['Año'].min()} hasta {df['Año'].max()}')\n",
    "plt.title(f'Tendencias Defunciones y Nacimientos ')\n",
    "#plt.figure(figsize=(17, 7))\n",
    "plt.plot(df['Año'],df['Defunciones'],marker='o',markersize=\"3\",lw=2, color='red',label='Defunciones')\n",
    "plt.plot(df['Año'],df['Nacimientos'],marker='o',markersize=\"3\",lw=2, color='green',label='Nacimientos')\n",
    "#markers='o' \n",
    "plt.grid(axis='both', linestyle='--', alpha=0.5)\n",
    "plt.xlabel(\"Años\",fontsize=10,color='green')\n",
    "plt.ylabel('Cantidad',fontsize=10,color='brown')\n",
    "\n",
    "plt.legend"
   ]
  },
  {
   "attachments": {},
   "cell_type": "markdown",
   "metadata": {
    "azdata_cell_guid": "bdeecaaf-b341-4d86-b4f5-4153c69500c9",
    "language": "python"
   },
   "source": [
    "### **2\\. Selección y Filtrado de Datos**\n",
    "\n",
    "**Objetivo:** Practicar la selección de columnas y el filtrado de filas.\n",
    "\n",
    "1. **Seleccionar columnas específicas:**"
   ]
  },
  {
   "cell_type": "code",
   "execution_count": 38,
   "metadata": {
    "azdata_cell_guid": "fb069758-1586-40e9-9f3c-aa27947d5434",
    "language": "python"
   },
   "outputs": [
    {
     "data": {
      "text/html": [
       "<div>\n",
       "<style scoped>\n",
       "    .dataframe tbody tr th:only-of-type {\n",
       "        vertical-align: middle;\n",
       "    }\n",
       "\n",
       "    .dataframe tbody tr th {\n",
       "        vertical-align: top;\n",
       "    }\n",
       "\n",
       "    .dataframe thead th {\n",
       "        text-align: right;\n",
       "    }\n",
       "</style>\n",
       "<table border=\"1\" class=\"dataframe\">\n",
       "  <thead>\n",
       "    <tr style=\"text-align: right;\">\n",
       "      <th></th>\n",
       "      <th>Año</th>\n",
       "    </tr>\n",
       "  </thead>\n",
       "  <tbody>\n",
       "    <tr>\n",
       "      <th>0</th>\n",
       "      <td>1950</td>\n",
       "    </tr>\n",
       "    <tr>\n",
       "      <th>1</th>\n",
       "      <td>1951</td>\n",
       "    </tr>\n",
       "    <tr>\n",
       "      <th>2</th>\n",
       "      <td>1952</td>\n",
       "    </tr>\n",
       "    <tr>\n",
       "      <th>3</th>\n",
       "      <td>1953</td>\n",
       "    </tr>\n",
       "    <tr>\n",
       "      <th>4</th>\n",
       "      <td>1954</td>\n",
       "    </tr>\n",
       "    <tr>\n",
       "      <th>...</th>\n",
       "      <td>...</td>\n",
       "    </tr>\n",
       "    <tr>\n",
       "      <th>67</th>\n",
       "      <td>2017</td>\n",
       "    </tr>\n",
       "    <tr>\n",
       "      <th>68</th>\n",
       "      <td>2018</td>\n",
       "    </tr>\n",
       "    <tr>\n",
       "      <th>69</th>\n",
       "      <td>2019</td>\n",
       "    </tr>\n",
       "    <tr>\n",
       "      <th>70</th>\n",
       "      <td>2020</td>\n",
       "    </tr>\n",
       "    <tr>\n",
       "      <th>71</th>\n",
       "      <td>2021</td>\n",
       "    </tr>\n",
       "  </tbody>\n",
       "</table>\n",
       "<p>72 rows × 1 columns</p>\n",
       "</div>"
      ],
      "text/plain": [
       "     Año\n",
       "0   1950\n",
       "1   1951\n",
       "2   1952\n",
       "3   1953\n",
       "4   1954\n",
       "..   ...\n",
       "67  2017\n",
       "68  2018\n",
       "69  2019\n",
       "70  2020\n",
       "71  2021\n",
       "\n",
       "[72 rows x 1 columns]"
      ]
     },
     "execution_count": 38,
     "metadata": {},
     "output_type": "execute_result"
    }
   ],
   "source": [
    "# Seleccionar las columnas de Año y Nacimientos\n",
    "filtro = ['Año', 'Nacimiento']\n",
    "\n",
    "df.filter(filtro)"
   ]
  },
  {
   "cell_type": "code",
   "execution_count": 41,
   "metadata": {
    "azdata_cell_guid": "f68e9b82-8833-4989-9d69-084aa139a494",
    "language": "python"
   },
   "outputs": [
    {
     "data": {
      "text/html": [
       "<div>\n",
       "<style scoped>\n",
       "    .dataframe tbody tr th:only-of-type {\n",
       "        vertical-align: middle;\n",
       "    }\n",
       "\n",
       "    .dataframe tbody tr th {\n",
       "        vertical-align: top;\n",
       "    }\n",
       "\n",
       "    .dataframe thead th {\n",
       "        text-align: right;\n",
       "    }\n",
       "</style>\n",
       "<table border=\"1\" class=\"dataframe\">\n",
       "  <thead>\n",
       "    <tr style=\"text-align: right;\">\n",
       "      <th></th>\n",
       "      <th>Año</th>\n",
       "      <th>Nacimientos</th>\n",
       "      <th>Defunciones</th>\n",
       "    </tr>\n",
       "  </thead>\n",
       "  <tbody>\n",
       "    <tr>\n",
       "      <th>61</th>\n",
       "      <td>2011</td>\n",
       "      <td>73459</td>\n",
       "      <td>18801</td>\n",
       "    </tr>\n",
       "    <tr>\n",
       "      <th>62</th>\n",
       "      <td>2012</td>\n",
       "      <td>73326</td>\n",
       "      <td>19200</td>\n",
       "    </tr>\n",
       "    <tr>\n",
       "      <th>63</th>\n",
       "      <td>2013</td>\n",
       "      <td>70550</td>\n",
       "      <td>19646</td>\n",
       "    </tr>\n",
       "    <tr>\n",
       "      <th>64</th>\n",
       "      <td>2014</td>\n",
       "      <td>71793</td>\n",
       "      <td>20560</td>\n",
       "    </tr>\n",
       "    <tr>\n",
       "      <th>65</th>\n",
       "      <td>2015</td>\n",
       "      <td>71819</td>\n",
       "      <td>21038</td>\n",
       "    </tr>\n",
       "    <tr>\n",
       "      <th>66</th>\n",
       "      <td>2016</td>\n",
       "      <td>70004</td>\n",
       "      <td>22601</td>\n",
       "    </tr>\n",
       "    <tr>\n",
       "      <th>67</th>\n",
       "      <td>2017</td>\n",
       "      <td>68811</td>\n",
       "      <td>23246</td>\n",
       "    </tr>\n",
       "    <tr>\n",
       "      <th>68</th>\n",
       "      <td>2018</td>\n",
       "      <td>68449</td>\n",
       "      <td>23806</td>\n",
       "    </tr>\n",
       "    <tr>\n",
       "      <th>69</th>\n",
       "      <td>2019</td>\n",
       "      <td>64274</td>\n",
       "      <td>24292</td>\n",
       "    </tr>\n",
       "    <tr>\n",
       "      <th>70</th>\n",
       "      <td>2020</td>\n",
       "      <td>57848</td>\n",
       "      <td>26205</td>\n",
       "    </tr>\n",
       "    <tr>\n",
       "      <th>71</th>\n",
       "      <td>2021</td>\n",
       "      <td>54288</td>\n",
       "      <td>31093</td>\n",
       "    </tr>\n",
       "  </tbody>\n",
       "</table>\n",
       "</div>"
      ],
      "text/plain": [
       "     Año  Nacimientos  Defunciones\n",
       "61  2011        73459        18801\n",
       "62  2012        73326        19200\n",
       "63  2013        70550        19646\n",
       "64  2014        71793        20560\n",
       "65  2015        71819        21038\n",
       "66  2016        70004        22601\n",
       "67  2017        68811        23246\n",
       "68  2018        68449        23806\n",
       "69  2019        64274        24292\n",
       "70  2020        57848        26205\n",
       "71  2021        54288        31093"
      ]
     },
     "execution_count": 41,
     "metadata": {},
     "output_type": "execute_result"
    }
   ],
   "source": [
    "# Filtrar datos desde el año 2010\n",
    "df_filtrado = df.loc[df['Año']>2010]\n",
    "df_filtrado"
   ]
  },
  {
   "attachments": {},
   "cell_type": "markdown",
   "metadata": {
    "azdata_cell_guid": "66f350c5-ac44-4dc5-8d74-a35dd58e69f4",
    "language": "python"
   },
   "source": [
    "### **3\\. Operaciones Básicas**\n",
    "\n",
    "**Objetivo:** Realizar cálculos básicos utilizando las columnas del DataFrame.\n",
    "\n",
    "1. **Calcular el total de nacimientos y defunciones:**"
   ]
  },
  {
   "cell_type": "code",
   "execution_count": 42,
   "metadata": {
    "azdata_cell_guid": "84eaf664-a9de-4208-b6b4-f884befd13b2",
    "language": "python"
   },
   "outputs": [
    {
     "data": {
      "text/plain": [
       "<function matplotlib.pyplot.legend(*args, **kwargs) -> 'Legend'>"
      ]
     },
     "execution_count": 42,
     "metadata": {},
     "output_type": "execute_result"
    },
    {
     "data": {
      "image/png": "[encoded data removed]",
      "text/plain": [
       "<Figure size 640x480 with 1 Axes>"
      ]
     },
     "metadata": {},
     "output_type": "display_data"
    }
   ],
   "source": [
    "# total_nacimientos\n",
    "# total_defunciones \n",
    "df.columns\n",
    "#plt.title(f'Tendencias Defunciones y Nacimientos \\n {df['Año'].min()} hasta {df['Año'].max()}') # ,fontsize=10\n",
    "#plt.title(f'Tendencias Defunciones y Nacimientos \\n {df['Año'].min()} hasta {df['Año'].max()}')\n",
    "plt.title(f'Tendencias Defunciones y Nacimientos ')\n",
    "#plt.figure(figsize=(17, 7))\n",
    "plt.plot(df_filtrado,df_filtrado,marker='o',markersize=\"3\",lw=2, color='red',label='Defunciones')\n",
    "#plt.plot(df['Año'],df['Nacimientos'],marker='o',markersize=\"3\",lw=2, color='green',label='Nacimientos')\n",
    "#markers='o' \n",
    "plt.grid(axis='both', linestyle='--', alpha=0.5)\n",
    "plt.xlabel(\"Años\",fontsize=10,color='green')\n",
    "plt.ylabel('Cantidad',fontsize=10,color='brown')\n",
    "\n",
    "plt.legend"
   ]
  },
  {
   "attachments": {},
   "cell_type": "markdown",
   "metadata": {
    "azdata_cell_guid": "7ea8bb49-00e1-49c7-8f59-bca185c6af5a",
    "language": "python"
   },
   "source": [
    "**2\\. Añadir una nueva columna con el saldo poblacional :**"
   ]
  },
  {
   "cell_type": "code",
   "execution_count": null,
   "metadata": {
    "azdata_cell_guid": "b133d04a-28cb-4607-b6f5-821b2e864cb6",
    "language": "python"
   },
   "outputs": [],
   "source": [
    "#Saldo Poblacional\n"
   ]
  },
  {
   "attachments": {},
   "cell_type": "markdown",
   "metadata": {
    "azdata_cell_guid": "fa04ea9c-f241-491d-8025-a257a4ca5c61",
    "language": "python"
   },
   "source": [
    "### **Creación de Gráficos con Matplotlib**\n",
    "\n",
    "**Objetivo:** Introducir la visualización básica de datos con Matplotlib.\n",
    "\n",
    "1. **Gráfico de líneas: Nacimientos por año**"
   ]
  },
  {
   "cell_type": "code",
   "execution_count": null,
   "metadata": {
    "azdata_cell_guid": "f241e0f8-b3bc-4839-b95d-a81084a71c9b",
    "language": "python"
   },
   "outputs": [],
   "source": [
    "import matplotlib.pyplot as plt\n"
   ]
  },
  {
   "attachments": {},
   "cell_type": "markdown",
   "metadata": {
    "azdata_cell_guid": "9abef0c2-f7a1-43a3-9324-965767b3b091"
   },
   "source": [
    "### **Gráfico de barras: Comparación de nacimientos y defunciones**"
   ]
  },
  {
   "cell_type": "code",
   "execution_count": null,
   "metadata": {
    "azdata_cell_guid": "aaa7acdb-4aaa-486f-b087-d21aea92dc24",
    "language": "python"
   },
   "outputs": [],
   "source": [
    "# Crear gráfico de barras\n",
    "\n"
   ]
  },
  {
   "cell_type": "code",
   "execution_count": null,
   "metadata": {
    "azdata_cell_guid": "636671bb-ca32-44d5-8887-2251da3dece7",
    "language": "python"
   },
   "outputs": [],
   "source": [
    "# Filtrar datos del último año\n",
    "ultimo_anio = df[df['Año'] == df['Año'].max()]\n",
    "\n",
    "# Crear gráfico de barras\n",
    "\n"
   ]
  },
  {
   "attachments": {},
   "cell_type": "markdown",
   "metadata": {
    "azdata_cell_guid": "6d3a1694-08a7-4ce8-8b45-187a0ded4e9d",
    "language": "python"
   },
   "source": [
    "### **<mark>TAREA SEMANA 12</mark>**\n",
    "\n",
    "**Objetivo:** Combinar la manipulación de datos con visualización.\n",
    "\n",
    "#### **Enunciado:**\n",
    "\n",
    "1. Filtra los datos desde el año 2000.\n",
    "2. Calcula el promedio de nacimientos y defunciones desde esa fecha.\n",
    "3. Crea un gráfico de líneas que compare nacimientos y defunciones desde el año 2000.\n",
    "\n",
    "#### **Solución:**\n",
    "\n",
    "1. **Filtrar datos desde el año 2000:**"
   ]
  },
  {
   "cell_type": "code",
   "execution_count": null,
   "metadata": {
    "azdata_cell_guid": "ed2f20bc-ec2b-4d4c-9ca9-195cfbcf8fcb",
    "language": "python"
   },
   "outputs": [],
   "source": [
    "#\n"
   ]
  },
  {
   "attachments": {},
   "cell_type": "markdown",
   "metadata": {
    "azdata_cell_guid": "95365cbf-58c5-470e-b68a-ec42df512b7e",
    "language": "python"
   },
   "source": [
    "2. **Calcular promedios:**"
   ]
  },
  {
   "cell_type": "code",
   "execution_count": null,
   "metadata": {
    "azdata_cell_guid": "21145e66-345d-4dcc-9314-594788bdf37e",
    "language": "python"
   },
   "outputs": [],
   "source": [
    "#"
   ]
  },
  {
   "attachments": {},
   "cell_type": "markdown",
   "metadata": {
    "azdata_cell_guid": "9e0e6a22-7673-448d-b132-6d8eb32ee6f2",
    "language": "python"
   },
   "source": [
    "3. **Graficar:**"
   ]
  },
  {
   "cell_type": "code",
   "execution_count": null,
   "metadata": {
    "azdata_cell_guid": "3889febc-2c94-43b8-89ca-f48397a1ee4f",
    "language": "python"
   },
   "outputs": [],
   "source": [
    "#\n"
   ]
  }
 ],
 "metadata": {
  "kernelspec": {
   "display_name": "Python 3",
   "language": "python",
   "name": "python3"
  },
  "language_info": {
   "codemirror_mode": {
    "name": "ipython",
    "version": 3
   },
   "file_extension": ".py",
   "mimetype": "text/x-python",
   "name": "python",
   "nbconvert_exporter": "python",
   "pygments_lexer": "ipython3",
   "version": "3.10.5"
  }
 },
 "nbformat": 4,
 "nbformat_minor": 2
}
