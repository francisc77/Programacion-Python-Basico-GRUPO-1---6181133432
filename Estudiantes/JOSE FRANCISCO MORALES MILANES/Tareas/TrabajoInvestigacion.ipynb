{
 "cells": [
  {
   "cell_type": "markdown",
   "metadata": {},
   "source": [
    "Prof. Andrés Mena Abarca \n",
    "# Exploración Teórica y Aplicación Práctica de las Funciones en Python  \n",
    "Planteamiento del Problema \n",
    "Las funciones en Python son una herramienta esencial en la programación estructurada y funcional. Su correcto uso permite mejorar la reutilización del código, modularización y escalabilidad de los programas. Sin embargo, muchos estudiantes desconocen las mejores prácticas en su implementación y el impacto en la eficiencia del código. \n",
    "✅ Pregunta de investigación: \n",
    " \n",
    "\n",
    "\n"
   ]
  },
  {
   "cell_type": "markdown",
   "metadata": {},
   "source": [
    "## ¿Cómo influyen las funciones en Python en la modularización y eficiencia de los programas en desarrollo de software? \n",
    "Ventajas de la modularidad en Python\n",
    "\n",
    "Organización del código: Al modularizar el código en Python, se divide en diferentes módulos, lo que facilita la organización. Cada módulo puede contener un conjunto de funciones relacionadas o una parte específica de la lógica del programa. Esto hace que sea más fácil para los desarrolladores entender y trabajar en diferentes partes del código.\n",
    "\n",
    "Reutilización de código: Modularizar el código en Python también permite la reutilización de código. Cuando se crea una función o un conjunto de funciones en un módulo, se pueden importar y utilizar en otros lugares de nuestro código o incluso en otros proyectos. Esto ahorra tiempo y esfuerzo, ya que no es necesario volver a escribir el mismo código una y otra vez.\n",
    "\n",
    "Colaboración efectiva: En proyectos de desarrollo de software en equipo, modularizar el código en Python es fundamental. Cada miembro del equipo puede trabajar en módulos específicos sin afectar al trabajo de los demás. Esto facilita la colaboración y acelera el proceso de desarrollo.\n",
    "\n",
    "# matematicas.py \n",
    "def suma(a, b): \n",
    "       return a + b \n",
    "\n",
    "def resta(a, b): \n",
    "       return a - b\n",
    "\n",
    "import matematicas \n",
    "\n",
    "resultado = matematicas.suma(5, 3) \n",
    "print(resultado) # Salida: 8"
   ]
  },
  {
   "cell_type": "markdown",
   "metadata": {},
   "source": [
    "Desarrollo del Notebook \n",
    "Crear un notebook en Jupyter siguiendo la siguiente estructura. Cada sección debe contener una combinación de texto explicativo (Markdown) y código en Python (Code Cells). "
   ]
  },
  {
   "cell_type": "markdown",
   "metadata": {},
   "source": [
    "## Incluir una breve introducción sobre el propósito del notebook y código. \n",
    "Jupyter Notebook es una herramienta web basada en celdas que permite programar código en Python1. Es un entorno de desarrollo interactivo con live code, que muestra la ejecución del código a través del navegador web2. Jupyter Notebook es una aplicación web de código abierto que permite a los usuarios crear y compartir documentos que contienen código en vivo, ecuaciones, visualizaciones y texto narrativo"
   ]
  },
  {
   "cell_type": "markdown",
   "metadata": {},
   "source": [
    "# Explicar la importancia del uso de funciones en Python. \n",
    "Las funciones en Python permiten encapsular código reutilizable, mejorando la modularización y eficiencia en el desarrollo de software. "
   ]
  },
  {
   "cell_type": "markdown",
   "metadata": {},
   "source": [
    "## 3.1 Definición y Propósito de las Funciones en Python "
   ]
  },
  {
   "cell_type": "markdown",
   "metadata": {},
   "source": [
    "## ¿Qué son las funciones? \n",
    "Las funciones en Python permiten encapsular código reutilizable, mejorando la modularización y eficiencia en el desarrollo de software. \n",
    "En términos simples, una función en Python es un bloque de código reutilizable que realiza una tarea específica. Imagine una función como una caja negra⁚ usted introduce ciertos datos (argumentos) y la función procesa estos datos para producir un resultado (valor de retorno). Las funciones permiten dividir un programa complejo en partes más pequeñas y manejables, promoviendo la modularidad y la legibilidad.\n",
    "`def` seguida del nombre de la función, paréntesis que pueden contener parámetros, y dos puntos (`⁚`) para indicar el inicio del bloque de código de la función; La estructura básica de una función se muestra a continuación⁚\n",
    "\n",
    "python def nombre_de_la_funcion(parámetro1, parámetro2, …)⁚ # Código de la función return valor_de_retorno"
   ]
  },
  {
   "cell_type": "code",
   "execution_count": 1,
   "metadata": {},
   "outputs": [
    {
     "name": "stdout",
     "output_type": "stream",
     "text": [
      "¡Hola, bienvenido a Python!\n"
     ]
    }
   ],
   "source": [
    "def saludar(): \n",
    "    print(\"¡Hola, bienvenido a Python!\") \n",
    " \n",
    "saludar() "
   ]
  },
  {
   "cell_type": "markdown",
   "metadata": {},
   "source": [
    "## Beneficios de modularizar código con funciones.\n",
    "Modularidad⁚ Las funciones dividen el código en unidades independientes, lo que facilita la organización y el mantenimiento del código.\n",
    "Reutilización de código⁚ Las funciones se pueden llamar desde diferentes partes del programa, evitando la duplicación de código.\n",
    "Eficiencia⁚ La reutilización de código reduce el tamaño del programa y mejora la eficiencia.\n",
    "Legibilidad⁚ Las funciones hacen que el código sea más fácil de leer y comprender.\n",
    "Depuración⁚ Las funciones facilitan la identificación y corrección de errores, ya que se puede probar cada función de forma independiente.\n",
    "Pruebas⁚ Las funciones se pueden probar de forma independiente, lo que facilita la verificación de su correcto funcionamiento.\n",
    "Documentación⁚ Las funciones se pueden documentar de forma clara y concisa, lo que facilita su comprensión y uso."
   ]
  },
  {
   "cell_type": "markdown",
   "metadata": {},
   "source": [
    "## Importancia de la reutilización del código. \n",
    "Se pueden llamar desde diferentes partes del programa, evitando la duplicación de código."
   ]
  },
  {
   "cell_type": "markdown",
   "metadata": {},
   "source": [
    "# 3.2 Tipos de Funciones en Python \n",
    "## Incluir una descripción y al menos un ejemplo de código para cada tipo de función: "
   ]
  },
  {
   "cell_type": "markdown",
   "metadata": {},
   "source": [
    "## Funciones con y sin retorno. \n",
    "Las funciones sin retorno son aquellas que no devuelven ningún valor explícito. Estas funciones realizan una tarea específica y luego terminan su ejecución."
   ]
  },
  {
   "cell_type": "code",
   "execution_count": null,
   "metadata": {},
   "outputs": [],
   "source": [
    "#ejemplos sin retorno\n",
    "def saludar(nombre):\n",
    "    print(f\"¡Hola, {nombre}!\")\n",
    "\n",
    "# Llamada a la función\n",
    "saludar(\"Ana\") #función sin retorno\n"
   ]
  },
  {
   "cell_type": "markdown",
   "metadata": {},
   "source": [
    "En Python, se utiliza la instrucción return para especificar qué valor debe ser devuelto por la función. Aquí tienes un ejemplo sencillo de una función que calcula la suma de dos números:\n",
    "En este caso, la función suma toma dos números como argumentos, los suma y luego devuelve el resultado utilizando la instrucción return."
   ]
  },
  {
   "cell_type": "code",
   "execution_count": null,
   "metadata": {},
   "outputs": [],
   "source": [
    "def suma_varios(*args): \n",
    "       total = 0 \n",
    "       for num in args: \n",
    "             total += num \n",
    "       return total"
   ]
  },
  {
   "cell_type": "code",
   "execution_count": null,
   "metadata": {},
   "outputs": [],
   "source": [
    "def calcular_saldo(cuenta, transacciones): \n",
    "       saldo = 0 \n",
    "       for transaccion in transacciones: \n",
    "             saldo += transaccion \n",
    "       return saldo"
   ]
  },
  {
   "cell_type": "markdown",
   "metadata": {},
   "source": [
    "## Funciones con parámetros y valores predeterminados. \n",
    "Esta es y una función con parametros y valor predeterminiado al poner el Igual si no lo da el usuario lo toma por default"
   ]
  },
  {
   "cell_type": "code",
   "execution_count": 9,
   "metadata": {},
   "outputs": [
    {
     "name": "stdout",
     "output_type": "stream",
     "text": [
      "El resultado de la operacion es -1\n",
      "El resultado de la operacion es 11\n"
     ]
    }
   ],
   "source": [
    "def oper(x, y, op='+'): # esta es y una función con parametros y valor predeterminiado al poner el Igual si no lo da el usuario lo toma por default\n",
    "    if op == '+':\n",
    "        return x + y\n",
    "    elif op == '-':\n",
    "        return x - y\n",
    "    elif op == '/':\n",
    "        return x / y\n",
    "    else:\n",
    "        return None\n",
    "resultado = oper(5, 6, '-') # dando operador\n",
    "print(f'El resultado de la operacion es {resultado}') \n",
    "resultado = oper(5, 6) #sin dar operador hace suma\n",
    "print(f'El resultado de la operacion es {resultado}')"
   ]
  },
  {
   "cell_type": "markdown",
   "metadata": {},
   "source": [
    "### Funciones con Uso de *args y **kwargs. \n",
    "##### Empaquetado de tuplas de argumento *arg Cuando un nombre de parámetro en una definición de función de Python va precedido de un asterisco (*), indica el empaquetado de tuplas de argumentos. Los argumentos correspondientes de la llamada de función se empaquetan en una tupla a la que la función puede hacer referencia mediante el nombre de parámetro especificado. Este es un ejemplo: *args vuelve una tupla de longitud o largo variable  por ejemplo de avg promedio no sabemos cuantos son los números que vamos a promediar por eso lo podemos poner en una tupla con *args y ahí los podemos sumar con for o con una función de sum(args) / len(args)\n"
   ]
  },
  {
   "cell_type": "code",
   "execution_count": 4,
   "metadata": {},
   "outputs": [
    {
     "name": "stdout",
     "output_type": "stream",
     "text": [
      "(1, 2, 3)\n",
      "<class 'tuple'> 3\n",
      "1\n",
      "2\n",
      "3\n",
      "El promedio es 0.2\n",
      "El promedio de tupla con funcion sum 5.5\n"
     ]
    }
   ],
   "source": [
    "def f(*args):  # el asterisco en una función es que el parametro es una tupla cuando viene ** dos astericos el parametro es un dicionario\n",
    "    print(args) \n",
    "    print(type(args), len(args)) \n",
    "    for x in args: \n",
    "        print(x)\n",
    "f(1, 2, 3) \n",
    "#*************************************\n",
    "def avg(*args):  # es una tupla que recorreremos para totalizar y dividir por la cantidad de elementos y asi sacar el promedio\n",
    "    total = 0 \n",
    "    for i in args: \n",
    "        total += i \n",
    "        return total / len(args)\n",
    "promedio = avg(1, 2, 3, 4, 5) # devuelve 3.0\n",
    "print(f'El promedio es {promedio}')\n",
    " #********\n",
    "def PromedioTupla(*args):                 # una forma mas fácil de hacer la misma operación de sumar tuplas \n",
    "    return sum(args) / len(args)\n",
    "promedio = PromedioTupla(1, 2, 3, 4, 5 , 6, 7, 8, 9, 10) # devuelve 3.0\n",
    "print(f'El promedio de tupla con funcion sum es {promedio}')\n"
   ]
  },
  {
   "cell_type": "markdown",
   "metadata": {},
   "source": [
    "## funciones con **kwargs\n",
    "Una función con doble asterisco al inicio es que es un diccionario no se sabe con cuantas claves y valores entonces es de longitud o largo variable.\n",
    "**kwargs es como decir Key y Worth args  === osea Llave y Valor como en un Diccionario {} es abierto porque no sabemos cuantas llaves y valores vamos a tener se maneja igual a como manejamos el diccionario de Python, siendo un diccionario podemos trabajar con while o for para recorrerlo o usar funciones de diccionario\n"
   ]
  },
  {
   "cell_type": "code",
   "execution_count": 6,
   "metadata": {},
   "outputs": [
    {
     "name": "stdout",
     "output_type": "stream",
     "text": [
      "{'Estudiante': 'JOSE FRANCISCO', 'CEDULA': '401580001', 'Dirección': 'Heredia'}\n",
      "<class 'dict'>\n",
      "Estudiante -> JOSE FRANCISCO\n",
      "CEDULA -> 401580001\n",
      "Dirección -> Heredia\n"
     ]
    }
   ],
   "source": [
    "def funcionDiccionario(**kwargs): \n",
    "    print(kwargs) \n",
    "    print(type(kwargs)) \n",
    "    for key, val in kwargs.items(): \n",
    "        print(key, '->', val)\n",
    "funcionDiccionario(Estudiante='JOSE FRANCISCO', CEDULA='401580001', Dirección='Heredia')"
   ]
  },
  {
   "cell_type": "markdown",
   "metadata": {},
   "source": [
    "Los tres (parámetros posicionales estándar, *args y **kwargs) se pueden utilizar en una definición de función de Python. Si es así, entonces deben especificarse en ese orden: "
   ]
  },
  {
   "cell_type": "code",
   "execution_count": 7,
   "metadata": {},
   "outputs": [
    {
     "name": "stdout",
     "output_type": "stream",
     "text": [
      "a = 1\n",
      "b = 2\n",
      "args = ('foo', 'bar', 'baz', 'qux')\n",
      "kwargs = {'x': 100, 'y': 200, 'z': 300}\n"
     ]
    }
   ],
   "source": [
    "def f(a, b, *args, **kwargs):\n",
    "    print(F'a = {a}')\n",
    "    print(F'b = {b}')\n",
    "    print(F'args = {args}')\n",
    "    print(F'kwargs = {kwargs}')\n",
    "f(1, 2, 'foo', 'bar', 'baz', 'qux', x=100, y=200, z=300) "
   ]
  },
  {
   "cell_type": "markdown",
   "metadata": {},
   "source": [
    "# Funciones anónimas (lambda). \n",
    "Las funciones lambda o anónimas son un tipo de funciones en Python que típicamente se definen en una línea y cuyo código a ejecutar suele ser pequeño.\n",
    "La primera diferencia es que una función lambda no tiene un nombre, y por lo tanto salvo que sea asignada a una variable, es totalmente inútil. Para ello debemos.Una vez tenemos la función, es posible llamarla como si de una función normal se tratase.\n"
   ]
  },
  {
   "cell_type": "code",
   "execution_count": 28,
   "metadata": {},
   "outputs": [
    {
     "name": "stdout",
     "output_type": "stream",
     "text": [
      "6\n"
     ]
    }
   ],
   "source": [
    "suma = lambda a, b: a + b\n",
    "print(suma(2,4))"
   ]
  },
  {
   "cell_type": "markdown",
   "metadata": {},
   "source": [
    "# Funciones recursivas. \n",
    " Es aquella que está definida en función de sí misma, por lo que se llama repetidamente a sí misma hasta llegar a un punto de salida.\n",
    " Por un lado tenemos la sección en la que la función se llama a sí misma.\n",
    "Por otro lado, tiene que existir siempre una condición en la que la función retorna sin volver a llamarse. Es muy importante porque de lo contrario, la función se llamaría de manera indefinida."
   ]
  },
  {
   "cell_type": "code",
   "execution_count": 29,
   "metadata": {},
   "outputs": [
    {
     "data": {
      "text/plain": [
       "120"
      ]
     },
     "execution_count": 29,
     "metadata": {},
     "output_type": "execute_result"
    }
   ],
   "source": [
    "def factorial_normal(n):\n",
    "    r = 1\n",
    "    i = 2\n",
    "    while i <= n:\n",
    "        r *= i\n",
    "        i += 1\n",
    "    return r\n",
    "\n",
    "factorial_normal(5) # 120"
   ]
  },
  {
   "cell_type": "markdown",
   "metadata": {},
   "source": [
    "# Generadores (yield) siguiente elemento. \n",
    "Hay veces que es preferible que una función vaya devolviendo los resultados a medida que los obtiene en vez de devolverlos todos juntos al final de su ejecución. Ése es el cometido de yield, el de retornar un valor de una secuencia de valores. Además, devuelve el \"control\" al código llamante, quien decidirá si seguir o no con la ejecución e, incluso, inyectar nuevos datos para modificar el proceso. Es el modo que tiene python de crear corrutinas, cuyo potencial se ha visto ampliado muchísimo con las últimas versiones de python y los procesos asíncronos. Es bastante complejo.\n",
    "\n",
    "Pero volviendo a la pregunta, se puede establecer una analogía entre funciones y objetos. La definición de una función sería como tener una clase con un sólo método, y la ejecución de la función sería como crear instancias de la clase para crear un entorno de ejecución que llamamos \"clausura\" y que desaparece al finalizar la función. Al usar yield, interrumpimos la ejecución en ese punto, conservando la instancia para su uso posterior, así hasta que hayamos terminado.\n",
    "\n",
    "Como que lo va a haciendo por partes conforme se vaya ocupando.\n"
   ]
  },
  {
   "cell_type": "code",
   "execution_count": null,
   "metadata": {},
   "outputs": [],
   "source": [
    "def contador(max):\n",
    "    print(\"=Dentro de contador - empezando\")\n",
    "    n=0\n",
    "    while n < max:\n",
    "        print(f\"=Dentro de contador - viene yield con n={n}\")\n",
    "        yield n\n",
    "        print(\"=Dentro de contador - retomando después de yield\")\n",
    "        n=n+1\n",
    "    print(\"=Dentro de contador - terminando\")\n",
    "\n",
    "print(\"Instanciando contador\") \n",
    "mycont = contador(3)\n",
    "print(\"Contador instanciado\") \n",
    "\n",
    "for i in mycont:\n",
    "    print(f\"valor leido del iterador={i}\") \n",
    "print(\"Listo\") "
   ]
  },
  {
   "cell_type": "markdown",
   "metadata": {},
   "source": [
    "# Closures\n",
    " función la cual crea a su vez a otra de forma dinámica. Esta nueva función tiene memoria, siendo capaz de recordar, y utilizar, las variables lo locales y no locales definidas previamente.\n",
    " Funciones dentro de otra funcion anidadas"
   ]
  },
  {
   "cell_type": "code",
   "execution_count": 31,
   "metadata": {},
   "outputs": [
    {
     "name": "stdout",
     "output_type": "stream",
     "text": [
      "Hola Cody\n"
     ]
    }
   ],
   "source": [
    "def saludar_usuario(username):\n",
    "    mensaje = 'Hola ' + username\n",
    "\n",
    "    def saludar():\n",
    "        print(mensaje)\n",
    "\n",
    "    return saludar\n",
    "funcion = saludar_usuario('Cody')    \n",
    "funcion()"
   ]
  },
  {
   "cell_type": "markdown",
   "metadata": {},
   "source": [
    "#  decoradores. \n",
    "Un decorador en Python es una función que recibe otra función como parámetro, le añade cosas y retorna una función diferente.\n",
    "\n",
    "Nos permiten envolver una función dentro de otra y modificar el comportamiento de esta última sin modificarla permanentemente.\n",
    "permite al usuario añadir nuevas funciones a un objeto existente sin modificar su estructura. \n",
    "\n",
    "Los decoradores suelen aplicarse a las funciones, y desempeñan un papel crucial a la hora de mejorar o modificar el comportamiento de las funciones\n",
    "\n",
    "Decorador no es más que una función la cual toma como input una función y asu vez retorna otra función.\n",
    "\n",
    "Que queremos modificar el comportamiento de una función ya existente, pero sin tener que modificar su código. Esto es muy útil, principalmente, cuando queremos extender nuevas funcionalidades a dicha función. De allí el nombre decorar.\n",
    "\n",
    "Como un pastel, donde, en ocasiones, la base del pastel (el pan) no es suficiente para una fiesta y debemos añadir elementos extras, quizás glaseado, velas, aderezos etc ... de esta forma el pastel se verá mucho mejor y lo más importante sabrá mucho mejor.\n",
    "\n",
    "Para decorar una función basta con colocar, en su parte superior de dicha función, el decorador con el prefijo @."
   ]
  },
  {
   "cell_type": "code",
   "execution_count": 22,
   "metadata": {},
   "outputs": [
    {
     "name": "stdout",
     "output_type": "stream",
     "text": [
      "Antes de la ejecución de la función a decorar\n",
      "Hola mundo!!\n",
      "Después de la ejecución de la función a decorar\n",
      "None\n"
     ]
    }
   ],
   "source": [
    "def funcion_a(funcion_b):\n",
    "    def funcion_c():\n",
    "        print('Antes de la ejecución de la función a decorar')\n",
    "        funcion_b()\n",
    "        print('Después de la ejecución de la función a decorar')\n",
    "\n",
    "    return funcion_c\n",
    "@funcion_a\n",
    "def saludar():\n",
    "    print('Hola mundo!!')\n",
    "\n",
    "print(saludar())"
   ]
  },
  {
   "cell_type": "markdown",
   "metadata": {},
   "source": [
    "Ahora, ¿Qué pasa si nuestra función a decorar debe recibir argumentos y a su vez debe retornar algún valor? en estos casos haremos uso de los parámetros args y kwargs."
   ]
  },
  {
   "cell_type": "code",
   "execution_count": 20,
   "metadata": {},
   "outputs": [
    {
     "name": "stdout",
     "output_type": "stream",
     "text": [
      "Antes de la ejecución de la función a decorar\n",
      "Después de la ejecución de la función a decorar\n",
      "El total es de 50\n"
     ]
    }
   ],
   "source": [
    "def funcion_a(funcion_b):\n",
    "    def funcion_c(*args, **kwargs):\n",
    "        print('Antes de la ejecución de la función a decorar')\n",
    "        result = funcion_b(*args, **kwargs)\n",
    "        print(f'Después de la ejecución de la función a decorar')    \n",
    "\n",
    "        return result\n",
    "\n",
    "    return funcion_c\n",
    "@funcion_a\n",
    "def suma(a, b):\n",
    "    return a + b\n",
    "\n",
    "Total = suma(20,30)\n",
    "print(f'El total es de {Total}')\n",
    "#print(suma(15, 15))"
   ]
  },
  {
   "cell_type": "markdown",
   "metadata": {},
   "source": [
    "La función se ejecutará solo si dicha variable global es verdadera, y se dará un error de lo contrario.\n",
    "Primero entra al decorador y luego entra a la base"
   ]
  },
  {
   "cell_type": "code",
   "execution_count": 25,
   "metadata": {},
   "outputs": [
    {
     "name": "stdout",
     "output_type": "stream",
     "text": [
      "Hola Señor AUTENTICADO puede entrar al baile\n"
     ]
    }
   ],
   "source": [
    "autenticado = True #True, False prueba con False y True una dice hola y la otra El usuario no se ha autenticado\n",
    "\n",
    "def requiere_autenticación(f):\n",
    "    def funcion_decorada(*args, **kwargs):\n",
    "        if not autenticado:\n",
    "            print(\"Error. El usuario no se ha autenticado\")\n",
    "        else:\n",
    "            return f(*args, **kwargs)\n",
    "    return funcion_decorada\n",
    "\n",
    "@requiere_autenticación\n",
    "def di_hola():\n",
    "    print(\"Hola Señor AUTENTICADO puede entrar al baile\")\n",
    "    \n",
    "di_hola()"
   ]
  },
  {
   "cell_type": "markdown",
   "metadata": {},
   "source": [
    "# 3.3 Aplicación de Funciones en Problemas Reales \n",
    "Deben investigar y desarrollar ejemplos de casos de uso reales en los que las funciones sean esenciales: "
   ]
  },
  {
   "cell_type": "markdown",
   "metadata": {},
   "source": [
    "Un ejemplo en la vida real seria una funcion que calcule el impuestoa al valor agregado en Costa Rica"
   ]
  },
  {
   "cell_type": "code",
   "execution_count": 11,
   "metadata": {},
   "outputs": [
    {
     "name": "stdout",
     "output_type": "stream",
     "text": [
      " El valor de la compra sin iva es de : 10000.0\n",
      " El valor del iva es de : 1300.0\n",
      " El monto de la compra total  es de : 11300.0\n"
     ]
    }
   ],
   "source": [
    "def calcularIva(PrecioCompra,PorcentajeImpuesto = 0.13):\n",
    "    IVA = PrecioCompra * PorcentajeImpuesto\n",
    "    return IVA\n",
    "\n",
    "PrecioDelaCompra = float(input('Digite el valor de la compra '))\n",
    "Iva = calcularIva(PrecioDelaCompra,0.13)\n",
    "Total = PrecioDelaCompra + Iva\n",
    "print(f\" El valor de la compra sin iva es de : {PrecioDelaCompra}\")\n",
    "print(f\" El valor del iva es de : {Iva}\")\n",
    "print(f\" El monto de la compra total  es de : {Total}\")"
   ]
  },
  {
   "cell_type": "markdown",
   "metadata": {},
   "source": [
    "# Aplicación en estructuras de datos (listas, diccionarios). "
   ]
  },
  {
   "cell_type": "code",
   "execution_count": null,
   "metadata": {},
   "outputs": [],
   "source": [
    "# Crear una lista\n",
    "frutas = [\"manzana\", \"banana\", \"cereza\"]\n",
    "\n",
    "# Agregar un elemento a la lista\n",
    "frutas.append(\"naranja\")\n",
    "\n",
    "# Acceder a un elemento por su índice\n",
    "print(frutas[1])  # Output: banana\n",
    "\n",
    "# Eliminar un elemento de la lista\n",
    "frutas.remove(\"cereza\")\n",
    "\n",
    "# Recorrer la lista\n",
    "for fruta in frutas:\n",
    "    print(fruta)"
   ]
  },
  {
   "cell_type": "markdown",
   "metadata": {},
   "source": [
    "Diccionarios\n",
    "Los diccionarios en Python son colecciones desordenadas de pares clave-valor. Son muy útiles para almacenar datos que se pueden asociar con una clave única. Aquí tienes un ejemplo de cómo trabajar con diccionarios:"
   ]
  },
  {
   "cell_type": "code",
   "execution_count": null,
   "metadata": {},
   "outputs": [],
   "source": [
    "# Crear un diccionario\n",
    "estudiantes = {\n",
    "    \"Juan\": 25,\n",
    "    \"Ana\": 22,\n",
    "    \"Luis\": 23\n",
    "}\n",
    "\n",
    "# Agregar un par clave-valor\n",
    "estudiantes[\"Maria\"] = 24\n",
    "\n",
    "# Acceder a un valor por su clave\n",
    "print(estudiantes[\"Ana\"])  # Output: 22\n",
    "\n",
    "# Eliminar un par clave-valor\n",
    "del estudiantes[\"Luis\"]\n",
    "\n",
    "# Recorrer el diccionario\n",
    "for nombre, edad in estudiantes.items():\n",
    "    print(f\"{nombre} tiene {edad} años\")"
   ]
  },
  {
   "cell_type": "markdown",
   "metadata": {},
   "source": [
    "Combinando Listas y Diccionarios\n",
    "A menudo, es útil combinar listas y diccionarios para manejar datos más complejos. Aquí tienes un ejemplo de cómo hacerlo:"
   ]
  },
  {
   "cell_type": "code",
   "execution_count": null,
   "metadata": {},
   "outputs": [],
   "source": [
    "# Lista de diccionarios\n",
    "personas = [\n",
    "    {\"nombre\": \"Juan\", \"edad\": 25, \"ciudad\": \"San José\"},\n",
    "    {\"nombre\": \"Ana\", \"edad\": 22, \"ciudad\": \"Heredia\"},\n",
    "    {\"nombre\": \"Luis\", \"edad\": 23, \"ciudad\": \"Alajuela\"}\n",
    "]\n",
    "\n",
    "# Agregar un nuevo diccionario a la lista\n",
    "personas.append({\"nombre\": \"Maria\", \"edad\": 24, \"ciudad\": \"Cartago\"})\n",
    "\n",
    "# Recorrer la lista de diccionarios\n",
    "for persona in personas:\n",
    "    print(f\"{persona['nombre']} tiene {persona['edad']} años y vive en {persona['ciudad']}\")"
   ]
  },
  {
   "cell_type": "markdown",
   "metadata": {},
   "source": [
    "# Uso de funciones en procesamiento de datos. \n",
    "El uso de funciones en Python es fundamental para el procesamiento de datos, ya que permite organizar el código, hacerlo más legible y reutilizable\n",
    "Supongamos que tienes un conjunto de datos de ventas y deseas calcular el total de ventas, el promedio y filtrar las ventas por encima de un cierto umbral\n",
    "Explicación:\n",
    "calcular_total(ventas): Esta función toma una lista de ventas y devuelve la suma total.\n",
    "calcular_promedio(ventas): Esta función calcula el promedio de las ventas.\n",
    "filtrar_ventas(ventas, umbral): Esta función filtra las ventas que son mayores que un valor umbral dado"
   ]
  },
  {
   "cell_type": "code",
   "execution_count": null,
   "metadata": {},
   "outputs": [],
   "source": [
    "\n",
    "# Datos de ejemplo\n",
    "ventas = [150, 200, 300, 400, 250, 100, 350]\n",
    "\n",
    "# Función para calcular el total de ventas\n",
    "def calcular_total(ventas):\n",
    "    return sum(ventas)\n",
    "\n",
    "# Función para calcular el promedio de ventas\n",
    "def calcular_promedio(ventas):\n",
    "    return sum(ventas) / len(ventas)\n",
    "\n",
    "# Función para filtrar ventas por encima de un umbral\n",
    "def filtrar_ventas(ventas, umbral):\n",
    "    return [venta for venta in ventas if venta > umbral]\n",
    "\n",
    "# Uso de las funciones\n",
    "total_ventas = calcular_total(ventas)\n",
    "promedio_ventas = calcular_promedio(ventas)\n",
    "ventas_filtradas = filtrar_ventas(ventas, 250)\n",
    "\n",
    "print(f\"Total de ventas: {total_ventas}\")\n",
    "print(f\"Promedio de ventas: {promedio_ventas}\")\n",
    "print(f\"Ventas por encima de 250: {ventas_filtradas}\")\n"
   ]
  },
  {
   "cell_type": "markdown",
   "metadata": {},
   "source": [
    "# Optimización del rendimiento con funciones. \n",
    "El rendimiento de las funciones en Python puede hacer que tu código sea más eficiente y rápido. Aquí tienes algunas estrategias y técnicas que puedes aplicar\n",
    "Las funciones incorporadas de Python están altamente optimizadas. Siempre que sea posible, utiliza funciones como sum(), min(), max(), etc., en lugar de escribir tus propias versiones\n"
   ]
  },
  {
   "cell_type": "code",
   "execution_count": 30,
   "metadata": {},
   "outputs": [
    {
     "name": "stdout",
     "output_type": "stream",
     "text": [
      "6\n"
     ]
    }
   ],
   "source": [
    "total = 0\n",
    "lista = [1, 2, 3]\n",
    "for num in lista:\n",
    "    total += num\n",
    "\n",
    "# Usa esto:\n",
    "total = sum(lista)\n",
    "print(total)"
   ]
  },
  {
   "cell_type": "code",
   "execution_count": null,
   "metadata": {},
   "outputs": [],
   "source": [
    "# En lugar de esto:\n",
    "for i in range(len(lista)):\n",
    "    for j in range(len(lista)):\n",
    "        if lista[i] == lista[j]:\n",
    "            a = 0\n",
    "            # hacer algo\n",
    "\n",
    "# Usa esto:\n",
    "elementos_vistos = set()\n",
    "for elemento in lista:\n",
    "    if elemento in elementos_vistos:\n",
    "        a = 0 # hacer algo\n",
    "    else:\n",
    "        elementos_vistos.add(elemento)"
   ]
  },
  {
   "cell_type": "markdown",
   "metadata": {},
   "source": [
    "# Comparación entre funciones definidas por el usuario y funciones integradas (len(), sum(), etc.). \n",
    "\n",
    "Si bien Python ya proporciona muchas funciones integradas como print() y len(), también puedes definir tus propias funciones para usar en tus proyectos.\n",
    "\n",
    "Una de las grandes ventajas de usar funciones en tu código es que reduce el número total de líneas de código en tu proyecto. Es como personalizar funciones y ayudarnos con las funciones ya creadas."
   ]
  },
  {
   "cell_type": "markdown",
   "metadata": {},
   "source": [
    "# Sección 3: Conclusiones \n",
    "Ofreciendo una estructura clara, modularidad y eficiencia. Al dominar el manejo de funciones, los programadores pueden construir aplicaciones robustas, legibles y mantenibles. La práctica constante y la exploración de recursos de aprendizaje son claves para desarrollar habilidades sólidas en el manejo de funciones en Python."
   ]
  },
  {
   "cell_type": "markdown",
   "metadata": {},
   "source": [
    "# Un resumen de hallazgos sobre la teoría y la práctica. \n",
    "Me doy cuenta que en los libros tutoriales les falta abarcar temas y es ahi que tiene que buscar en mas lados para exclarecer dudas, muchas veces dan por sentado que se entendio un tema sin haberlo explicado. "
   ]
  },
  {
   "cell_type": "markdown",
   "metadata": {},
   "source": [
    "# Un análisis personal sobre qué aprendieron del uso de funciones en Python. \n",
    "Es interesante es sencillo pero a la vez poco a poco se va complicando es cuestion de practicar, investigar, y dedicar muchas horas al aprendizaje hasta dominarlo por completo. Pienso que hay palabras reservadas que podrian ser mas intuitivas para hacer mas sencillo el aprendizaje."
   ]
  },
  {
   "cell_type": "markdown",
   "metadata": {},
   "source": [
    "# Una sección de referencias con enlaces o libros consultados. "
   ]
  },
  {
   "cell_type": "markdown",
   "metadata": {},
   "source": [
    "Libros de Python⁚ Python crash course third edition erick mattes.\n",
    "\n",
    "Tutoriales en línea⁚ \n",
    "https://www.w3schools.com/python/python_functions.asp,\n",
    " https://www.programiz.com/python-programming/function,\n",
    " https://ellibrodepython.com/interes-compuesto"
   ]
  }
 ],
 "metadata": {
  "kernelspec": {
   "display_name": "Python 3",
   "language": "python",
   "name": "python3"
  },
  "language_info": {
   "codemirror_mode": {
    "name": "ipython",
    "version": 3
   },
   "file_extension": ".py",
   "mimetype": "text/x-python",
   "name": "python",
   "nbconvert_exporter": "python",
   "pygments_lexer": "ipython3",
   "version": "3.13.1"
  }
 },
 "nbformat": 4,
 "nbformat_minor": 2
}
