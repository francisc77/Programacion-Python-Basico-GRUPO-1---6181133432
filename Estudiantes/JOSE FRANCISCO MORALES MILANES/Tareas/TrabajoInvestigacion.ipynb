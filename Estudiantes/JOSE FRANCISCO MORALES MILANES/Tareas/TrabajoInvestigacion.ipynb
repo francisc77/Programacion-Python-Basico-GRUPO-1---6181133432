{
 "cells": [
  {
   "cell_type": "markdown",
   "metadata": {},
   "source": [
    "Prof. Andrés Mena Abarca \n",
    "# Exploración Teórica y Aplicación Práctica de las Funciones en Python  \n",
    "Planteamiento del Problema \n",
    "Las funciones en Python son una herramienta esencial en la programación estructurada y funcional. Su correcto uso permite mejorar la reutilización del código, modularización y escalabilidad de los programas. Sin embargo, muchos estudiantes desconocen las mejores prácticas en su implementación y el impacto en la eficiencia del código. \n",
    "✅ Pregunta de investigación: \n",
    " \n",
    "\n",
    "\n"
   ]
  },
  {
   "cell_type": "markdown",
   "metadata": {},
   "source": [
    "## ¿Cómo influyen las funciones en Python en la modularización y eficiencia de los programas en desarrollo de software? \n",
    "Ventajas de la modularidad en Python\n",
    "\n",
    "Organización del código: Al modularizar el código en Python, se divide en diferentes módulos, lo que facilita la organización. Cada módulo puede contener un conjunto de funciones relacionadas o una parte específica de la lógica del programa. Esto hace que sea más fácil para los desarrolladores entender y trabajar en diferentes partes del código.\n",
    "\n",
    "Reutilización de código: Modularizar el código en Python también permite la reutilización de código. Cuando se crea una función o un conjunto de funciones en un módulo, se pueden importar y utilizar en otros lugares de nuestro código o incluso en otros proyectos. Esto ahorra tiempo y esfuerzo, ya que no es necesario volver a escribir el mismo código una y otra vez.\n",
    "\n",
    "Colaboración efectiva: En proyectos de desarrollo de software en equipo, modularizar el código en Python es fundamental. Cada miembro del equipo puede trabajar en módulos específicos sin afectar al trabajo de los demás. Esto facilita la colaboración y acelera el proceso de desarrollo.\n",
    "\n",
    "# matematicas.py \n",
    "def suma(a, b): \n",
    "       return a + b \n",
    "\n",
    "def resta(a, b): \n",
    "       return a - b\n",
    "\n",
    "import matematicas \n",
    "\n",
    "resultado = matematicas.suma(5, 3) \n",
    "print(resultado) # Salida: 8"
   ]
  },
  {
   "cell_type": "markdown",
   "metadata": {},
   "source": [
    "Desarrollo del Notebook \n",
    "Crear un notebook en Jupyter siguiendo la siguiente estructura. Cada sección debe contener una combinación de texto explicativo (Markdown) y código en Python (Code Cells). "
   ]
  },
  {
   "cell_type": "markdown",
   "metadata": {},
   "source": [
    "## Incluir una breve introducción sobre el propósito del notebook y código. \n",
    "Jupyter Notebook es una herramienta web basada en celdas que permite programar código en Python1. Es un entorno de desarrollo interactivo con live code, que muestra la ejecución del código a través del navegador web2. Jupyter Notebook es una aplicación web de código abierto que permite a los usuarios crear y compartir documentos que contienen código en vivo, ecuaciones, visualizaciones y texto narrativo"
   ]
  },
  {
   "cell_type": "markdown",
   "metadata": {},
   "source": [
    "# Explicar la importancia del uso de funciones en Python. \n",
    "Las funciones en Python permiten encapsular código reutilizable, mejorando la modularización y eficiencia en el desarrollo de software. "
   ]
  },
  {
   "cell_type": "markdown",
   "metadata": {},
   "source": [
    "## 3.1 Definición y Propósito de las Funciones en Python "
   ]
  },
  {
   "cell_type": "markdown",
   "metadata": {},
   "source": [
    "## ¿Qué son las funciones? \n",
    "Las funciones en Python permiten encapsular código reutilizable, mejorando la modularización y eficiencia en el desarrollo de software. \n",
    "En términos simples, una función en Python es un bloque de código reutilizable que realiza una tarea específica. Imagine una función como una caja negra⁚ usted introduce ciertos datos (argumentos) y la función procesa estos datos para producir un resultado (valor de retorno). Las funciones permiten dividir un programa complejo en partes más pequeñas y manejables, promoviendo la modularidad y la legibilidad.\n",
    "`def` seguida del nombre de la función, paréntesis que pueden contener parámetros, y dos puntos (`⁚`) para indicar el inicio del bloque de código de la función; La estructura básica de una función se muestra a continuación⁚\n",
    "\n",
    "python def nombre_de_la_funcion(parámetro1, parámetro2, …)⁚ # Código de la función return valor_de_retorno"
   ]
  },
  {
   "cell_type": "code",
   "execution_count": 1,
   "metadata": {},
   "outputs": [
    {
     "name": "stdout",
     "output_type": "stream",
     "text": [
      "¡Hola, bienvenido a Python!\n"
     ]
    }
   ],
   "source": [
    "def saludar(): \n",
    "    print(\"¡Hola, bienvenido a Python!\") \n",
    " \n",
    "saludar() "
   ]
  },
  {
   "cell_type": "markdown",
   "metadata": {},
   "source": [
    "## Beneficios de modularizar código con funciones.\n",
    "Modularidad⁚ Las funciones dividen el código en unidades independientes, lo que facilita la organización y el mantenimiento del código.\n",
    "Reutilización de código⁚ Las funciones se pueden llamar desde diferentes partes del programa, evitando la duplicación de código.\n",
    "Eficiencia⁚ La reutilización de código reduce el tamaño del programa y mejora la eficiencia.\n",
    "Legibilidad⁚ Las funciones hacen que el código sea más fácil de leer y comprender.\n",
    "Depuración⁚ Las funciones facilitan la identificación y corrección de errores, ya que se puede probar cada función de forma independiente.\n",
    "Pruebas⁚ Las funciones se pueden probar de forma independiente, lo que facilita la verificación de su correcto funcionamiento.\n",
    "Documentación⁚ Las funciones se pueden documentar de forma clara y concisa, lo que facilita su comprensión y uso."
   ]
  },
  {
   "cell_type": "markdown",
   "metadata": {},
   "source": [
    "## Importancia de la reutilización del código. \n",
    "Se pueden llamar desde diferentes partes del programa, evitando la duplicación de código."
   ]
  },
  {
   "cell_type": "markdown",
   "metadata": {},
   "source": [
    "# 3.2 Tipos de Funciones en Python \n",
    "## Incluir una descripción y al menos un ejemplo de código para cada tipo de función: "
   ]
  },
  {
   "cell_type": "markdown",
   "metadata": {},
   "source": [
    "## Funciones con y sin retorno. \n",
    "Las funciones sin retorno son aquellas que no devuelven ningún valor explícito. Estas funciones realizan una tarea específica y luego terminan su ejecución."
   ]
  },
  {
   "cell_type": "code",
   "execution_count": null,
   "metadata": {},
   "outputs": [],
   "source": [
    "#ejemplos sin retorno\n",
    "def saludar(nombre):\n",
    "    print(f\"¡Hola, {nombre}!\")\n",
    "\n",
    "# Llamada a la función\n",
    "saludar(\"Ana\") #función sin retorno\n"
   ]
  },
  {
   "cell_type": "markdown",
   "metadata": {},
   "source": [
    "En Python, se utiliza la instrucción return para especificar qué valor debe ser devuelto por la función. Aquí tienes un ejemplo sencillo de una función que calcula la suma de dos números:\n",
    "En este caso, la función suma toma dos números como argumentos, los suma y luego devuelve el resultado utilizando la instrucción return."
   ]
  },
  {
   "cell_type": "code",
   "execution_count": null,
   "metadata": {},
   "outputs": [],
   "source": [
    "def suma_varios(*args): \n",
    "       total = 0 \n",
    "       for num in args: \n",
    "             total += num \n",
    "       return total"
   ]
  },
  {
   "cell_type": "code",
   "execution_count": null,
   "metadata": {},
   "outputs": [],
   "source": [
    "def calcular_saldo(cuenta, transacciones): \n",
    "       saldo = 0 \n",
    "       for transaccion in transacciones: \n",
    "             saldo += transaccion \n",
    "       return saldo"
   ]
  },
  {
   "cell_type": "markdown",
   "metadata": {},
   "source": [
    "## Funciones con parámetros y valores predeterminados. \n",
    "Esta es y una función con parametros y valor predeterminiado al poner el Igual si no lo da el usuario lo toma por default"
   ]
  },
  {
   "cell_type": "code",
   "execution_count": 9,
   "metadata": {},
   "outputs": [
    {
     "name": "stdout",
     "output_type": "stream",
     "text": [
      "El resultado de la operacion es -1\n",
      "El resultado de la operacion es 11\n"
     ]
    }
   ],
   "source": [
    "def oper(x, y, op='+'): # esta es y una función con parametros y valor predeterminiado al poner el Igual si no lo da el usuario lo toma por default\n",
    "    if op == '+':\n",
    "        return x + y\n",
    "    elif op == '-':\n",
    "        return x - y\n",
    "    elif op == '/':\n",
    "        return x / y\n",
    "    else:\n",
    "        return None\n",
    "resultado = oper(5, 6, '-') # dando operador\n",
    "print(f'El resultado de la operacion es {resultado}') \n",
    "resultado = oper(5, 6) #sin dar operador hace suma\n",
    "print(f'El resultado de la operacion es {resultado}')"
   ]
  },
  {
   "cell_type": "markdown",
   "metadata": {},
   "source": [
    "### Funciones con Uso de *args y **kwargs. \n",
    "##### Empaquetado de tuplas de argumento *arg Cuando un nombre de parámetro en una definición de función de Python va precedido de un asterisco (*), indica el empaquetado de tuplas de argumentos. Los argumentos correspondientes de la llamada de función se empaquetan en una tupla a la que la función puede hacer referencia mediante el nombre de parámetro especificado. Este es un ejemplo: *args vuelve una tupla de longitud o largo variable  por ejemplo de avg promedio no sabemos cuantos son los números que vamos a promediar por eso lo podemos poner en una tupla con *args y ahí los podemos sumar con for o con una función de sum(args) / len(args)\n"
   ]
  },
  {
   "cell_type": "code",
   "execution_count": 4,
   "metadata": {},
   "outputs": [
    {
     "name": "stdout",
     "output_type": "stream",
     "text": [
      "(1, 2, 3)\n",
      "<class 'tuple'> 3\n",
      "1\n",
      "2\n",
      "3\n",
      "El promedio es 0.2\n",
      "El promedio de tupla con funcion sum 5.5\n"
     ]
    }
   ],
   "source": [
    "def f(*args):  # el asterisco en una función es que el parametro es una tupla cuando viene ** dos astericos el parametro es un dicionario\n",
    "    print(args) \n",
    "    print(type(args), len(args)) \n",
    "    for x in args: \n",
    "        print(x)\n",
    "f(1, 2, 3) \n",
    "#*************************************\n",
    "def avg(*args):  # es una tupla que recorreremos para totalizar y dividir por la cantidad de elementos y asi sacar el promedio\n",
    "    total = 0 \n",
    "    for i in args: \n",
    "        total += i \n",
    "        return total / len(args)\n",
    "promedio = avg(1, 2, 3, 4, 5) # devuelve 3.0\n",
    "print(f'El promedio es {promedio}')\n",
    " #********\n",
    "def PromedioTupla(*args):                 # una forma mas fácil de hacer la misma operación de sumar tuplas \n",
    "    return sum(args) / len(args)\n",
    "promedio = PromedioTupla(1, 2, 3, 4, 5 , 6, 7, 8, 9, 10) # devuelve 3.0\n",
    "print(f'El promedio de tupla con funcion sum es {promedio}')\n"
   ]
  },
  {
   "cell_type": "markdown",
   "metadata": {},
   "source": [
    "## funciones con **kwargs\n",
    "Una función con doble asterisco al inicio es que es un diccionario no se sabe con cuantas claves y valores entonces es de longitud o largo variable.\n",
    "**kwargs es como decir Key y Worth args  === osea Llave y Valor como en un Diccionario {} es abierto porque no sabemos cuantas llaves y valores vamos a tener se maneja igual a como manejamos el diccionario de Python, siendo un diccionario podemos trabajar con while o for para recorrerlo o usar funciones de diccionario\n"
   ]
  },
  {
   "cell_type": "code",
   "execution_count": 6,
   "metadata": {},
   "outputs": [
    {
     "name": "stdout",
     "output_type": "stream",
     "text": [
      "{'Estudiante': 'JOSE FRANCISCO', 'CEDULA': '401580001', 'Dirección': 'Heredia'}\n",
      "<class 'dict'>\n",
      "Estudiante -> JOSE FRANCISCO\n",
      "CEDULA -> 401580001\n",
      "Dirección -> Heredia\n"
     ]
    }
   ],
   "source": [
    "def funcionDiccionario(**kwargs): \n",
    "    print(kwargs) \n",
    "    print(type(kwargs)) \n",
    "    for key, val in kwargs.items(): \n",
    "        print(key, '->', val)\n",
    "funcionDiccionario(Estudiante='JOSE FRANCISCO', CEDULA='401580001', Dirección='Heredia')"
   ]
  },
  {
   "cell_type": "markdown",
   "metadata": {},
   "source": [
    "Los tres (parámetros posicionales estándar, *args y **kwargs) se pueden utilizar en una definición de función de Python. Si es así, entonces deben especificarse en ese orden: "
   ]
  },
  {
   "cell_type": "code",
   "execution_count": 7,
   "metadata": {},
   "outputs": [
    {
     "name": "stdout",
     "output_type": "stream",
     "text": [
      "a = 1\n",
      "b = 2\n",
      "args = ('foo', 'bar', 'baz', 'qux')\n",
      "kwargs = {'x': 100, 'y': 200, 'z': 300}\n"
     ]
    }
   ],
   "source": [
    "def f(a, b, *args, **kwargs):\n",
    "    print(F'a = {a}')\n",
    "    print(F'b = {b}')\n",
    "    print(F'args = {args}')\n",
    "    print(F'kwargs = {kwargs}')\n",
    "f(1, 2, 'foo', 'bar', 'baz', 'qux', x=100, y=200, z=300) "
   ]
  },
  {
   "cell_type": "markdown",
   "metadata": {},
   "source": [
    "# Funciones anónimas (lambda). "
   ]
  },
  {
   "cell_type": "markdown",
   "metadata": {},
   "source": [
    "# Funciones recursivas. "
   ]
  },
  {
   "cell_type": "markdown",
   "metadata": {},
   "source": [
    "# Generadores (yield) siguiente elemento. "
   ]
  },
  {
   "cell_type": "markdown",
   "metadata": {},
   "source": [
    "# Closures y decoradores. "
   ]
  },
  {
   "cell_type": "markdown",
   "metadata": {},
   "source": [
    "# 3.3 Aplicación de Funciones en Problemas Reales \n",
    "Deben investigar y desarrollar ejemplos de casos de uso reales en los que las funciones sean esenciales: "
   ]
  },
  {
   "cell_type": "markdown",
   "metadata": {},
   "source": [
    "Un ejemplo en la vida real seria una funcion que calcule el impuestoa al valor agregado en Costa Rica"
   ]
  },
  {
   "cell_type": "code",
   "execution_count": 11,
   "metadata": {},
   "outputs": [
    {
     "name": "stdout",
     "output_type": "stream",
     "text": [
      " El valor de la compra sin iva es de : 10000.0\n",
      " El valor del iva es de : 1300.0\n",
      " El monto de la compra total  es de : 11300.0\n"
     ]
    }
   ],
   "source": [
    "def calcularIva(PrecioCompra,PorcentajeImpuesto = 0.13):\n",
    "    IVA = PrecioCompra * PorcentajeImpuesto\n",
    "    return IVA\n",
    "\n",
    "PrecioDelaCompra = float(input('Digite el valor de la compra '))\n",
    "Iva = calcularIva(PrecioDelaCompra,0.13)\n",
    "Total = PrecioDelaCompra + Iva\n",
    "print(f\" El valor de la compra sin iva es de : {PrecioDelaCompra}\")\n",
    "print(f\" El valor del iva es de : {Iva}\")\n",
    "print(f\" El monto de la compra total  es de : {Total}\")"
   ]
  },
  {
   "cell_type": "markdown",
   "metadata": {},
   "source": [
    "# Aplicación en estructuras de datos (listas, diccionarios). "
   ]
  },
  {
   "cell_type": "markdown",
   "metadata": {},
   "source": [
    "# Uso de funciones en procesamiento de datos. "
   ]
  },
  {
   "cell_type": "markdown",
   "metadata": {},
   "source": [
    "# Optimización del rendimiento con funciones. "
   ]
  },
  {
   "cell_type": "markdown",
   "metadata": {},
   "source": [
    "# Comparación entre funciones definidas por el usuario y funciones integradas (len(), sum(), etc.). \n",
    "\n",
    "Si bien Python ya proporciona muchas funciones integradas como print() y len(), también puedes definir tus propias funciones para usar en tus proyectos.\n",
    "\n",
    "Una de las grandes ventajas de usar funciones en tu código es que reduce el número total de líneas de código en tu proyecto. Es como personalizar funciones y ayudarnos con las funciones ya creadas."
   ]
  },
  {
   "cell_type": "markdown",
   "metadata": {},
   "source": [
    "# Sección 3: Conclusiones \n",
    "Ofreciendo una estructura clara, modularidad y eficiencia. Al dominar el manejo de funciones, los programadores pueden construir aplicaciones robustas, legibles y mantenibles. La práctica constante y la exploración de recursos de aprendizaje son claves para desarrollar habilidades sólidas en el manejo de funciones en Python."
   ]
  },
  {
   "cell_type": "markdown",
   "metadata": {},
   "source": [
    "# Un resumen de hallazgos sobre la teoría y la práctica. \n",
    "Me doy cuenta que en los libros tutoriales les falta abarcar temas y es ahi que tiene que buscar en mas lados para exclarecer dudas, muchas veces dan por sentado que se entendio un tema sin haberlo explicado. "
   ]
  },
  {
   "cell_type": "markdown",
   "metadata": {},
   "source": [
    "# Un análisis personal sobre qué aprendieron del uso de funciones en Python. \n",
    "Es interesante es sencillo pero a la vez poco a poco se va complicando es cuestion de practicar, investigar, y dedicar muchas horas al aprendizaje hasta dominarlo por completo. Pienso que hay palabras reservadas que podrian ser mas intuitivas para hacer mas sencillo el aprendizaje."
   ]
  },
  {
   "cell_type": "markdown",
   "metadata": {},
   "source": [
    "# Una sección de referencias con enlaces o libros consultados. "
   ]
  },
  {
   "cell_type": "markdown",
   "metadata": {},
   "source": [
    "Libros de Python⁚ Python crash course third edition erick mattes.\n",
    "\n",
    "Tutoriales en línea⁚ https://www.w3schools.com/python/python_functions.asp, https://www.programiz.com/python-programming/function"
   ]
  }
 ],
 "metadata": {
  "kernelspec": {
   "display_name": "Python 3",
   "language": "python",
   "name": "python3"
  },
  "language_info": {
   "codemirror_mode": {
    "name": "ipython",
    "version": 3
   },
   "file_extension": ".py",
   "mimetype": "text/x-python",
   "name": "python",
   "nbconvert_exporter": "python",
   "pygments_lexer": "ipython3",
   "version": "3.13.1"
  }
 },
 "nbformat": 4,
 "nbformat_minor": 2
}
