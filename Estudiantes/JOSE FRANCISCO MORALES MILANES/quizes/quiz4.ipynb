{
 "cells": [
  {
   "cell_type": "markdown",
   "metadata": {},
   "source": [
    "Efectos y resultados: listas y funciones"
   ]
  },
  {
   "cell_type": "code",
   "execution_count": 1,
   "metadata": {},
   "outputs": [
    {
     "name": "stdout",
     "output_type": "stream",
     "text": [
      "12\n"
     ]
    }
   ],
   "source": [
    "def list_sum(lst):\n",
    "    s = 0\n",
    " \n",
    "    for elem in lst:\n",
    "        s += elem\n",
    " \n",
    "    return s\n",
    "    \n",
    "print(list_sum([5, 4, 3]))"
   ]
  },
  {
   "cell_type": "markdown",
   "metadata": {},
   "source": [
    "Cualquier entidad reconocible por Python puede ser un resultado de función."
   ]
  },
  {
   "cell_type": "code",
   "execution_count": 2,
   "metadata": {},
   "outputs": [
    {
     "name": "stdout",
     "output_type": "stream",
     "text": [
      "[4, 3, 2, 1, 0]\n"
     ]
    }
   ],
   "source": [
    "def strange_list_fun(n):\n",
    "    strange_list = []\n",
    "    \n",
    "    for i in range(0, n):\n",
    "        strange_list.insert(0, i)\n",
    "    \n",
    "    return strange_list\n",
    "\n",
    "print(strange_list_fun(5))\n"
   ]
  },
  {
   "cell_type": "markdown",
   "metadata": {},
   "source": [
    "Ls variable var creada dentro de la función no es la misma que cuando se define fuera de ella; parece que hay dos variables diferentes con el mismo nombre;\n",
    "además, la variable de la función es una sombra de la variable fuera de la función."
   ]
  },
  {
   "cell_type": "code",
   "execution_count": 3,
   "metadata": {},
   "outputs": [
    {
     "name": "stdout",
     "output_type": "stream",
     "text": [
      "¿Conozco a la variable? 2\n",
      "1\n"
     ]
    }
   ],
   "source": [
    "def my_function():\n",
    "    var = 2\n",
    "    print(\"¿Conozco a la variable?\", var)\n",
    " \n",
    " \n",
    "var = 1\n",
    "my_function()\n",
    "print(var)"
   ]
  },
  {
   "cell_type": "markdown",
   "metadata": {},
   "source": [
    "Funciones y alcances: la palabra clave global\n",
    "Extender el alcance de una variable incluyendo el cuerpo de las funciones (para poder no solo leer los valores de las variables sino también modificarlos. osea aunque este declarada en una funcion tiene una ambito total , global en cualquier lado la podemos invocar y modificar\n",
    "global name\n",
    "global name1, name2, ..."
   ]
  },
  {
   "cell_type": "code",
   "execution_count": 4,
   "metadata": {},
   "outputs": [
    {
     "name": "stdout",
     "output_type": "stream",
     "text": [
      "¿Conozco a aquella variable? 2\n",
      "2\n"
     ]
    }
   ],
   "source": [
    "def my_function():\n",
    "    global var\n",
    "    var = 2\n",
    "    print(\"¿Conozco a aquella variable?\", var)\n",
    "\n",
    "\n",
    "var = 1\n",
    "my_function()\n",
    "print(var)\n"
   ]
  },
  {
   "cell_type": "code",
   "execution_count": null,
   "metadata": {},
   "outputs": [],
   "source": [
    "def adding(x):\n",
    "    var = 7\n",
    "    return x + var\n",
    " \n",
    " \n",
    "print(adding(4)) # salida: 11"
   ]
  },
  {
   "cell_type": "markdown",
   "metadata": {},
   "source": [
    "Segundo, observa como el símbolo de diagonal invertida (\\) es empleado. Si se termina una línea de código con el, Python entenderá que la línea continua en la siguiente.\n",
    "\n",
    "Esto puede ser útil cuando se tienen largas líneas de código y se desea que sean más legibles.\n",
    "\n",
    "Sin embargo, hay algo que omitimos - las medias en sistema inglés. La función no es útil para personas que utilicen libras, pies y pulgadas.\n",
    "\n",
    "¿Qué podemos hacer por ellos?\n",
    "\n",
    "Escribimos dos funciones sencillas para convertir unidades del sistema inglés al sistema métrico. Comencemos con las pulgadas.\n",
    "\n",
    "Es bien conocido que 1 lb = 0.45359237 kg. Esto lo emplearemos en nuestra nueva función."
   ]
  },
  {
   "cell_type": "code",
   "execution_count": null,
   "metadata": {},
   "outputs": [],
   "source": [
    "def bmi(weight, height):\n",
    "    if height < 1.0 or height > 2.5 or \\\n",
    "    weight < 20 or weight > 200:\n",
    "        return None\n",
    "\n",
    "    return weight / height ** 2\n",
    "\n",
    "\n",
    "print(bmi(352.5, 1.65))\n"
   ]
  },
  {
   "cell_type": "code",
   "execution_count": null,
   "metadata": {},
   "outputs": [],
   "source": [
    "def lb_to_kg(lb):\n",
    "    return lb * 0.45359237\n",
    " \n",
    " \n",
    "print(lb_to_kg(1))"
   ]
  },
  {
   "cell_type": "code",
   "execution_count": null,
   "metadata": {},
   "outputs": [],
   "source": [
    "def ft_and_inch_to_m(ft, inch):\n",
    "    return ft * 0.3048 + inch * 0.0254\n",
    "\n",
    "print(ft_and_inch_to_m(6, 0))\n",
    "print(ft_and_inch_to_m(1, 1))"
   ]
  },
  {
   "cell_type": "code",
   "execution_count": null,
   "metadata": {},
   "outputs": [],
   "source": [
    "def ft_and_inch_to_m(ft, inch = 0.0):\n",
    "    return ft * 0.3048 + inch * 0.0254\n",
    " \n",
    " \n",
    "print(ft_and_inch_to_m(6))"
   ]
  },
  {
   "cell_type": "code",
   "execution_count": null,
   "metadata": {},
   "outputs": [],
   "source": [
    "def ft_and_inch_to_m(ft, inch = 0.0):\n",
    "    return ft * 0.3048 + inch * 0.0254\n",
    " \n",
    " \n",
    "def lb_to_kg(lb):\n",
    "    return lb * 0.4535923\n",
    " \n",
    " \n",
    "def bmi(weight, height):\n",
    "    if height < 1.0 or height > 2.5 or weight < 20 or weight > 200:\n",
    "        return None\n",
    " \n",
    "    return weight / height ** 2\n",
    " \n",
    " \n",
    "print(bmi(weight = lb_to_kg(176), height = ft_and_inch_to_m(5, 7)))"
   ]
  },
  {
   "cell_type": "markdown",
   "metadata": {},
   "source": [
    "Ejemplos de funciones: Triángulos"
   ]
  },
  {
   "cell_type": "code",
   "execution_count": null,
   "metadata": {},
   "outputs": [],
   "source": [
    "def is_a_triangle(a, b, c):\n",
    "    if a + b <= c:\n",
    "        return False\n",
    "    if b + c <= a:\n",
    "        return False\n",
    "    if c + a <= b:\n",
    "        return False\n",
    "    return True\n",
    "\n",
    "\n",
    "print(is_a_triangle(1, 1, 1))\n",
    "print(is_a_triangle(1, 1, 3))\n"
   ]
  },
  {
   "cell_type": "code",
   "execution_count": null,
   "metadata": {},
   "outputs": [],
   "source": [
    "def is_a_triangle(a, b, c):\n",
    "    if a + b <= c or b + c <= a or c + a <= b:\n",
    "        return False\n",
    "    return True\n",
    " \n",
    " \n",
    "print(is_a_triangle(1, 1, 1))\n",
    "print(is_a_triangle(1, 1, 3))"
   ]
  },
  {
   "cell_type": "code",
   "execution_count": null,
   "metadata": {},
   "outputs": [],
   "source": [
    "def is_a_triangle(a, b, c):\n",
    "    return a + b > c and b + c > a and c + a > b\n",
    "\n",
    "\n",
    "a = float(input('Ingresa la longitud del primer lado: '))\n",
    "b = float(input('Ingresa la longitud del segundo lado: '))\n",
    "c = float(input('Ingresa la longitud del tercer lado: '))\n",
    "\n",
    "if is_a_triangle(a, b, c):\n",
    "    print('Si, si puede ser un triángulo.')\n",
    "else:\n",
    "    print('No, no puede ser un triángulo.')"
   ]
  },
  {
   "cell_type": "markdown",
   "metadata": {},
   "source": [
    "En el segundo paso, intentaremos verificar si un triángulo es un triángulo rectángulo.\n",
    "\n",
    "Para ello haremos uso del Teorema de Pitágoras:\n",
    "\n",
    "c2 = a2 + b2\n",
    "\n",
    "¿Cómo saber cual de los tres lados es la hipotenusa?\n",
    "\n",
    "La hipotenusa es el lado más largo."
   ]
  },
  {
   "cell_type": "code",
   "execution_count": null,
   "metadata": {},
   "outputs": [],
   "source": [
    "def is_a_triangle(a, b, c):\n",
    "    return a + b > c and b + c > a and c + a > b\n",
    " \n",
    " \n",
    "def is_a_right_triangle(a, b, c):\n",
    "    if not is_a_triangle(a, b, c):\n",
    "        return False\n",
    "    if c > a and c > b:\n",
    "        return c ** 2 == a ** 2 + b ** 2 if a > b and a > c:\n",
    "    if a > b and a > c:\n",
    "        return a ** 2 == b ** 2 + c ** 2\n",
    "print(is_a_right_triangle(5, 3, 4))\n",
    "print(is_a_right_triangle(1, 3, 4))"
   ]
  },
  {
   "cell_type": "markdown",
   "metadata": {},
   "source": []
  },
  {
   "cell_type": "code",
   "execution_count": null,
   "metadata": {},
   "outputs": [],
   "source": [
    "def is_a_triangle(a, b, c):\n",
    "    return a + b > c and b + c > a and c + a > b\n",
    " \n",
    " \n",
    "def heron(a, b, c):\n",
    "    p = (a + b + c) / 2\n",
    "    return (p * (p - a) * (p - b) * (p - c)) ** 0.5\n",
    " \n",
    " \n",
    "def area_of_triangle(a, b, c):\n",
    "    if not is_a_triangle(a, b, c):\n",
    "        return None\n",
    "    return heron(a, b, c)\n",
    " \n",
    " \n",
    "print(area_of_triangle(1., 1., 2. ** .5))"
   ]
  },
  {
   "cell_type": "markdown",
   "metadata": {},
   "source": [
    "Ejemplos de funciones: Factoriales\n",
    "La siguiente función a definir calcula factoriales. ¿Recuerdas cómo se calcula un factorial?\n",
    "\n",
    "0! = 1 (¡Si!, es verdad)\n",
    "1! = 1\n",
    "2! = 1 * 2\n",
    "3! = 1 * 2 * 3\n",
    "4! = 1 * 2 * 3 * 4\n",
    ":\n",
    ":\n",
    "n! = 1 * 2 * 3 * 4 * ... * n-1 * n"
   ]
  },
  {
   "cell_type": "code",
   "execution_count": null,
   "metadata": {},
   "outputs": [],
   "source": [
    "def factorial_function(n):\n",
    "    if n < 0:\n",
    "        return None\n",
    "    if n < 2:\n",
    "        return 1\n",
    " \n",
    "    product = 1\n",
    "    for i in range(2, n + 1):\n",
    "        product *= i\n",
    "    return product\n",
    " \n",
    " \n",
    "for n in range(1, 6): # probando\n",
    "    print(n, factorial_function(n))"
   ]
  },
  {
   "cell_type": "markdown",
   "metadata": {},
   "source": [
    "Números Fibonacci\n",
    "Son una secuencia de números enteros los cuales siguen una regla sencilla:\n",
    "\n",
    "el primer elemento de la secuencia es igual a uno (Fib1 = 1)\n",
    "el segundo elemento también es igual a uno (Fib2 = 1)\n",
    "cada número después de ellos son la suman de los dos números anteriores (Fibi = Fibi-1 + Fibi-2)\n",
    "Aquí están algunos de los primeros números en la serie Fibonacci:\n",
    "\n",
    "fib_1 = 1 fib_2 = 1 fib_3 = 1 + 1 = 2 fib_4 = 1 + 2 = 3 fib_5 = 2 + 3 = 5 fib_6 = 3 + 5 = 8 fib_7 = 5 + 8 = 13"
   ]
  },
  {
   "cell_type": "code",
   "execution_count": null,
   "metadata": {},
   "outputs": [],
   "source": [
    "def fib(n):\n",
    "    if n < 1:\n",
    "        return None\n",
    "    if n < 3:\n",
    "        return 1\n",
    " \n",
    "    elem_1 = elem_2 = 1\n",
    "    the_sum = 0\n",
    "    for i in range(3, n + 1):\n",
    "        the_sum = elem_1 + elem_2\n",
    "        elem_1, elem_2 = elem_2, the_sum\n",
    "    return the_sum\n",
    " \n",
    " \n",
    "for n in range(1, 10): # probando\n",
    "    print(n, \"->\", fib(n))"
   ]
  },
  {
   "cell_type": "markdown",
   "metadata": {},
   "source": [
    "Recursividad"
   ]
  },
  {
   "cell_type": "code",
   "execution_count": null,
   "metadata": {},
   "outputs": [],
   "source": [
    "def fib(n):\n",
    "    if n < 1:\n",
    "        return None\n",
    "    if n < 3:\n",
    "        return 1\n",
    "    return fib(n - 1) + fib(n - 2)"
   ]
  },
  {
   "cell_type": "code",
   "execution_count": null,
   "metadata": {},
   "outputs": [],
   "source": [
    "def factorial_function(n):\n",
    "    if n < 0:\n",
    "        return None\n",
    "    if n < 2:\n",
    "        return 1\n",
    "    return n * factorial_function(n - 1)"
   ]
  },
  {
   "cell_type": "markdown",
   "metadata": {},
   "source": [
    "#Tipos de secuencia y mutabilidad\n",
    "Secuencia es un tipo de dato en Python el cual es capaz de almacenar más de un valor (o ninguno si la secuencia esta vacía), los cuales pueden ser secuencialmente (de ahí el nombre) examinados.\n",
    "Una secuencia es un tipo de dato que puede ser escaneado por el bucle for\n",
    "\n",
    "la mutabilidad - es una propiedad de cualquier tipo de dato en Python que describe su disponibilidad para poder cambiar libremente durante la ejecución de un programa. Existen dos tipos de datos en Python: mutables e inmutables.\n",
    "\n",
    "Los datos mutables pueden ser actualizados libremente en cualquier momento - a esta operación se le denomina \"in situ\".\n",
    "\n"
   ]
  },
  {
   "cell_type": "markdown",
   "metadata": {},
   "source": [
    "Tuplas\n",
    "Lo primero que distingue una lista de una tupla es la sintaxis empleada para crearlas - las tuplas utilizan paréntesis, mientras que las listas usan corchetes, aunque también es posible crear una tupla tan solo separando los valores por comas.\n",
    "Si se desea crear una tupla de un solo elemento, se debe de considerar el hecho de que, debido a la sintaxis (una tupla debe de poder distinguirse de un valor entero ordinario), se debe de colocar una coma al final:\n",
    "No se pueden modificar ni eliminar elementos\n",
    "\n",
    "one_element_tuple_1 = (1, )\n",
    "one_element_tuple_2 = 1.,"
   ]
  },
  {
   "cell_type": "code",
   "execution_count": null,
   "metadata": {},
   "outputs": [],
   "source": [
    "tuple_1 = (1, 2, 4, 8)\n",
    "tuple_2 = 1., .5, .25, .125\n",
    "print(tuple_1)\n",
    "print(tuple_2)"
   ]
  },
  {
   "cell_type": "code",
   "execution_count": null,
   "metadata": {},
   "outputs": [],
   "source": [
    "my_tuple = (1, 10, 100, 1000)\n",
    "\n",
    "print(my_tuple[0])\n",
    "print(my_tuple[-1])\n",
    "print(my_tuple[1:])\n",
    "print(my_tuple[:-2])\n",
    "\n",
    "for elem in my_tuple:\n",
    "    print(elem)\n"
   ]
  },
  {
   "cell_type": "markdown",
   "metadata": {},
   "source": [
    "# 4.6.3 Diccionarios\n",
    "El diccionario es otro tipo de estructura de datos de Python. No es una secuencia (pero puede adaptarse fácilmente a un procesamiento secuencial) y además es mutable.\n",
    " emplea claves y valores las cuales ambas son cadenas. En el segundo, las claves con cadenas pero los valores son enteros. El orden inverso (claves → números, valores → cadenas) también es posible, así como la combinación número a número.\n",
    "\n",
    "La lista de todos los pares es encerrada con llaves, mientras que los pares son separados por comas, y las claves y valores por dos puntos.\n",
    "cada clave debe de ser única - no es posible tener una clave duplicada;\n",
    "una clave puede ser un de dato de cualquier tipo - puede ser un número (entero o flotante), incluso una cadena, pero no una lista;\n",
    "un diccionario no es una lista - una lista contiene un conjunto de valores numerados, mientras que un diccionario almacena pares de valores;\n",
    "si una clave es una cadena, se tiene que especificar como una cadena;\n",
    "las claves son sensibles a las mayúsculas y minúsculas: 'Suzy' sería diferente a 'suzy'.\n",
    "cada clave debe de ser única - no es posible tener una clave duplicada;\n",
    "una clave puede ser un de dato de cualquier tipo - puede ser un número (entero o flotante), incluso una cadena, pero no una lista;\n",
    "un diccionario no es una lista - una lista contiene un conjunto de valores numerados, mientras que un diccionario almacena pares de valores;\n",
    "la función len() aplica también para los diccionarios - regresa la cantidad de pares (clave-valor) en el diccionario;\n",
    "un diccionario es una herramienta de un solo sentido - si fuese un diccionario español-francés, podríamos buscar en español para encontrar su contraparte en francés más no viceversa.\n",
    "Ahora algo muy importante: No se puede utilizar una clave que no exista. Hacer algo como lo siguiente:\n"
   ]
  },
  {
   "cell_type": "code",
   "execution_count": null,
   "metadata": {},
   "outputs": [],
   "source": [
    "dictionary = {\"gato\": \"chat\", \"perro\": \"chien\", \"caballo\": \"cheval\"}\n",
    "phone_numbers = {'jefe': 5551234567, 'Suzy': 22657854310}\n",
    "empty_dictionary = {}\n",
    " \n",
    "print(dictionary)\n",
    "print(phone_numbers)\n",
    "print(empty_dictionary)"
   ]
  },
  {
   "cell_type": "code",
   "execution_count": 6,
   "metadata": {},
   "outputs": [
    {
     "name": "stdout",
     "output_type": "stream",
     "text": [
      "chat\n",
      "22657854310\n"
     ]
    }
   ],
   "source": [
    "dictionary = {\"gato\": \"chat\", \"perro\": \"chien\", \"caballo\": \"cheval\"}\n",
    "phone_numbers = {'jefe' : 5551234567, 'Suzy' : 22657854310}\n",
    "empty_dictionary = {}\n",
    "print(dictionary['gato'])\n",
    "print(phone_numbers['Suzy'])"
   ]
  },
  {
   "cell_type": "markdown",
   "metadata": {},
   "source": [
    "El siguiente código busca de manera segura palabras en francés:"
   ]
  },
  {
   "cell_type": "code",
   "execution_count": null,
   "metadata": {},
   "outputs": [],
   "source": [
    "dictionary = {\"cat\": \"gato\", \"perro\": \"chien\", \"caballo\": \"cheval\"}\n",
    "words = ['gato', 'león', 'caballo']\n",
    " \n",
    "for word in words:\n",
    "    if word in dictionary:\n",
    "        print(word, \"->\", dictionary[word])\n",
    "    else:\n",
    "        print(word, \"no está en el diccionario\")"
   ]
  },
  {
   "cell_type": "markdown",
   "metadata": {},
   "source": [
    "Cuando escribes una expresión grande o larga, puede ser una buena idea mantenerla alineada verticalmente. Así es como puede hacer que el código sea más legible y más amigable para el programador, por ejemplo:"
   ]
  },
  {
   "cell_type": "code",
   "execution_count": null,
   "metadata": {},
   "outputs": [],
   "source": [
    "# Ejemplo 1:\n",
    "dictionary = {\n",
    "              \"gato\": \"chat\",\n",
    "              \"perro\": \"chien\",\n",
    "              \"caballo\": \"cheval\"\n",
    "}\n",
    "# Ejemplo 2:\n",
    "phone_numbers = {'jefe': 5551234567,\n",
    "              'Suzy': 22657854310\n",
    "}\n",
    " "
   ]
  },
  {
   "cell_type": "markdown",
   "metadata": {},
   "source": [
    "# Métodos y funciones de los diccionarios\n",
    "¿Pueden los diccionarios ser examinados utilizando el bucle for, como las listas o tuplas?\n",
    "\n",
    "No y si.\n",
    "\n",
    "No, porque un diccionario no es un tipo de dato secuencial - el bucle for no es útil aquí.\n",
    "Si, porque hay herramientas simples y muy efectivas que pueden adaptar cualquier diccionario a los requerimientos del bucle for (en otras palabras, se construye un enlace intermedio entre el diccionario y una entidad secuencial temporal).\n",
    "\n",
    "El primero de ellos es un método denominado keys(), el cual es parte de todo diccionario. El método retorna o regresa una lista de todas las claves dentro del diccionario. Al tener una lista de claves se puede acceder a todo el diccionario de una manera fácil y útil.\n"
   ]
  },
  {
   "cell_type": "code",
   "execution_count": 7,
   "metadata": {},
   "outputs": [
    {
     "name": "stdout",
     "output_type": "stream",
     "text": [
      "gato -> chat\n",
      "perro -> chien\n",
      "caballo -> cheval\n"
     ]
    }
   ],
   "source": [
    "dictionary = {\"gato\": \"chat\", \"perro\": \"chien\", \"caballo\": \"cheval\"}\n",
    " \n",
    "for spanish, french in dictionary.items():\n",
    "    print(spanish, \"->\", french)"
   ]
  },
  {
   "cell_type": "markdown",
   "metadata": {},
   "source": [
    "## Modificar, agregar y eliminar valores\n",
    " Los diccionarios son completamente mutables, no existen obstáculos para modificarlos\n",
    " "
   ]
  },
  {
   "cell_type": "code",
   "execution_count": 8,
   "metadata": {},
   "outputs": [
    {
     "name": "stdout",
     "output_type": "stream",
     "text": [
      "{'gato': 'minou', 'perro': 'chien', 'caballo': 'cheval'}\n"
     ]
    }
   ],
   "source": [
    "dictionary = {\"gato\": \"chat\", \"perro\": \"chien\", \"caballo\": \"cheval\"}\n",
    " \n",
    "dictionary['gato'] = 'minou'\n",
    "print(dictionary)\n",
    " "
   ]
  },
  {
   "cell_type": "markdown",
   "metadata": {},
   "source": [
    "## La función sorted()\n",
    "¿Deseas que la salida este ordenada? Solo hay que agregar al bucle for lo siguiente:"
   ]
  },
  {
   "cell_type": "code",
   "execution_count": null,
   "metadata": {},
   "outputs": [],
   "source": [
    "for key in sorted(dictionary.keys()):\n",
    "    pass\n",
    "dictionary = {\"gato\": \"chat\", \"perro\": \"chien\", \"caballo\": \"cheval\"}\n",
    " \n",
    "for french in dictionary.values():\n",
    "    print(french)"
   ]
  },
  {
   "cell_type": "markdown",
   "metadata": {},
   "source": [
    "## Agregando nuevas claves\n",
    "El agregar una nueva clave con su valor a un diccionario es tan simple como cambiar un valor. Solo se tiene que asignar un valor a una nueva clave que no haya existido antes.\n",
    "\n",
    "Nota: este es un comportamiento muy diferente comparado a las listas, las cuales no permiten asignar valores a índices no existentes.\n",
    "\n",
    "A continuación se agrega un par nuevo al diccionario - un poco extraño pero válido:"
   ]
  },
  {
   "cell_type": "code",
   "execution_count": 9,
   "metadata": {},
   "outputs": [
    {
     "name": "stdout",
     "output_type": "stream",
     "text": [
      "{'gato': 'chat', 'perro': 'chien', 'caballo': 'cheval', 'cisne': 'cygne'}\n"
     ]
    }
   ],
   "source": [
    "dictionary = {\"gato\": \"chat\", \"perro\": \"chien\", \"caballo\": \"cheval\"}\n",
    " \n",
    "dictionary['cisne'] = 'cygne'\n",
    "print(dictionary)"
   ]
  },
  {
   "cell_type": "code",
   "execution_count": null,
   "metadata": {},
   "outputs": [],
   "source": [
    "dictionary = {\"gato\": \"chat\", \"perro\": \"chien\", \"caballo\": \"cheval\"}\n",
    " \n",
    "dictionary.update({\"pato\": \"canard\"})\n",
    "print(dictionary)"
   ]
  },
  {
   "cell_type": "markdown",
   "metadata": {},
   "source": [
    "Eliminado una clave\n",
    "¿Puedes deducir como eliminar una clave de un diccionario?\n",
    "Nota: al eliminar la clave también se removerá el valor asociado. Los valores no pueden existir sin sus claves.\n",
    "\n",
    "Esto se logra con la instrucción del.\n"
   ]
  },
  {
   "cell_type": "code",
   "execution_count": null,
   "metadata": {},
   "outputs": [],
   "source": [
    "dictionary = {\"gato\": \"chat\", \"perro\": \"chien\", \"caballo\": \"cheval\"}\n",
    " \n",
    "del dictionary['perro']\n",
    "print(dictionary)"
   ]
  },
  {
   "cell_type": "markdown",
   "metadata": {},
   "source": [
    "Para eliminar el ultimo elemento de la lista, se puede emplear el método popitem():"
   ]
  },
  {
   "cell_type": "code",
   "execution_count": 10,
   "metadata": {},
   "outputs": [
    {
     "name": "stdout",
     "output_type": "stream",
     "text": [
      "{'gato': 'chat', 'perro': 'chien'}\n"
     ]
    }
   ],
   "source": [
    "dictionary = {\"gato\": \"chat\", \"perro\": \"chien\", \"caballo\": \"cheval\"}\n",
    " \n",
    "dictionary.popitem()\n",
    "print(dictionary) # salida: {'gato': 'chat', 'perro': 'chien'}"
   ]
  },
  {
   "cell_type": "markdown",
   "metadata": {},
   "source": [
    "Las tuplas y los diccionarios pueden trabajar juntos\n",
    "necesitas un programa para calcular los promedios de tus alumnos;\n",
    "el programa pide el nombre del alumno seguido de su calificación;\n",
    "los nombres son ingresados en cualquier orden;\n",
    "el ingresar un nombre vacío finaliza el ingreso de los datos (Nota 1: ingresar una puntuación vacía generará la excepción ValueError, pero no te preocupes por eso ahora, verás cómo manejar tales casos cuando hablemos de excepciones en el segundo parte de la serie del curso Fundamentos de Python)\n",
    "una lista con todos los nombre y el promedio de cada alumno debe ser mostrada al final."
   ]
  },
  {
   "cell_type": "code",
   "execution_count": null,
   "metadata": {},
   "outputs": [],
   "source": [
    "school_class = {}\n",
    "\n",
    "while True:\n",
    "    name = input(\"Ingresa el nombre del estudiante: \")\n",
    "    if name == '':\n",
    "        break\n",
    "    \n",
    "    score = int(input(\"Ingresa la calificación del estudiante (0-10): \"))\n",
    "    if score not in range(0, 11):\n",
    "        break\n",
    "    if name in school_class:\n",
    "        school_class[name] += (score,)\n",
    "    else:\n",
    "        school_class[name] = (score,)\n",
    "        \n",
    "for name in sorted(school_class.keys()):\n",
    "    adding = 0\n",
    "    counter = 0\n",
    "    for score in school_class[name]:\n",
    "        adding += score\n",
    "        counter += 1\n",
    "    print(name, \":\", adding / counter)"
   ]
  },
  {
   "cell_type": "code",
   "execution_count": null,
   "metadata": {},
   "outputs": [],
   "source": [
    "# Ejemplo 1\n",
    "tuple_1 = (1, 2, 3)\n",
    "for elem in tuple_1:\n",
    "    print(elem)\n",
    " \n",
    "# Ejemplo 2\n",
    "tuple_2 = (1, 2, 3, 4)\n",
    "print(5 in tuple_2)\n",
    "print(5 not in tuple_2)\n",
    " \n",
    "# Ejemplo 3\n",
    "tuple_3 = (1, 2, 3, 4)\n",
    "print(len(tuple_3))\n",
    "print(5 not in tuple_3)\n",
    "# Ejemplo 4\n",
    "tuple_4 = tuple_1 + tuple_2\n",
    "tuple_5 = tuple_3 * 2\n",
    " \n",
    "print(tuple_4)\n",
    "print(tuple_5)"
   ]
  },
  {
   "cell_type": "markdown",
   "metadata": {},
   "source": [
    " Si deseas examinar los elementos (claves y valores) del diccionario, puedes emplear el método items(), por ejemplo:"
   ]
  },
  {
   "cell_type": "code",
   "execution_count": null,
   "metadata": {},
   "outputs": [],
   "source": [
    "pol_esp_dictionary = {\n",
    "    \"zamek\": \"castillo\",\n",
    "    \"woda\": \"agua\",\n",
    "    \"gleba\": \"tierra\"\n",
    "    }\n",
    " \n",
    "for key, value in pol_esp_dictionary.items():\n",
    "    print(\"Pol/Esp ->\", key, \":\", value)"
   ]
  },
  {
   "cell_type": "markdown",
   "metadata": {},
   "source": [
    " Para comprobar si una clave existe en un diccionario, se puede emplear la palabra clave reservada in:"
   ]
  },
  {
   "cell_type": "code",
   "execution_count": null,
   "metadata": {},
   "outputs": [],
   "source": [
    "pol_esp_dictionary = {\n",
    "    \"zamek\": \"castillo\",\n",
    "    \"woda\": \"agua\",\n",
    "    \"gleba\": \"tierra\"\n",
    "    }\n",
    " \n",
    "if \"zamek\" in pol_esp_dictionary:\n",
    "   print(\"Si\")\n",
    "else:\n",
    "   print(\"No\")"
   ]
  },
  {
   "cell_type": "markdown",
   "metadata": {},
   "source": [
    "Se puede emplear la palabra reservada del para eliminar un elemento, o un diccionario entero. Para eliminar todos los elementos de un diccionario se debe emplear el método clear():"
   ]
  },
  {
   "cell_type": "code",
   "execution_count": null,
   "metadata": {},
   "outputs": [],
   "source": [
    "pol_esp_dictionary = {\n",
    "    \"zamek\": \"castillo\",\n",
    "    \"woda\": \"agua\",\n",
    "    \"gleba\": \"tierra\"\n",
    "    }\n",
    " \n",
    "print(len(pol_esp_dictionary)) # salida: 3\n",
    "del pol_esp_dictionary[\"zamek\"] # eliminar un elemento\n",
    "print(len(pol_esp_dictionary)) # salida: 2\n",
    " \n",
    "pol_esp_dictionary.clear() # eliminar todos los elementos\n",
    "print(len(pol_esp_dictionary)) # salida: 0\n",
    " \n",
    "del pol_esp_dictionary # elimina el diccionario"
   ]
  },
  {
   "cell_type": "markdown",
   "metadata": {},
   "source": [
    "Para copiar un diccionario, emplea el método copy():"
   ]
  },
  {
   "cell_type": "code",
   "execution_count": null,
   "metadata": {},
   "outputs": [],
   "source": [
    "pol_esp_dictionary = {\n",
    "    \"zamek\": \"castillo\",\n",
    "    \"woda\": \"agua\",\n",
    "    \"gleba\": \"tierra\"\n",
    "    }\n",
    " \n",
    "copy_dictionary = pol_esp_dictionary.copy()"
   ]
  },
  {
   "cell_type": "code",
   "execution_count": 11,
   "metadata": {},
   "outputs": [
    {
     "name": "stdout",
     "output_type": "stream",
     "text": [
      "4\n"
     ]
    }
   ],
   "source": [
    "tup = 1, 2, 3, 2, 4, 5, 6, 2, 7, 2, 8, 9\n",
    "duplicates = tup.count(2)\n",
    "\n",
    "print(duplicates) "
   ]
  },
  {
   "cell_type": "code",
   "execution_count": null,
   "metadata": {},
   "outputs": [],
   "source": [
    "d1 = {'Adam Smith': 'A', 'Judy Paxton': 'B+'}\n",
    "d2 = {'Mary Louis': 'A', 'Patrick White': 'C'}\n",
    "d3 = {}\n",
    "\n",
    "for item in (d1, d2):\n",
    "    d3.update(item)\n",
    "\n",
    "print(d3)"
   ]
  },
  {
   "cell_type": "markdown",
   "metadata": {},
   "source": [
    "Escribe un programa que convierta la lista my_list en una tupla."
   ]
  },
  {
   "cell_type": "code",
   "execution_count": null,
   "metadata": {},
   "outputs": [],
   "source": [
    "my_list = [\"car\", \"Ford\", \"flower\", \"Tulip\"]\n",
    "\n",
    "t = tuple(my_list)\n",
    "print(t)"
   ]
  },
  {
   "cell_type": "markdown",
   "metadata": {},
   "source": [
    "convierta la tupla colors en un diccionario"
   ]
  },
  {
   "cell_type": "code",
   "execution_count": null,
   "metadata": {},
   "outputs": [],
   "source": [
    "colors = ((\"green\", \"#008000\"), (\"blue\", \"#0000FF\"))\n",
    "\n",
    "colors_dictionary = dict(colors)\n",
    "print(colors_dictionary)"
   ]
  },
  {
   "cell_type": "code",
   "execution_count": 12,
   "metadata": {},
   "outputs": [
    {
     "name": "stdout",
     "output_type": "stream",
     "text": [
      "blanco : (255, 255, 255)\n",
      "gris : (128, 128, 128)\n",
      "rojo : (255, 0, 0)\n",
      "verde : (0, 128, 0)\n"
     ]
    }
   ],
   "source": [
    "colors = {\n",
    "    \"blanco\": (255, 255, 255),\n",
    "    \"gris\": (128, 128, 128),\n",
    "    \"rojo\": (255, 0, 0),\n",
    "    \"verde\": (0, 128, 0)\n",
    "    }\n",
    " \n",
    "for col, rgb in colors.items():\n",
    "    print(col, \":\", rgb)\n",
    " "
   ]
  },
  {
   "cell_type": "markdown",
   "metadata": {},
   "source": [
    "# La rama try-except\n",
    "es mejor manejar un error cuando ocurre que tratar de evitarlo\"\n",
    "cualquier fragmento de código colocado entre try y except se ejecuta de una manera muy especial: cualquier error que ocurra aquí dentro no terminará la ejecución del programa. En cambio, el control saltará inmediatamente a la primera línea situada después de la palabra clave reservada except, y no se ejecutará ninguna otra línea del bloque try;\n",
    "el código en el bloque except se activa solo cuando se ha encontrado una excepción dentro del bloque try. No hay forma de llegar por ningún otro medio;\n",
    "cuando el bloque try o except se ejecutan con éxito, el control vuelve al proceso normal de ejecución y cualquier código ubicado más allá en el archivo fuente se ejecuta como si no hubiera pasado nada.\n",
    "Ahora queremos hacerte una pregunta: ¿Es ValueError la única forma en que el control podría caer dentro del bloque except\n",
    "\n"
   ]
  },
  {
   "cell_type": "code",
   "execution_count": null,
   "metadata": {},
   "outputs": [],
   "source": [
    "type(value) is int"
   ]
  },
  {
   "cell_type": "code",
   "execution_count": null,
   "metadata": {},
   "outputs": [],
   "source": [
    "try:\n",
    "    value = int(input('Ingresa un número natural: '))\n",
    "    print('El recíproco de', value, 'es', 1/value)        \n",
    "except:\n",
    "    print('No se que hacer con', value)"
   ]
  }
 ],
 "metadata": {
  "kernelspec": {
   "display_name": "Python 3",
   "language": "python",
   "name": "python3"
  },
  "language_info": {
   "codemirror_mode": {
    "name": "ipython",
    "version": 3
   },
   "file_extension": ".py",
   "mimetype": "text/x-python",
   "name": "python",
   "nbconvert_exporter": "python",
   "pygments_lexer": "ipython3",
   "version": "3.13.1"
  }
 },
 "nbformat": 4,
 "nbformat_minor": 2
}
