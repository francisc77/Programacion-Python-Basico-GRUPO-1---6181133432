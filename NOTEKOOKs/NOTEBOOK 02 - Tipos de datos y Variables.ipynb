{
 "cells": [
  {
   "cell_type": "markdown",
   "metadata": {},
   "source": [
    "# NOTEBOOK 02 - Tipos de datos y estructuras de datos\n",
    "## Fundamentos de Programación: Tipos de Datos, Variables y Operaciones Básicas\n",
    "### Nombre del estudiante: \n",
    "\n",
    "---\n",
    "\n",
    "## 1. Tipos de Datos en Python\n",
    "\n",
    "### Teoría\n",
    "Los tipos de datos en Python determinan el tipo de valor que se puede almacenar y manipular. Los más comunes son:\n",
    "\n",
    "- **Enteros (`int`)**: Números sin parte decimal.\n",
    "- **Flotantes (`float`)**: Números con parte decimal.\n",
    "- **Cadenas de texto (`str`)**: Secuencias de caracteres.\n",
    "- **Booleanos (`bool`)**: Valores lógicos que pueden ser `True` o `False`.\n",
    "\n",
    "#### Comparaciones:\n",
    "- Los enteros representan números sin decimales, mientras que los flotantes incluyen decimales.\n",
    "- Las cadenas de texto permiten almacenar y manipular texto.\n",
    "- Los booleanos permiten realizar comparaciones lógicas en el código.\n",
    "\n",
    "### Ejemplos\n",
    "```python\n",
    "# Ejemplos de tipos de datos\n",
    "numero_entero = 10  # Tipo entero\n",
    "numero_flotante = 10.5  # Tipo flotante\n",
    "cadena_texto = \"Hola, Python!\"  # Tipo cadena\n",
    "valor_logico = True  # Tipo booleano\n",
    "\n",
    "# Imprimir los tipos de cada variable\n",
    "print(type(numero_entero))\n",
    "print(type(numero_flotante))\n",
    "print(type(cadena_texto))\n",
    "print(type(valor_logico))\n",
    "```\n",
    "\n",
    "## Ejercicios \n",
    "\n",
    "1. Declara una variable de tipo entero y asigna el valor *25*. Luego, imprime su tipo."
   ]
  },
  {
   "cell_type": "code",
   "execution_count": 2,
   "metadata": {
    "vscode": {
     "languageId": "powershell"
    }
   },
   "outputs": [
    {
     "name": "stdout",
     "output_type": "stream",
     "text": [
      "Prueba\n"
     ]
    }
   ],
   "source": [
    "#Respuesta\n"
   ]
  },
  {
   "cell_type": "markdown",
   "metadata": {},
   "source": [
    "2. Declara una variable de tipo flotante con el valor *3.1416*. Imprime su tipo.\n"
   ]
  },
  {
   "cell_type": "code",
   "execution_count": null,
   "metadata": {
    "vscode": {
     "languageId": "powershell"
    }
   },
   "outputs": [],
   "source": [
    "#Respuesta"
   ]
  },
  {
   "cell_type": "markdown",
   "metadata": {},
   "source": [
    "3. Crea una variable es_estudiante que almacene un valor booleano indicando si eres estudiante."
   ]
  },
  {
   "cell_type": "code",
   "execution_count": null,
   "metadata": {
    "vscode": {
     "languageId": "powershell"
    }
   },
   "outputs": [],
   "source": [
    "#Respuesta"
   ]
  },
  {
   "cell_type": "markdown",
   "metadata": {},
   "source": [
    "## 2. Variables en Python\n",
    "\n",
    "### Teoría\n",
    "Las variables son espacios de memoria donde almacenamos datos. En Python, no es necesario declarar el tipo de la variable, simplemente se asigna un valor con el símbolo `=`.\n",
    "\n",
    "#### Reglas para nombrar variables:\n",
    "- Deben comenzar con una letra o un guion bajo.\n",
    "- No pueden comenzar con un número.\n",
    "- Solo pueden contener letras, números y guiones bajos.\n",
    "- Son sensibles a mayúsculas y minúsculas (`nombre` y `Nombre` son diferentes).\n",
    "\n",
    "### Ejemplo"
   ]
  },
  {
   "cell_type": "code",
   "execution_count": null,
   "metadata": {
    "vscode": {
     "languageId": "powershell"
    }
   },
   "outputs": [],
   "source": [
    "# Declaración de variables\n",
    "mi_nombre = \"Carlos\"\n",
    "edad = 20\n",
    "\n",
    "# Variables válidas\n",
    "nombre_completo = \"Ana Pérez\"\n",
    "_variable_secreta = 42 # convención para indicar que esa variable es protegida.\n",
    "\n",
    "# Variables inválidas (descomentar para ver los errores)\n",
    "# 2variable = 10  # Error: no puede comenzar con un número\n",
    "# nombre completo = \"Juan\"  # Error: no puede contener espacios"
   ]
  },
  {
   "cell_type": "markdown",
   "metadata": {},
   "source": [
    "## 3. Operaciones Básicas de Entrada y Salida\n",
    "\n",
    "### Teoría\n",
    "Las operaciones de entrada y salida son fundamentales para interactuar con el usuario. En Python, utilizamos la función `input()` para capturar datos del usuario y `print()` para mostrar información en pantalla.\n",
    "\n",
    "### Ejemplos"
   ]
  },
  {
   "cell_type": "code",
   "execution_count": null,
   "metadata": {
    "vscode": {
     "languageId": "powershell"
    }
   },
   "outputs": [],
   "source": [
    "# Operación de salida\n",
    "print(\"¡Hola, mundo!\")\n",
    "\n",
    "# Operación de entrada + Saalida con format\n"
   ]
  },
  {
   "cell_type": "markdown",
   "metadata": {},
   "source": [
    "En otros lenguajes, como *Java*, el proceso es similar pero con algunas diferencias en la sintaxis:\n",
    "\n",
    "```Java\n",
    "// Ejemplo en Java\n",
    "import java.util.Scanner;\n",
    "\n",
    "public class EntradaSalida {\n",
    "    public static void main(String[] args) {\n",
    "        Scanner input = new Scanner(System.in);\n",
    "        System.out.print(\"¿Cómo te llamas? \");\n",
    "        String nombre = input.nextLine();\n",
    "        System.out.println(\"Hola, \" + nombre + \"!\");\n",
    "    }\n",
    "}\n",
    "\n",
    "```"
   ]
  },
  {
   "cell_type": "markdown",
   "metadata": {},
   "source": [
    "## 4. Operadores Básicos en Python\n",
    "\n",
    "### Teoría\n",
    "Los operadores en Python nos permiten realizar diversas operaciones con variables y datos. Los más comunes son:\n",
    "\n",
    "- **Operadores matemáticos**: `+`, `-`, `*`, `/`, `//` (división entera), `%` (módulo)\n",
    "- **Operadores de asignación**: `=`, `+=`, `-=`, `*=`, `/=`\n",
    "- **Operadores de comparación**: `==`, `!=`, `<`, `>`, `<=`, `>=`\n",
    "- **Operadores lógicos**: `and`, `or`, `not`\n",
    "\n",
    "### Tabla de Operadores Matemáticos\n",
    "\n",
    "| Operador | Descripción           | Ejemplo           |\n",
    "|----------|-----------------------|-------------------|\n",
    "| `+`      | Suma                  | `5 + 3 = 8`       |\n",
    "| `-`      | Resta                 | `5 - 2 = 3`       |\n",
    "| `*`      | Multiplicación         | `5 * 2 = 10`      |\n",
    "| `/`      | División              | `10 / 2 = 5.0`    |\n",
    "| `//`     | División entera        | `10 // 3 = 3`     |\n",
    "| `%`      | Módulo (resto)         | `10 % 3 = 1`      |\n",
    "\n",
    "### Ejemplos"
   ]
  },
  {
   "cell_type": "markdown",
   "metadata": {},
   "source": [
    "#### Problema 1: Operadores Matemáticos y Comparación en Python\n",
    "\n",
    "Tienes dos variables `a = 10` y `b = 5`. Realiza las siguientes operaciones matemáticas:"
   ]
  },
  {
   "cell_type": "code",
   "execution_count": null,
   "metadata": {
    "vscode": {
     "languageId": "powershell"
    }
   },
   "outputs": [],
   "source": [
    "# Asignacón de variables\n",
    "\n",
    "\n",
    "# Suma y resta\n"
   ]
  },
  {
   "cell_type": "markdown",
   "metadata": {},
   "source": [
    "#### Problema 2: Comparación de Números\n",
    "Usa los siguientes operadores de comparación para verificar la relación entre a y b. ¿Qué resultado esperas?"
   ]
  },
  {
   "cell_type": "code",
   "execution_count": null,
   "metadata": {
    "vscode": {
     "languageId": "powershell"
    }
   },
   "outputs": [],
   "source": [
    "# Operadores de comparación\n",
    "\n",
    "\n",
    "# ¿Es a igual a b?\n",
    "\n",
    "# ¿Es a mayor que b?\n",
    "\n",
    "# ¿Es a menor que b?"
   ]
  },
  {
   "cell_type": "markdown",
   "metadata": {},
   "source": [
    "### Problema 3: Operadores Lógicos\n",
    "Usa operadores lógicos para combinar condiciones. Resuelve el siguiente problema: ¿Es a mayor que 0 y b menor que 10? ¿Qué pasa si a = -10?"
   ]
  },
  {
   "cell_type": "code",
   "execution_count": null,
   "metadata": {
    "vscode": {
     "languageId": "powershell"
    }
   },
   "outputs": [],
   "source": [
    "# Operadores lógicos\n",
    "contrasena = True\n",
    "correo = True\n",
    "\n",
    "# ¿Ambas condiciones son verdaderas?\n",
    "\n",
    "# ¿Al menos una de las condiciones es verdadera?\n",
    "\n",
    "# ¿Es falso que a sea mayor que b?\n"
   ]
  },
  {
   "cell_type": "markdown",
   "metadata": {},
   "source": [
    "### Problema 4: Divisiones y Módulo\n",
    "Prueba las operaciones de división entera y módulo para ver cómo Python maneja los restos de las divisiones."
   ]
  },
  {
   "cell_type": "code",
   "execution_count": null,
   "metadata": {
    "vscode": {
     "languageId": "powershell"
    }
   },
   "outputs": [],
   "source": [
    "# División entera y módulo\n"
   ]
  },
  {
   "cell_type": "markdown",
   "metadata": {},
   "source": [
    "### Ejercicio Final:\n",
    "\n",
    "Combina operadores matemáticos, de comparación y lógicos. Escribe un programa que pida al usuario dos números y realice las siguientes tareas:\n",
    "\n",
    "1. Verifique si el primer número es mayor que el segundo.\n",
    "2. Calcule la suma, resta, división y módulo de ambos.\n",
    "3. Determine si la suma de ambos números es mayor que 20 **y** si alguno de los dos es menor que 5."
   ]
  },
  {
   "cell_type": "code",
   "execution_count": null,
   "metadata": {
    "vscode": {
     "languageId": "powershell"
    }
   },
   "outputs": [],
   "source": [
    "#Respuesta"
   ]
  },
  {
   "cell_type": "markdown",
   "metadata": {},
   "source": [
    "# Estructuras de datos elementales\n",
    "\n",
    "# Listas\n",
    "\n",
    "Las listas son uno de los tipos de datos más importantes y versátiles en Python. Son colecciones ordenadas y mutables que pueden almacenar cualquier tipo de dato, desde números y cadenas de texto hasta objetos complejos.\n",
    "\n",
    "**Creación de listas:**\n",
    "\n",
    "Las listas se pueden crear de varias maneras:\n",
    "\n",
    "- **Usando corchetes (**[]**) y separando los elementos por comas:**"
   ]
  },
  {
   "cell_type": "code",
   "execution_count": null,
   "metadata": {
    "vscode": {
     "languageId": "powershell"
    }
   },
   "outputs": [],
   "source": [
    "#Creando mi primera lista"
   ]
  },
  {
   "cell_type": "code",
   "execution_count": null,
   "metadata": {
    "vscode": {
     "languageId": "powershell"
    }
   },
   "outputs": [],
   "source": [
    "#TRABAJEMO CON LISTAS\n",
    "#          0 1 2 3 4\n",
    "miLista = [1,2,3,4,5]\n",
    "\n",
    "# Para acceder a sus elementos, se utiliza el [Índice] los índices comienzan en 0"
   ]
  },
  {
   "cell_type": "code",
   "execution_count": null,
   "metadata": {
    "vscode": {
     "languageId": "powershell"
    }
   },
   "outputs": [],
   "source": [
    "#Usando la función print() y la función * para desempaquetar los elementos de la lista como argumentos\")"
   ]
  },
  {
   "cell_type": "code",
   "execution_count": null,
   "metadata": {
    "vscode": {
     "languageId": "powershell"
    }
   },
   "outputs": [],
   "source": [
    "#Usando un bucle \"for\" para imprimir todos los elementos de la lista.  "
   ]
  },
  {
   "cell_type": "code",
   "execution_count": null,
   "metadata": {
    "vscode": {
     "languageId": "powershell"
    }
   },
   "outputs": [],
   "source": [
    "# Imprimir la cantidad elementos"
   ]
  },
  {
   "cell_type": "markdown",
   "metadata": {},
   "source": [
    "## Métodos básicos y útiles en Listas \n",
    "\n",
    "### Agregar elementos a una lista en Python\n",
    "Existen dos métodos principales para agregar elementos a una lista en Python:\n",
    "\n",
    "1. append()\n",
    "2. insert()"
   ]
  },
  {
   "cell_type": "code",
   "execution_count": 1,
   "metadata": {},
   "outputs": [
    {
     "name": "stdout",
     "output_type": "stream",
     "text": [
      "['Outlook', 'Hotmail', 'Gmail', 'Yahoo']\n"
     ]
    }
   ],
   "source": [
    "#append(): Este método agrega un elemento al final de la lista\n",
    "correos = [\"Outlook\",\"Hotmail\",\"Gmail\"]\n",
    "correos.append(\"Yahoo\")\n",
    "print(correos)"
   ]
  },
  {
   "cell_type": "code",
   "execution_count": 2,
   "metadata": {},
   "outputs": [
    {
     "name": "stdout",
     "output_type": "stream",
     "text": [
      "['Outlook', 'Zoho Mail', 'Hotmail', 'Gmail', 'Yahoo']\n"
     ]
    }
   ],
   "source": [
    "#insert(): Este método agrega un elemento en una posición específica\n",
    "correos.insert(1,\"Zoho Mail\")\n",
    "print(correos)"
   ]
  },
  {
   "cell_type": "markdown",
   "metadata": {},
   "source": [
    "### Agregar múltiples elementos a una lista"
   ]
  },
  {
   "cell_type": "code",
   "execution_count": 3,
   "metadata": {
    "vscode": {
     "languageId": "powershell"
    }
   },
   "outputs": [
    {
     "name": "stdout",
     "output_type": "stream",
     "text": [
      "['Word', 'Excel', 'Power Point', 'Acces', 'Visio', 'Skype']\n"
     ]
    }
   ],
   "source": [
    "# extend() Agrega los elementos de una lista iterable al final de la lista original\n",
    "paquete = ['Word','Excel','Power Point']\n",
    "adicional = ['Acces','Visio','Skype']\n",
    "paquete.extend(adicional)\n",
    "print(paquete)"
   ]
  },
  {
   "cell_type": "code",
   "execution_count": null,
   "metadata": {
    "vscode": {
     "languageId": "powershell"
    }
   },
   "outputs": [],
   "source": [
    "#Repitir listas utilizando operador de multiplicación (*)\n",
    "Lista1 = [1,2,3]"
   ]
  },
  {
   "cell_type": "markdown",
   "metadata": {
    "vscode": {
     "languageId": "powershell"
    }
   },
   "source": [
    "## Métodos para eliminar elementos de una lista en Python"
   ]
  },
  {
   "cell_type": "code",
   "execution_count": 4,
   "metadata": {
    "vscode": {
     "languageId": "powershell"
    }
   },
   "outputs": [
    {
     "name": "stdout",
     "output_type": "stream",
     "text": [
      "['silla', 'rack', 'sillon']\n"
     ]
    }
   ],
   "source": [
    "#remove(): Este método elimina el primer elemento de la lista que coincida\n",
    "muebles = ['mesa', 'silla', 'rack', 'sillon']\n",
    "muebles.remove('mesa')\n",
    "print(muebles)"
   ]
  },
  {
   "cell_type": "code",
   "execution_count": null,
   "metadata": {
    "vscode": {
     "languageId": "powershell"
    }
   },
   "outputs": [],
   "source": [
    "#pop(): Este método elimina y devuelve el elemento en una posición específica de la lista por medio del índice."
   ]
  },
  {
   "cell_type": "code",
   "execution_count": 11,
   "metadata": {},
   "outputs": [
    {
     "name": "stdout",
     "output_type": "stream",
     "text": [
      "['cama', 'sillon', 'mesa', 'biblioteca']\n"
     ]
    }
   ],
   "source": [
    "MiListaMuebles = [\"cama\", \"sillon\", \"silla\", \"mesa\", \"biblioteca\"]\n",
    "indice = 2\n",
    "del MiListaMuebles[indice]\n",
    "print(MiListaMuebles)  # borro silla el tercero porque empieza a contar desde el cero\n",
    "\n",
    "mi_lista = [10, 20, 30, 40, 50]\n",
    "indice = 2\n",
    "mi_lista.pop(indice)\n",
    "print(mi_lista)  # Salida: [10, 20, 40, 50]"
   ]
  },
  {
   "cell_type": "code",
   "execution_count": 12,
   "metadata": {},
   "outputs": [
    {
     "name": "stdout",
     "output_type": "stream",
     "text": [
      "[]\n"
     ]
    }
   ],
   "source": [
    "#clear(): este métolo eliminar ojo tooooodoooooooos los elementos de una lista \n",
    "mi_lista.clear()\n",
    "print(mi_lista) # borro todo no tiene ningun elemento"
   ]
  },
  {
   "cell_type": "markdown",
   "metadata": {},
   "source": [
    "Ordenar valores con sort()"
   ]
  },
  {
   "cell_type": "code",
   "execution_count": 14,
   "metadata": {},
   "outputs": [
    {
     "name": "stdout",
     "output_type": "stream",
     "text": [
      "[-7, 1, 2, 3.14, 5]\n",
      "['chair', 'rack', 'shelf', 'table']\n",
      "['table', 'shelf', 'rack', 'chair']\n"
     ]
    }
   ],
   "source": [
    "numbers = [2, 5, 3.14, 1, -7]\n",
    "numbers.sort()\n",
    "numbers\n",
    "# [-7, 1, 2, 3.14, 5]\n",
    "\n",
    "furniture = ['table', 'chair', 'rack', 'shelf']\n",
    "furniture.sort()\n",
    "furniture\n",
    "print(numbers)\n",
    "print(furniture)\n",
    "furniture.sort(reverse=True)\n",
    "print(furniture)"
   ]
  },
  {
   "cell_type": "markdown",
   "metadata": {},
   "source": [
    "# Tuplas\n",
    "Diferencia con la lista es que la tupla se puede cambiar mientras la tupla no se puede cambiar\n",
    "Las **tuplas** son una de las estructuras de datos básicas en muchos lenguajes de programación, incluyendo Python. Son colecciones ordenadas y **inmutables** de elementos. Esto significa que una vez que se crea una tupla, no es posible modificar sus elementos (no se pueden añadir, eliminar, o cambiar valores).\n",
    "\n",
    "## Características de las Tuplas\n",
    "\n",
    "- **Ordenadas**: Los elementos en una tupla tienen un orden definido.\n",
    "- **Inmutables**: Una vez creada, la tupla no puede cambiar. Los elementos no pueden ser modificados, añadidos, o eliminados.\n",
    "- **Indexables**: Puedes acceder a los elementos de la tupla por su índice, siendo `0` el índice del primer elemento.\n",
    "- **Permiten duplicados**: Las tuplas pueden tener elementos duplicados.\n",
    "\n",
    "## Creación de Tuplas\n",
    "\n",
    "Para crear una tupla en Python, simplemente coloca los elementos dentro de paréntesis `()` y sepáralos con comas."
   ]
  },
  {
   "cell_type": "code",
   "execution_count": null,
   "metadata": {},
   "outputs": [],
   "source": [
    "#Acceder a elementos de una tupla:\n"
   ]
  },
  {
   "cell_type": "code",
   "execution_count": null,
   "metadata": {},
   "outputs": [],
   "source": [
    "#Utilizar una tupla en un ciclo for:"
   ]
  },
  {
   "cell_type": "code",
   "execution_count": null,
   "metadata": {},
   "outputs": [],
   "source": [
    "#Asignar valores de una tupla a variables:"
   ]
  },
  {
   "cell_type": "code",
   "execution_count": null,
   "metadata": {},
   "outputs": [],
   "source": [
    "#Concatenar dos tuplas:"
   ]
  },
  {
   "cell_type": "code",
   "execution_count": null,
   "metadata": {},
   "outputs": [],
   "source": [
    "#Comprobar si un elemento está en una tupla: Se puede usar el operador in para verificar si un elemento está presente en una tupla.\n"
   ]
  },
  {
   "cell_type": "markdown",
   "metadata": {},
   "source": [
    "### Funciones útiles:\n",
    "\n",
    "- **len(tupla)**: Devuelve la longitud de la tupla.\n",
    "- **max(tupla)**: Devuelve el elemento máximo de la tupla.\n",
    "- **min(tupla)**: Devuelve el elemento mínimo de la tupla.\n",
    "\n",
    "### Cuándo usar tuplas:\n",
    "\n",
    "Las tuplas son una buena opción para almacenar datos que no van a cambiar, como:\n",
    "\n",
    "- Coordenadas en un mapa.\n",
    "- Fechas y horas.\n",
    "- Pares clave-valor en un diccionario."
   ]
  },
  {
   "cell_type": "code",
   "execution_count": 15,
   "metadata": {},
   "outputs": [
    {
     "name": "stdout",
     "output_type": "stream",
     "text": [
      "(1, 2, 3, 2, 'a', 'b', 'c')\n",
      "1\n",
      "2\n"
     ]
    }
   ],
   "source": [
    "tupla = (1,2,3,2,'a','b','c')\n",
    "print(tupla)\n",
    "print(tupla[0])\n",
    "print(tupla[3])"
   ]
  },
  {
   "cell_type": "code",
   "execution_count": 16,
   "metadata": {},
   "outputs": [
    {
     "name": "stdout",
     "output_type": "stream",
     "text": [
      "Posición:  5\n"
     ]
    }
   ],
   "source": [
    "posicion = tupla.index('b')\n",
    "print(\"Posición: \", posicion)"
   ]
  },
  {
   "cell_type": "code",
   "execution_count": 17,
   "metadata": {},
   "outputs": [
    {
     "name": "stdout",
     "output_type": "stream",
     "text": [
      "Cantida de repeticiones de dos:  2\n"
     ]
    }
   ],
   "source": [
    "numDos = tupla.count(2)\n",
    "print(\"Cantida de repeticiones de dos: \", numDos)"
   ]
  },
  {
   "cell_type": "code",
   "execution_count": 18,
   "metadata": {},
   "outputs": [
    {
     "name": "stdout",
     "output_type": "stream",
     "text": [
      "1\n",
      "2\n",
      "3\n",
      "2\n",
      "a\n",
      "b\n",
      "c\n"
     ]
    }
   ],
   "source": [
    "#Utilizar una tupla en un ciclo for:\n",
    "#Utilizar una tupla en un ciclo for:\n",
    "for elemento in tupla:\n",
    "    print(elemento)"
   ]
  },
  {
   "cell_type": "code",
   "execution_count": 19,
   "metadata": {},
   "outputs": [
    {
     "name": "stdout",
     "output_type": "stream",
     "text": [
      "Luis\n",
      "Ferreto\n",
      "32\n"
     ]
    }
   ],
   "source": [
    "#Asignar valores de una tupla a variables:\n",
    "tupla = (\"Luis\", \"Ferreto\", 32)\n",
    "Nombre,Apellido,edad = tupla\n",
    "print(Nombre)\n",
    "print(Apellido)\n",
    "print(edad)"
   ]
  },
  {
   "cell_type": "code",
   "execution_count": 20,
   "metadata": {},
   "outputs": [
    {
     "name": "stdout",
     "output_type": "stream",
     "text": [
      "(1, 2, 3, 4, 5, 6)\n"
     ]
    }
   ],
   "source": [
    "#Concatenar dos tuplas\n",
    "Tupla1 = (1,2,3)\n",
    "Tupla2 = (4,5,6)\n",
    "Tupla3 = Tupla1 + Tupla2\n",
    "print(Tupla3)"
   ]
  },
  {
   "cell_type": "markdown",
   "metadata": {},
   "source": [
    "\n",
    "## **Creación de diccionarios:**\n",
    "Los diccionarios son colecciones no ordenadas que almacenan pares\n",
    "clave-valor en Python. Son una herramienta poderosa para almacenar y\n",
    "acceder a datos de una manera eficiente.\n",
    "\n",
    "Los diccionarios se pueden crear de varias maneras:\n",
    "\n",
    "-   **Usando llaves **{}** con pares clave-valor separados por dos\n",
    "    puntos:**\n",
    "\n",
    "```Python"
   ]
  },
  {
   "cell_type": "code",
   "execution_count": 22,
   "metadata": {},
   "outputs": [
    {
     "name": "stdout",
     "output_type": "stream",
     "text": [
      "{'talla': 'pequeña', 'color': 'gis', 'disposition': 'loud', 'ojos': 'azules'}\n"
     ]
    }
   ],
   "source": [
    "#Crear un diccionario\n",
    "my_cat = {\n",
    "    'talla': 'pequeña',\n",
    "    'color': 'gis',\n",
    "    'disposition': 'loud',\n",
    "    'ojos' : 'azules'\n",
    "}\n",
    "print(my_cat)"
   ]
  },
  {
   "cell_type": "code",
   "execution_count": 30,
   "metadata": {},
   "outputs": [
    {
     "name": "stdout",
     "output_type": "stream",
     "text": [
      "{'talla': 'gordisimo', 'color': 'negro', 'disposition': 'loud', 'edad': 2}\n",
      "color\n",
      "edad\n"
     ]
    }
   ],
   "source": [
    "#Agregar nuevos pares clave-valor a un diccionario\n",
    "my_cat = {\n",
    "'talla': 'gordisimo',\n",
    "'color': 'negro',\n",
    "'disposition': 'loud',\n",
    "}\n",
    "my_cat['edad'] = 2\n",
    "print(my_cat)\n",
    "#y para imprimir clave o categoria \n",
    "\n",
    "my_cat = {'color': 'red', 'edad': 42}\n",
    "for key in my_cat.keys():\n",
    "    print(key)"
   ]
  },
  {
   "cell_type": "code",
   "execution_count": 38,
   "metadata": {},
   "outputs": [
    {
     "name": "stdout",
     "output_type": "stream",
     "text": [
      "red\n",
      "42\n",
      "imprime los elementos\n",
      "('color', 'red')\n",
      "('age', 42)\n",
      "*******************\n",
      "color red\n",
      "age 42\n",
      "*******************\n",
      "Key: color Value: red\n",
      "Key: age Value: 42\n",
      "DEVUELVE EL VALOR DE LA CLAVE\n"
     ]
    },
    {
     "data": {
      "text/plain": [
       "'She is deeply in love with lover'"
      ]
     },
     "execution_count": 38,
     "metadata": {},
     "output_type": "execute_result"
    }
   ],
   "source": [
    "#Recorriendo Claves y valores en For\n",
    "pet = {'color': 'red', 'age': 42}\n",
    "for value in pet.values():\n",
    "    print(value)\n",
    "\n",
    "print(\"imprime los elementos\")\n",
    "pet = {'color': 'red', 'age': 42}\n",
    "for item in pet.items():\n",
    "    print(item)\n",
    "print(\"*******************\")\n",
    "for item in pet.items():\n",
    "    print(*item)\n",
    "print(\"*******************\")\n",
    "pet = {'color': 'red', 'age': 42}\n",
    "for key, value in pet.items():\n",
    "    print(f'Key: {key} Value: {value}')\n",
    "print(\"DEVUELVE EL VALOR DE LA CLAVE\")\n",
    "wife = {'name': 'Rose', 'age': 33}\n",
    "\n",
    "f'My wife name is {wife.get(\"name\")}' # 'My wife name is Rose'\n",
    "f'She is {wife.get(\"age\")} years old.' # 'She is 33 years old.'\n",
    "\n",
    "f'She is deeply in love with {wife.get(\"husband\")}'\n",
    "f'She is deeply in love with {wife.get(\"husband\", \"lover\")}'"
   ]
  },
  {
   "cell_type": "code",
   "execution_count": 40,
   "metadata": {},
   "outputs": [
    {
     "name": "stdout",
     "output_type": "stream",
     "text": [
      "{'name': 'Rose', 'age': 33, 'hair': 'brown'}\n",
      "**************** BORRA POR LA LLAVE\n"
     ]
    },
    {
     "data": {
      "text/plain": [
       "{'name': 'Rose', 'hair': 'brown'}"
      ]
     },
     "execution_count": 40,
     "metadata": {},
     "output_type": "execute_result"
    }
   ],
   "source": [
    "#Eliminar elementos del diccionario, BORRO AGE\n",
    "wife = {'name': 'Rose', 'age': 33, 'hair': 'brown'}\n",
    "print(wife)\n",
    "wife.pop('age')\n",
    "# 33\n",
    "wife\n",
    "#******************************** PARA BORRAR EL ULTIMO ELEMENTO\n",
    "wife = {'name': 'Rose', 'age': 33, 'hair': 'brown'}\n",
    "wife.popitem()\n",
    "# ('hair', 'brown')\n",
    "wife\n",
    "print(\"**************** BORRA POR LA LLAVE\")\n",
    "wife = {'name': 'Rose', 'age': 33, 'hair': 'brown'}\n",
    "del wife['age']\n",
    "wife\n",
    "print(\"borra todo\")\n",
    "wife = {'name': 'Rose', 'age': 33, 'hair': 'brown'}\n",
    "wife.clear()\n",
    "wife"
   ]
  },
  {
   "cell_type": "code",
   "execution_count": 43,
   "metadata": {},
   "outputs": [
    {
     "data": {
      "text/plain": [
       "{'a': 1, 'b': 3, 'c': 4}"
      ]
     },
     "execution_count": 43,
     "metadata": {},
     "output_type": "execute_result"
    }
   ],
   "source": [
    "#Comprobar si una clave existe en el diccionario\n",
    "person = {'name': 'Rose', 'age': 33}\n",
    "\n",
    "'name' in person.keys()\n",
    "# True\n",
    "\n",
    "'height' in person.keys()\n",
    "# False\n",
    "\n",
    "'skin' in person # You can omit keys()\n",
    "# False\n",
    "\n",
    "person = {'name': 'Rose', 'age': 33}\n",
    "\n",
    "'Rose' in person.values()\n",
    "# True\n",
    "\n",
    "33 in person.values()\n",
    "# True\n",
    "\n",
    "\n",
    "#************ para combinar toma el ultimo y sustituye el primero cono en el caso de la b\n",
    "dict_a = {'a': 1, 'b': 2}\n",
    "dict_b = {'b': 3, 'c': 4}\n",
    "dict_c = {**dict_a, **dict_b}\n",
    "dict_c"
   ]
  },
  {
   "cell_type": "code",
   "execution_count": null,
   "metadata": {},
   "outputs": [],
   "source": [
    "#Zip(). Esta función toma dos o más listas y devuelve un \n",
    "# objeto iterable que contiene tuplas con los elementos\n",
    "# correspondientes de cada lista.\n",
    "\n",
    "\n"
   ]
  }
 ],
 "metadata": {
  "kernelspec": {
   "display_name": "Python 3",
   "language": "python",
   "name": "python3"
  },
  "language_info": {
   "codemirror_mode": {
    "name": "ipython",
    "version": 3
   },
   "file_extension": ".py",
   "mimetype": "text/x-python",
   "name": "python",
   "nbconvert_exporter": "python",
   "pygments_lexer": "ipython3",
   "version": "3.13.1"
  }
 },
 "nbformat": 4,
 "nbformat_minor": 2
}
